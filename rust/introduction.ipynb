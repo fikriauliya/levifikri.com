{
 "cells": [
  {
   "cell_type": "raw",
   "metadata": {
    "vscode": {
     "languageId": "raw"
    }
   },
   "source": [
    "---\n",
    "format:\n",
    "  html:\n",
    "    toc: true\n",
    "order: 0\n",
    "title: Introduction\n",
    "---"
   ]
  },
  {
   "cell_type": "markdown",
   "metadata": {},
   "source": [
    "Rust has been on its seventh year as the  most **loved** programming language in the [Stack Overflow Developer Survey](https://survey.stackoverflow.co/2022#technology-most-loved-dreaded-and-wanted)\n",
    "\n",
    "![Stack Overflow Survey, 2022](./assets/stackoverflow-survey.png)\n",
    "\n",
    "Yet, learning Rust can be a challenge for beginners, or even experienced developers. Rust tends to have a steep learning curve, it can be intimidating, especially if you are coming from a high-level language like Python or JavaScript.\n",
    "\n",
    "In this notebook, I will **demystify** complex Rust concepts and make it easier learn Rust. I won't cover everything, but the focus will be to **accelerate** our learning curve and make **difficult concepts easier to understand**.\n",
    "\n",
    "> I write this Notebook while also (re-)learning Rust\n",
    "\n",
    "Topics that would be covered in this notebook:\n",
    "\n",
    "- [Ownership & Borrowing](./ownership.ipynb)\n",
    "- Lifetimes (Todo)\n",
    "- Generic (Todo)\n",
    "- Box, Rc, Cell, Arc (Todo)\n",
    "- Error Handling (Todo)\n",
    "- Functional Programming (Todo)\n",
    "- Macro (Todo)\n",
    "- Concurrency (Todo)"
   ]
  }
 ],
 "metadata": {
  "language_info": {
   "name": "python"
  }
 },
 "nbformat": 4,
 "nbformat_minor": 2
}
