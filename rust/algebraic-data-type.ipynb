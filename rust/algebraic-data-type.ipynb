{
 "cells": [
  {
   "cell_type": "raw",
   "metadata": {
    "vscode": {
     "languageId": "raw"
    }
   },
   "source": [
    "---\n",
    "format:\n",
    "  html\n",
    "order: 2\n",
    "title: ADT & Pattern Matching\n",
    "---"
   ]
  },
  {
   "cell_type": "markdown",
   "metadata": {},
   "source": [
    "# Algebraic Data Types\n",
    "\n",
    "What is that thing?\n",
    "\n",
    "It sounds fancy, but it's just a way to define a new type in terms of other types.\n",
    "\n",
    "But why not just call it a \"composite type\"? Well, the term \"algebraic data type\" comes from the fact that these types can be thought of as solutions to algebraic equations. i.e. we can create a new type by combining other types using operations like addition and multiplication.\n",
    "\n",
    "We'll see what that means in a bit.\n",
    "\n",
    "There are two main kinds of algebraic data types: product types and sum types. "
   ]
  },
  {
   "cell_type": "markdown",
   "metadata": {},
   "source": [
    "## Product Type\n",
    "\n",
    "Product Type is a type that contains multiple values, each with its own type. \n",
    "\n",
    "What are they? You may have already seen them in the form of tuples, structs, array, etc. \n",
    "\n",
    "Basically they are just a collection of values. And if we wish, we can represent them all as a tuple."
   ]
  },
  {
   "cell_type": "markdown",
   "metadata": {},
   "source": [
    "Let's start from a primitive types:"
   ]
  },
  {
   "cell_type": "code",
   "execution_count": 3,
   "metadata": {
    "vscode": {
     "languageId": "rust"
    }
   },
   "outputs": [],
   "source": [
    "let name = \"Levi\";\n",
    "let age = 25;"
   ]
  },
  {
   "cell_type": "markdown",
   "metadata": {},
   "source": [
    "Adding more info..."
   ]
  },
  {
   "cell_type": "code",
   "execution_count": 4,
   "metadata": {
    "vscode": {
     "languageId": "rust"
    }
   },
   "outputs": [],
   "source": [
    "let name = \"Levi\";\n",
    "let age = 25;\n",
    "let gender = \"Male\";\n",
    "let address = \"1234 Main St\";\n",
    "let city = \"San Francisco\";\n",
    "let state = \"CA\";"
   ]
  },
  {
   "cell_type": "markdown",
   "metadata": {},
   "source": [
    "It looks a lot, let's group some of them into a tuple:"
   ]
  },
  {
   "cell_type": "code",
   "execution_count": 5,
   "metadata": {
    "vscode": {
     "languageId": "rust"
    }
   },
   "outputs": [],
   "source": [
    "let name = \"Levi\";\n",
    "let age = 25;\n",
    "let gender = \"Male\";\n",
    "// tuple\n",
    "let address = (\"1234 Main St\", \"San Francisco\", \"CA\");"
   ]
  },
  {
   "cell_type": "markdown",
   "metadata": {},
   "source": [
    "Grouping further..."
   ]
  },
  {
   "cell_type": "code",
   "execution_count": 6,
   "metadata": {
    "vscode": {
     "languageId": "rust"
    }
   },
   "outputs": [],
   "source": [
    "let person = (\"Levi\", 25, \"Male\", (\"1234 Main St\", \"San Francisco\", \"CA\"));"
   ]
  },
  {
   "cell_type": "markdown",
   "metadata": {},
   "source": [
    "How to get the age of a person? Just access the second element of the tuple!"
   ]
  },
  {
   "cell_type": "code",
   "execution_count": 12,
   "metadata": {
    "vscode": {
     "languageId": "rust"
    }
   },
   "outputs": [
    {
     "name": "stdout",
     "output_type": "stream",
     "text": [
      "age: 25\n",
      "gender: Male\n"
     ]
    }
   ],
   "source": [
    "fn get_age(person: (&str, i32, &str, (&str, &str, &str))) -> i32 {\n",
    "    person.1\n",
    "}\n",
    "\n",
    "fn get_gender(person: (&str, i32, &str, (&str, &str, &str))) -> String {\n",
    "    person.2.to_string()\n",
    "}\n",
    "\n",
    "println!(\"age: {}\", get_age(person));\n",
    "println!(\"gender: {}\", get_gender(person));\n"
   ]
  },
  {
   "cell_type": "markdown",
   "metadata": {},
   "source": [
    "### Named `tuple` == `struct`\n",
    "\n",
    "A tuple is a very simple form of a product type. But it's not very readable, isn't it?\n",
    "\n",
    "We can create a struct to give names to the fields:"
   ]
  },
  {
   "cell_type": "code",
   "execution_count": 10,
   "metadata": {
    "vscode": {
     "languageId": "rust"
    }
   },
   "outputs": [
    {
     "name": "stdout",
     "output_type": "stream",
     "text": [
      "name: Levi\n"
     ]
    },
    {
     "name": "stdout",
     "output_type": "stream",
     "text": [
      "age: 25\n"
     ]
    }
   ],
   "source": [
    "struct Person {\n",
    "    name: String,\n",
    "    age: i32,\n",
    "    gender: String,\n",
    "    address: Address,\n",
    "}\n",
    "\n",
    "struct Address {\n",
    "    street: String,\n",
    "    city: String,\n",
    "    state: String,\n",
    "}\n",
    "\n",
    "fn main() {\n",
    "    // this is similar to\n",
    "    // let person = (\"Levi\", 25, \"Male\", (\"1234 Main St\", \"San Francisco\", \"CA\"));\n",
    "    let person = Person {\n",
    "        name: \"Levi\".to_string(),\n",
    "        age: 25,\n",
    "        gender: \"Male\".to_string(),\n",
    "        address: Address {\n",
    "            street: \"1234 Main St\".to_string(),\n",
    "            city: \"San Francisco\".to_string(),\n",
    "            state: \"CA\".to_string(),\n",
    "        },\n",
    "    };\n",
    "    println!(\"name: {}\", person.name);\n",
    "    println!(\"age: {}\", person.age);\n",
    "}\n",
    "main();"
   ]
  },
  {
   "cell_type": "markdown",
   "metadata": {},
   "source": [
    "That's a lot more readable! But essentially, it's the same thing as a tuple."
   ]
  },
  {
   "cell_type": "markdown",
   "metadata": {},
   "source": [
    "### Long `tuple` == `array`"
   ]
  },
  {
   "cell_type": "markdown",
   "metadata": {},
   "source": [
    "Now, let's make more persons:"
   ]
  },
  {
   "cell_type": "code",
   "execution_count": 11,
   "metadata": {
    "vscode": {
     "languageId": "rust"
    }
   },
   "outputs": [
    {
     "name": "stdout",
     "output_type": "stream",
     "text": [
      "names: (\"Levi\", \"Eren\")\n"
     ]
    }
   ],
   "source": [
    "// get names of two persons\n",
    "fn get_names(person_1: &Person, person_2: &Person) -> (String, String) {\n",
    "    (person_1.name.clone(), person_2.name.clone())\n",
    "}\n",
    "\n",
    "fn main() {\n",
    "    // create two persons\n",
    "    let person_1 = Person {\n",
    "        name: \"Levi\".to_string(),\n",
    "        age: 25,\n",
    "        gender: \"Male\".to_string(),\n",
    "        address: Address {\n",
    "            street: \"1234 Main St\".to_string(),\n",
    "            city: \"San Francisco\".to_string(),\n",
    "            state: \"CA\".to_string(),\n",
    "        },\n",
    "    };\n",
    "    let person_2 = Person {\n",
    "        name: \"Eren\".to_string(),\n",
    "        age: 24,\n",
    "        gender: \"Male\".to_string(),\n",
    "        address: Address {\n",
    "            street: \"5678 Main St\".to_string(),\n",
    "            city: \"San Francisco\".to_string(),\n",
    "            state: \"CA\".to_string(),\n",
    "        },\n",
    "    };\n",
    "    let names = get_names(&person_1, &person_2);\n",
    "    println!(\"names: {:?}\", names);\n",
    "}\n",
    "main();"
   ]
  },
  {
   "cell_type": "markdown",
   "metadata": {},
   "source": [
    "How about if we have 100 persons?\n",
    "\n",
    "Do we need to define 100 variables? No, of course we can use an array (`vec` in Rust)"
   ]
  },
  {
   "cell_type": "code",
   "execution_count": 12,
   "metadata": {
    "vscode": {
     "languageId": "rust"
    }
   },
   "outputs": [
    {
     "name": "stdout",
     "output_type": "stream",
     "text": [
      "names: [\"Levi\", \"Eren\"]\n"
     ]
    }
   ],
   "source": [
    "fn get_names(person: &Vec<Person>) -> Vec<String> {\n",
    "    // loop through each person and get their name\n",
    "    person.iter().map(|p| p.name.clone()).collect()\n",
    "}\n",
    "\n",
    "fn main() {\n",
    "    // people == array of persons\n",
    "    let people = vec![\n",
    "        Person {\n",
    "            name: \"Levi\".to_string(),\n",
    "            age: 25,\n",
    "            gender: \"Male\".to_string(),\n",
    "            address: Address {\n",
    "                street: \"1234 Main St\".to_string(),\n",
    "                city: \"San Francisco\".to_string(),\n",
    "                state: \"CA\".to_string(),\n",
    "            },\n",
    "        },\n",
    "        Person {\n",
    "            name: \"Eren\".to_string(),\n",
    "            age: 24,\n",
    "            gender: \"Male\".to_string(),\n",
    "            address: Address {\n",
    "                street: \"5678 Main St\".to_string(),\n",
    "                city: \"San Francisco\".to_string(),\n",
    "                state: \"CA\".to_string(),\n",
    "            },\n",
    "        }\n",
    "    ];\n",
    "\n",
    "    let names = get_names(&people);\n",
    "    println!(\"names: {:?}\", names);\n",
    "}\n",
    "main();"
   ]
  },
  {
   "cell_type": "markdown",
   "metadata": {},
   "source": [
    "Cool! But that's essentially the same thing as this tuple:"
   ]
  },
  {
   "cell_type": "code",
   "execution_count": 27,
   "metadata": {
    "vscode": {
     "languageId": "rust"
    }
   },
   "outputs": [
    {
     "name": "stdout",
     "output_type": "stream",
     "text": [
      "((\"Levi\", 25, \"Male\", (\"1234 Main St\", \"San Francisco\", \"CA\")), (\"Eren\", 24, \"Male\"), (\"5678 Main St\", \"San Francisco\", \"CA\"))\n"
     ]
    }
   ],
   "source": [
    "let people = (\n",
    "    (\"Levi\", 25, \"Male\", (\"1234 Main St\", \"San Francisco\", \"CA\")),\n",
    "    (\"Eren\", 24, \"Male\"), (\"5678 Main St\", \"San Francisco\", \"CA\"));\n",
    "\n",
    "println!(\"{:?}\", people);"
   ]
  },
  {
   "cell_type": "markdown",
   "metadata": {},
   "source": [
    "But yes the tuple one is not easily readable. Array helps us to group the same type of data."
   ]
  },
  {
   "cell_type": "markdown",
   "metadata": {},
   "source": [
    "### Cardinality\n",
    "\n",
    "The number of possible values of a product type is the product of the number of possible values of each of its components.\n",
    "\n",
    "For example, if we have a product type with two fields, one of which can take 3 values and the other can take 4 values, then the product type can take 3 * 4 = 12 values.\n",
    "\n",
    "```rust\n",
    "animals = [\"cat\", \"dog\", \"fish\"] // -> 3\n",
    "colors = [\"red\", \"green\", \"blue\", \"yellow\"] // -> 4\n",
    "\n",
    "// Tuples\n",
    "animals_colors = (animals, colors) // -> 3 * 4 = 12\n",
    "// there are 12 possible pairs of animals and colors\n",
    "\n",
    "// Struct\n",
    "struct Zoo {\n",
    "    animal: String, // -> 3\n",
    "    color: String, // -> 4\n",
    "} // -> 12\n",
    "\n",
    "// Array\n",
    "animals = [animals, // 3\n",
    "           animals // 3\n",
    "           ] // -> 3 * 3 = 9\n",
    "```"
   ]
  },
  {
   "cell_type": "markdown",
   "metadata": {},
   "source": [
    "So, as the name implies, a product type is like a product (*) in mathematics. The number of possible values of a product type is the product of the number of possible values of each of its components.\n",
    "\n",
    "Remember this concept, we will see it again later."
   ]
  },
  {
   "cell_type": "markdown",
   "metadata": {},
   "source": [
    "## Sum Type"
   ]
  },
  {
   "cell_type": "markdown",
   "metadata": {},
   "source": [
    "Sum types are types that can have different forms. They are also called \"tagged unions\" or \"variants\"\n",
    "\n",
    "They are a way to define a type that can be **one of** several different things."
   ]
  },
  {
   "cell_type": "code",
   "execution_count": 31,
   "metadata": {
    "vscode": {
     "languageId": "rust"
    }
   },
   "outputs": [],
   "source": [
    "enum Role {\n",
    "    Admin,\n",
    "    User,\n",
    "    Guest,\n",
    "}\n",
    "\n",
    "struct Person {\n",
    "    name: String,\n",
    "    role: Role,\n",
    "}\n",
    "\n",
    "fn main() {\n",
    "    let levi = Person {\n",
    "        name: \"Levi\".to_string(),\n",
    "        role: Role::Admin,\n",
    "    };\n",
    "    let eren = Person {\n",
    "        name: \"Eren\".to_string(),\n",
    "        role: Role::User,\n",
    "    };\n",
    "}"
   ]
  },
  {
   "cell_type": "markdown",
   "metadata": {},
   "source": [
    "A role can be **either** an Admin, a User, or a Guest. \n",
    "\n",
    "We can then use it like this:"
   ]
  },
  {
   "cell_type": "code",
   "execution_count": 33,
   "metadata": {
    "vscode": {
     "languageId": "rust"
    }
   },
   "outputs": [],
   "source": [
    "fn can_access_restricted_content(person: &Person) -> bool {\n",
    "    match person.role {\n",
    "        Role::Admin => true,\n",
    "        Role::User => true,\n",
    "        Role::Guest => false,\n",
    "    }\n",
    "}"
   ]
  },
  {
   "cell_type": "markdown",
   "metadata": {},
   "source": [
    "### Constant"
   ]
  },
  {
   "cell_type": "markdown",
   "metadata": {},
   "source": [
    "You may ask, can we just represent a sum type by using a constant?\n",
    "\n",
    "Yes, we can. But it's not recommended because it's not type-safe"
   ]
  },
  {
   "cell_type": "code",
   "execution_count": 11,
   "metadata": {
    "vscode": {
     "languageId": "rust"
    }
   },
   "outputs": [],
   "source": [
    "const ADMIN: &'static str = \"Admin\";\n",
    "const USER: &'static str = \"User\";\n",
    "const GUEST: &'static str = \"Guest\";\n",
    "\n",
    "struct Person {\n",
    "    name: String,\n",
    "    // use the constants\n",
    "    role: &'static str,\n",
    "}\n",
    "\n",
    "fn main() {\n",
    "    let levi = Person {\n",
    "        name: \"Levi\".to_string(),\n",
    "        // a string constant\n",
    "        role: ADMIN,\n",
    "    };\n",
    "    let eren = Person {\n",
    "        name: \"Eren\".to_string(),\n",
    "        role: USER,\n",
    "    };\n",
    "    let armin = Person {\n",
    "        name: \"Armin\".to_string(),\n",
    "        role: GUEST,\n",
    "    };\n",
    "}"
   ]
  },
  {
   "cell_type": "markdown",
   "metadata": {},
   "source": [
    "But what prevent someone to assign a wrong value?"
   ]
  },
  {
   "cell_type": "code",
   "execution_count": 5,
   "metadata": {
    "vscode": {
     "languageId": "rust"
    }
   },
   "outputs": [],
   "source": [
    "let mikasa = Person {\n",
    "    name: \"Mikasa\".to_string(),\n",
    "    role: \"TITAN\" //this WILL still compile. But \"TITAN\" is not a valid role\n",
    "};"
   ]
  },
  {
   "cell_type": "markdown",
   "metadata": {},
   "source": [
    "Moreover, since those contants are not explicitly grouped, it's harder to know what values are possible. \n",
    "\n",
    "We would end up adding comments to explain it or adding prefixes to the constant names or put them inside namespaces, e.g.:"
   ]
  },
  {
   "cell_type": "code",
   "execution_count": 6,
   "metadata": {
    "vscode": {
     "languageId": "rust"
    }
   },
   "outputs": [],
   "source": [
    "const ROLE_ADMIN: &'static str = \"Admin\";\n",
    "const ROLE_USER: &'static str = \"User\";\n",
    "const ROLE_GUEST: &'static str = \"Guest\";"
   ]
  },
  {
   "cell_type": "markdown",
   "metadata": {},
   "source": [
    "And the major downside is that we loss the safety of pattern matching"
   ]
  },
  {
   "cell_type": "code",
   "execution_count": 8,
   "metadata": {
    "vscode": {
     "languageId": "rust"
    }
   },
   "outputs": [],
   "source": [
    "fn can_access_restricted_content(person: &Person) -> bool {\n",
    "    match person.role {\n",
    "        ROLE_ADMIN => true,\n",
    "        ROLE_USER => true,\n",
    "        // if we forget to add this, the code will STILL compile\n",
    "        // ROLE_GUEST => false,\n",
    "        _ => true,\n",
    "    }\n",
    "}"
   ]
  },
  {
   "cell_type": "code",
   "execution_count": 16,
   "metadata": {
    "vscode": {
     "languageId": "rust"
    }
   },
   "outputs": [
    {
     "data": {
      "text/plain": [
       "true"
      ]
     },
     "execution_count": 16,
     "metadata": {},
     "output_type": "execute_result"
    }
   ],
   "source": [
    "let armin = Person {\n",
    "    name: \"Armin\".to_string(),\n",
    "    role: GUEST,\n",
    "};\n",
    "// we want it to be false, but it will be true\n",
    "can_access_restricted_content(&armin)"
   ]
  },
  {
   "cell_type": "markdown",
   "metadata": {},
   "source": [
    "### Attaching Additional Data\n",
    "\n",
    "What if we need to store additional data for each role? i.e. not only a constant but also with some data\n",
    "\n",
    "For example, a chat can be either:\n",
    "- a text message: contains a string\n",
    "- an image: contains a URL and a caption\n",
    "- a video: contains a video URL and a thumbnail URL\n",
    "\n",
    "How to model that?"
   ]
  },
  {
   "cell_type": "markdown",
   "metadata": {},
   "source": [
    "### Tagged Struct"
   ]
  },
  {
   "cell_type": "markdown",
   "metadata": {},
   "source": [
    "Let's try in Python, we define structs with a tag field (`type`)\n",
    "\n",
    "Then, whenever we want to process a message, we check the tag field to know what kind of message it is\n",
    "\n",
    "```python\n",
    "class TextMessage:\n",
    "    def __init__(self, text):\n",
    "        # tag field\n",
    "        self.type = \"Text\"\n",
    "        self.text = text\n",
    "\n",
    "\n",
    "class ImageMessage:\n",
    "    def __init__(self, url, caption):\n",
    "        self.type = \"Image\"\n",
    "        self.url = url\n",
    "        self.caption = caption\n",
    "\n",
    "\n",
    "class VideoMessage:\n",
    "    def __init__(self, video_url, thumbnail_url):\n",
    "        self.type = \"Video\"\n",
    "        self.video_url = video_url\n",
    "        self.thumbnail_url = thumbnail_url\n",
    "\n",
    "\n",
    "# Create a function to process messages\n",
    "def process_message(message):\n",
    "    # check the tag field\n",
    "    message_type = message.type\n",
    "\n",
    "    if message_type == \"Text\":\n",
    "        print(f\"Text message: {message.text}\")\n",
    "    elif message_type == \"Image\":\n",
    "        print(\"Image message:\")\n",
    "        print(f\"URL: {message.url}\")\n",
    "        print(f\"Caption: {message.caption}\")\n",
    "    elif message_type == \"Video\":\n",
    "        print(\"Video message:\")\n",
    "        print(f\"Video URL: {message.video_url}\")\n",
    "        print(f\"Thumbnail URL: {message.thumbnail_url}\")\n",
    "    else:\n",
    "        print(\"Unknown message type\")\n",
    "\n",
    "\n",
    "# Example usage\n",
    "text_message = TextMessage(\"Hello, world!\")\n",
    "image_message = ImageMessage(\n",
    "    \"https://example.com/image.jpg\", \"A beautiful sunset\")\n",
    "video_message = VideoMessage(\n",
    "    \"https://example.com/video.mp4\", \"https://example.com/thumbnail.jpg\")\n",
    "\n",
    "process_message(text_message)\n",
    "process_message(image_message)\n",
    "process_message(video_message)\n",
    "\n",
    "```"
   ]
  },
  {
   "cell_type": "markdown",
   "metadata": {},
   "source": [
    "### Class\n",
    "\n",
    "Why do we need to store `type` field? Can we just use the class? Anyway, class inherently has a type\n",
    "\n",
    "```python\n",
    "# Define classes for each message type\n",
    "class TextMessage:\n",
    "    def __init__(self, text):\n",
    "        # no more tag field\n",
    "        self.text = text\n",
    "\n",
    "\n",
    "class ImageMessage:\n",
    "    def __init__(self, url, caption):\n",
    "        self.url = url\n",
    "        self.caption = caption\n",
    "\n",
    "\n",
    "class VideoMessage:\n",
    "    def __init__(self, video_url, thumbnail_url):\n",
    "        self.video_url = video_url\n",
    "        self.thumbnail_url = thumbnail_url\n",
    "\n",
    "\n",
    "def process_message(message):\n",
    "    # use isinstance to check the type of the object\n",
    "    if isinstance(message, TextMessage):\n",
    "        print(f\"Text message: {message.text}\")\n",
    "    elif isinstance(message, ImageMessage):\n",
    "        print(\"Image message:\")\n",
    "        print(f\"URL: {message.url}\")\n",
    "        print(f\"Caption: {message.caption}\")\n",
    "    elif isinstance(message, VideoMessage):\n",
    "        print(\"Video message:\")\n",
    "        print(f\"Video URL: {message.video_url}\")\n",
    "        print(f\"Thumbnail URL: {message.thumbnail_url}\")\n",
    "    else:\n",
    "        print(\"Unknown message type\")\n",
    "\n",
    "\n",
    "# Example usage\n",
    "text_message = TextMessage(\"Hello, world!\")\n",
    "image_message = ImageMessage(\n",
    "    \"https://example.com/image.jpg\", \"A beautiful sunset\")\n",
    "video_message = VideoMessage(\n",
    "    \"https://example.com/video.mp4\", \"https://example.com/thumbnail.jpg\")\n",
    "\n",
    "process_message(text_message)\n",
    "process_message(image_message)\n",
    "process_message(video_message)\n",
    "```\n",
    "\n",
    "This is exactly how we model a sum type in languages that don't have built-in support for sum types. **We use classes** to represent the different forms of the sum type, and we use the type of the object to determine which form it is.\n",
    "\n",
    "In OOP, we can further improve the code by using polymorphism (i.e. create a base class, move `process_message` method to the base class, so that we can getting rid of the `if-else` statement)\n",
    "\n",
    "Let's try that in Golang:"
   ]
  },
  {
   "cell_type": "markdown",
   "metadata": {},
   "source": [
    "```go\n",
    "package main\n",
    "\n",
    "import \"fmt\"\n",
    "\n",
    "// Define an interface for the message\n",
    "type Message interface {\n",
    "\tprocess()\n",
    "}\n",
    "\n",
    "// Define structs for each message type\n",
    "type TextMessage struct {\n",
    "\tText string\n",
    "}\n",
    "\n",
    "type ImageMessage struct {\n",
    "\tURL     string\n",
    "\tCaption string\n",
    "}\n",
    "\n",
    "type VideoMessage struct {\n",
    "\tVideoURL     string\n",
    "\tThumbnailURL string\n",
    "}\n",
    "\n",
    "// Implement the process method for each message type\n",
    "func (m TextMessage) process() {\n",
    "\tfmt.Printf(\"Text message: %s\\n\", m.Text)\n",
    "}\n",
    "\n",
    "func (m ImageMessage) process() {\n",
    "\tfmt.Println(\"Image message:\")\n",
    "\tfmt.Printf(\"URL: %s\\n\", m.URL)\n",
    "\tfmt.Printf(\"Caption: %s\\n\", m.Caption)\n",
    "}\n",
    "\n",
    "func (m VideoMessage) process() {\n",
    "\tfmt.Println(\"Video message:\")\n",
    "\tfmt.Printf(\"Video URL: %s\\n\", m.VideoURL)\n",
    "\tfmt.Printf(\"Thumbnail URL: %s\\n\", m.ThumbnailURL)\n",
    "}\n",
    "\n",
    "// Create a function to process messages\n",
    "func processMessage(message Message) {\n",
    "\t// no more if else, just call the process method\n",
    "\tmessage.process()\n",
    "}\n",
    "\n",
    "func main() {\n",
    "\t// Example usage\n",
    "\ttextMessage := TextMessage{Text: \"Hello, world!\"}\n",
    "\timageMessage := ImageMessage{\n",
    "\t\tURL:     \"https://example.com/image.jpg\",\n",
    "\t\tCaption: \"A beautiful sunset\",\n",
    "\t}\n",
    "\tvideoMessage := VideoMessage{\n",
    "\t\tVideoURL:     \"https://example.com/video.mp4\",\n",
    "\t\tThumbnailURL: \"https://example.com/thumbnail.jpg\",\n",
    "\t}\n",
    "\n",
    "\tprocessMessage(textMessage)\n",
    "\tprocessMessage(imageMessage)\n",
    "\tprocessMessage(videoMessage)\n",
    "}\n",
    "```"
   ]
  },
  {
   "cell_type": "markdown",
   "metadata": {},
   "source": [
    "### Rust Enum"
   ]
  },
  {
   "cell_type": "markdown",
   "metadata": {},
   "source": [
    "Before we see Rust's Enum, let's see how Enum is used in another language, Python:\n",
    "\n",
    "```python\n",
    "from enum import Enum\n",
    "\n",
    "# Define an enum for different message types\n",
    "class MessageType(Enum):\n",
    "    TEXT = 1\n",
    "    IMAGE = 2\n",
    "    VIDEO = 3\n",
    "```\n",
    "\n",
    "Enum in Python only contains constants, it doesn't have any data. But in Rust, Enum can have additional data"
   ]
  },
  {
   "cell_type": "code",
   "execution_count": 2,
   "metadata": {
    "vscode": {
     "languageId": "rust"
    }
   },
   "outputs": [],
   "source": [
    "enum Message {\n",
    "    Text(String), // it contains a String\n",
    "    Image(String, String), // it contains two Strings\n",
    "    Video(String, String), // it contains two Strings\n",
    "}\n",
    "\n",
    "Message::Text(\"Hello\".to_string());\n",
    "Message::Image(\"https://example.com/image.jpg\".to_string(), \"A beautiful image\".to_string());"
   ]
  },
  {
   "cell_type": "markdown",
   "metadata": {},
   "source": [
    "...or named field (so that it's clearer what the data represents)"
   ]
  },
  {
   "cell_type": "code",
   "execution_count": 2,
   "metadata": {
    "vscode": {
     "languageId": "rust"
    }
   },
   "outputs": [],
   "source": [
    "\n",
    "enum Message {\n",
    "    Text(String),\n",
    "    Image { url: String, caption: String }, // still contains two Strings, but clearer what they are\n",
    "    Video { video_url: String, thumbnail_url: String },\n",
    "}\n",
    "\n",
    "Message::Text(\"Hello\".to_string());\n",
    "Message::Image {\n",
    "    url: \"https://example.com/image.jpg\".to_string(),\n",
    "    caption: \"A beautiful image\".to_string(),\n",
    "};"
   ]
  },
  {
   "cell_type": "markdown",
   "metadata": {},
   "source": [
    "Let's rewrite the previous example in Rust:"
   ]
  },
  {
   "cell_type": "code",
   "execution_count": null,
   "metadata": {
    "vscode": {
     "languageId": "rust"
    }
   },
   "outputs": [],
   "source": [
    "// Define an enum for different message types\n",
    "enum Message {\n",
    "    Text(String),\n",
    "    Image { url: String, caption: String },\n",
    "    Video { video_url: String, thumbnail_url: String },\n",
    "}\n",
    "\n",
    "// Create a function to process messages\n",
    "fn process_message(message: &Message) {\n",
    "    match message {\n",
    "        // Pattern Matching ftw!\n",
    "        Message::Text(text) => println!(\"Text message: {}\", text),\n",
    "        Message::Image { url, caption } => {\n",
    "            println!(\"Image message:\");\n",
    "            println!(\"URL: {}\", url);\n",
    "            println!(\"Caption: {}\", caption);\n",
    "        }\n",
    "        Message::Video { video_url, thumbnail_url } => {\n",
    "            println!(\"Video message:\");\n",
    "            println!(\"Video URL: {}\", video_url);\n",
    "            println!(\"Thumbnail URL: {}\", thumbnail_url);\n",
    "        }\n",
    "    }\n",
    "}\n",
    "\n",
    "fn main() {\n",
    "    // Example usage\n",
    "    let text_message = Message::Text(\"Hello, world!\".to_string());\n",
    "    let image_message = Message::Image {\n",
    "        url: \"https://example.com/image.jpg\".to_string(),\n",
    "        caption: \"A beautiful sunset\".to_string(),\n",
    "    };\n",
    "    let video_message = Message::Video {\n",
    "        video_url: \"https://example.com/video.mp4\".to_string(),\n",
    "        thumbnail_url: \"https://example.com/thumbnail.jpg\".to_string(),\n",
    "    };\n",
    "\n",
    "    process_message(&text_message);\n",
    "    process_message(&image_message);\n",
    "    process_message(&video_message);\n",
    "}"
   ]
  },
  {
   "cell_type": "markdown",
   "metadata": {},
   "source": [
    "Compare it to Golang and Python example, arguably Rust's Enum is the most concise and readable"
   ]
  },
  {
   "cell_type": "markdown",
   "metadata": {},
   "source": [
    "### Pattern Matching\n",
    "\n",
    "We have seen pattern matching in action, but we haven't talked about it yet.\n",
    "\n",
    "Think of pattern matching as a more powerful version of a switch statement. It allows you to match on the structure of data and bind variables to parts of that structure.\n",
    "\n",
    "There are some properties of pattern matching which make it very powerful:"
   ]
  },
  {
   "cell_type": "markdown",
   "metadata": {},
   "source": [
    "#### Exhaustiveness\n",
    "\n",
    "Pattern matching is exhaustive, which means that you have to handle **all** possible cases. If you don't, the compiler will give you an error."
   ]
  },
  {
   "cell_type": "code",
   "execution_count": 3,
   "metadata": {
    "vscode": {
     "languageId": "rust"
    }
   },
   "outputs": [],
   "source": [
    "enum Message {\n",
    "    Text(String),\n",
    "    Image { url: String, caption: String },\n",
    "    Video { video_url: String, thumbnail_url: String },\n",
    "}"
   ]
  },
  {
   "cell_type": "markdown",
   "metadata": {},
   "source": [
    "Let's say we only handle `Text` message:"
   ]
  },
  {
   "cell_type": "code",
   "execution_count": 7,
   "metadata": {
    "vscode": {
     "languageId": "rust"
    }
   },
   "outputs": [
    {
     "ename": "Error",
     "evalue": "non-exhaustive patterns: `&Message::Image { .. }` and `&Message::Video { .. }` not covered",
     "output_type": "error",
     "traceback": [
      "\u001b[31m[E0004] Error:\u001b[0m non-exhaustive patterns: `&Message::Image { .. }` and `&Message::Video { .. }` not covered",
      "   \u001b[38;5;246m╭\u001b[0m\u001b[38;5;246m─\u001b[0m\u001b[38;5;246m[\u001b[0mcommand_7:1:1\u001b[38;5;246m]\u001b[0m",
      "   \u001b[38;5;246m│\u001b[0m",
      " \u001b[38;5;246m2 │\u001b[0m \u001b[38;5;249m \u001b[0m\u001b[38;5;249m \u001b[0m\u001b[38;5;249m \u001b[0m\u001b[38;5;249m \u001b[0m\u001b[38;5;249mm\u001b[0m\u001b[38;5;249ma\u001b[0m\u001b[38;5;249mt\u001b[0m\u001b[38;5;249mc\u001b[0m\u001b[38;5;249mh\u001b[0m\u001b[38;5;249m \u001b[0m\u001b[38;5;54mm\u001b[0m\u001b[38;5;54me\u001b[0m\u001b[38;5;54ms\u001b[0m\u001b[38;5;54ms\u001b[0m\u001b[38;5;54ma\u001b[0m\u001b[38;5;54mg\u001b[0m\u001b[38;5;54me\u001b[0m\u001b[38;5;249m \u001b[0m\u001b[38;5;249m{\u001b[0m",
      " \u001b[38;5;240m  │\u001b[0m           \u001b[38;5;54m─\u001b[0m\u001b[38;5;54m─\u001b[0m\u001b[38;5;54m─\u001b[0m\u001b[38;5;54m┬\u001b[0m\u001b[38;5;54m─\u001b[0m\u001b[38;5;54m─\u001b[0m\u001b[38;5;54m─\u001b[0m  ",
      " \u001b[38;5;240m  │\u001b[0m              \u001b[38;5;54m╰\u001b[0m\u001b[38;5;54m─\u001b[0m\u001b[38;5;54m─\u001b[0m\u001b[38;5;54m─\u001b[0m\u001b[38;5;54m─\u001b[0m\u001b[38;5;54m─\u001b[0m patterns `&Message::Image { .. }` and `&Message::Video { .. }` not covered",
      " \u001b[38;5;246m3 │\u001b[0m \u001b[38;5;249m \u001b[0m\u001b[38;5;249m \u001b[0m\u001b[38;5;249m \u001b[0m\u001b[38;5;249m \u001b[0m\u001b[38;5;249m \u001b[0m\u001b[38;5;249m \u001b[0m\u001b[38;5;249m \u001b[0m\u001b[38;5;249m \u001b[0m\u001b[38;5;249mM\u001b[0m\u001b[38;5;249me\u001b[0m\u001b[38;5;249ms\u001b[0m\u001b[38;5;249ms\u001b[0m\u001b[38;5;249ma\u001b[0m\u001b[38;5;249mg\u001b[0m\u001b[38;5;249me\u001b[0m\u001b[38;5;249m:\u001b[0m\u001b[38;5;249m:\u001b[0m\u001b[38;5;249mT\u001b[0m\u001b[38;5;249me\u001b[0m\u001b[38;5;249mx\u001b[0m\u001b[38;5;249mt\u001b[0m\u001b[38;5;249m(\u001b[0m\u001b[38;5;249m_\u001b[0m\u001b[38;5;249m)\u001b[0m\u001b[38;5;249m \u001b[0m\u001b[38;5;249m=\u001b[0m\u001b[38;5;249m>\u001b[0m\u001b[38;5;249m \u001b[0m\u001b[38;5;249mp\u001b[0m\u001b[38;5;249mr\u001b[0m\u001b[38;5;249mi\u001b[0m\u001b[38;5;249mn\u001b[0m\u001b[38;5;249mt\u001b[0m\u001b[38;5;249ml\u001b[0m\u001b[38;5;249mn\u001b[0m\u001b[38;5;249m!\u001b[0m\u001b[38;5;249m(\u001b[0m\u001b[38;5;249m\"\u001b[0m\u001b[38;5;249mT\u001b[0m\u001b[38;5;249me\u001b[0m\u001b[38;5;249mx\u001b[0m\u001b[38;5;249mt\u001b[0m\u001b[38;5;249m \u001b[0m\u001b[38;5;249mm\u001b[0m\u001b[38;5;249me\u001b[0m\u001b[38;5;249ms\u001b[0m\u001b[38;5;249ms\u001b[0m\u001b[38;5;249ma\u001b[0m\u001b[38;5;249mg\u001b[0m\u001b[38;5;249me\u001b[0m\u001b[38;5;249m\"\u001b[0m\u001b[38;5;249m)\u001b[0m\u001b[38;5;249m,\u001b[0m",
      " \u001b[38;5;240m  │\u001b[0m                                                     \u001b[38;5;100m│\u001b[0m ",
      " \u001b[38;5;240m  │\u001b[0m                                                     \u001b[38;5;100m╰\u001b[0m\u001b[38;5;100m─\u001b[0m help: ensure that all possible cases are being handled by adding a match arm with a wildcard pattern, a match arm with multiple or-patterns as shown, or multiple match arms: `,",
      "        &Message::Image { .. } | &Message::Video { .. } => todo!()`",
      "\u001b[38;5;246m───╯\u001b[0m"
     ]
    }
   ],
   "source": [
    "fn process_message(message: &Message) {\n",
    "    match message {\n",
    "        Message::Text(_) => println!(\"Text message\"),\n",
    "    }\n",
    "}"
   ]
  },
  {
   "cell_type": "markdown",
   "metadata": {},
   "source": [
    "See, the compiler complains (for a good reason). Let's fix it"
   ]
  },
  {
   "cell_type": "code",
   "execution_count": 4,
   "metadata": {
    "vscode": {
     "languageId": "rust"
    }
   },
   "outputs": [],
   "source": [
    "fn process_message(message: &Message) {\n",
    "    match message {\n",
    "        Message::Text(_) => println!(\"Text message\"),\n",
    "        Message::Image{..} => println!(\"Image message\"),\n",
    "        Message::Video{..} => println!(\"Video message\"),\n",
    "    }\n",
    "}"
   ]
  },
  {
   "cell_type": "markdown",
   "metadata": {},
   "source": [
    "It now can compile.\n",
    "\n",
    "We could also use `_` to match all other cases. It's like a wildcard/default case in a switch statement"
   ]
  },
  {
   "cell_type": "code",
   "execution_count": 10,
   "metadata": {
    "vscode": {
     "languageId": "rust"
    }
   },
   "outputs": [],
   "source": [
    "fn process_message(message: &Message) {\n",
    "    match message {\n",
    "        Message::Text(_) => println!(\"Text message\"),\n",
    "        _ => println!(\"Non-text message\"),\n",
    "    }\n",
    "}"
   ]
  },
  {
   "cell_type": "markdown",
   "metadata": {},
   "source": [
    "Using `_` is generally discouraged because it defeats the purpose of pattern matching, which is to make sure you handle all possible cases.\n",
    "\n",
    "But sometimes you really don't care about some cases, and `_` can be useful in those situations."
   ]
  },
  {
   "cell_type": "markdown",
   "metadata": {},
   "source": [
    "#### Destructuring\n",
    "\n",
    "Pattern matching can also be used to destructure data. This is useful when you want to extract parts of a complex data structure."
   ]
  },
  {
   "cell_type": "code",
   "execution_count": null,
   "metadata": {
    "vscode": {
     "languageId": "rust"
    }
   },
   "outputs": [],
   "source": [
    "fn process_message(message: &Message) {\n",
    "    match message {\n",
    "        // destructuring the text\n",
    "        Message::Text(text) => println!(\"Text message: {}\", text),\n",
    "        // destructuring the image url and caption\n",
    "        Message::Image{url, caption} => {\n",
    "            println!(\"Image message\");\n",
    "            // we then can use the url and caption like a normal variable\n",
    "            println!(\"URL: {}\", url);\n",
    "            println!(\"Caption: {}\", caption);\n",
    "        Message::Video{video_url, thumbnail_url} => {\n",
    "            println!(\"Video message\");\n",
    "            println!(\"Video URL: {}\", video_url);\n",
    "            println!(\"Thumbnail URL: {}\", thumbnail_url);\n",
    "        }\n",
    "    }\n",
    "}"
   ]
  },
  {
   "cell_type": "markdown",
   "metadata": {},
   "source": [
    "#### Guard Clause\n",
    "\n",
    "Pattern matching can also have a guard clause, which is an additional condition that must be true for the pattern to match."
   ]
  },
  {
   "cell_type": "code",
   "execution_count": 11,
   "metadata": {
    "vscode": {
     "languageId": "rust"
    }
   },
   "outputs": [
    {
     "ename": "Error",
     "evalue": "non-exhaustive patterns: `&Message::Text(_)` not covered",
     "output_type": "error",
     "traceback": [
      "\u001b[31m[E0004] Error:\u001b[0m non-exhaustive patterns: `&Message::Text(_)` not covered",
      "   \u001b[38;5;246m╭\u001b[0m\u001b[38;5;246m─\u001b[0m\u001b[38;5;246m[\u001b[0mcommand_11:1:1\u001b[38;5;246m]\u001b[0m",
      "   \u001b[38;5;246m│\u001b[0m",
      " \u001b[38;5;246m2 │\u001b[0m \u001b[38;5;249m \u001b[0m\u001b[38;5;249m \u001b[0m\u001b[38;5;249m \u001b[0m\u001b[38;5;249m \u001b[0m\u001b[38;5;249mm\u001b[0m\u001b[38;5;249ma\u001b[0m\u001b[38;5;249mt\u001b[0m\u001b[38;5;249mc\u001b[0m\u001b[38;5;249mh\u001b[0m\u001b[38;5;249m \u001b[0m\u001b[38;5;54mm\u001b[0m\u001b[38;5;54me\u001b[0m\u001b[38;5;54ms\u001b[0m\u001b[38;5;54ms\u001b[0m\u001b[38;5;54ma\u001b[0m\u001b[38;5;54mg\u001b[0m\u001b[38;5;54me\u001b[0m\u001b[38;5;249m \u001b[0m\u001b[38;5;249m{\u001b[0m",
      " \u001b[38;5;240m  │\u001b[0m           \u001b[38;5;54m─\u001b[0m\u001b[38;5;54m─\u001b[0m\u001b[38;5;54m─\u001b[0m\u001b[38;5;54m┬\u001b[0m\u001b[38;5;54m─\u001b[0m\u001b[38;5;54m─\u001b[0m\u001b[38;5;54m─\u001b[0m  ",
      " \u001b[38;5;240m  │\u001b[0m              \u001b[38;5;54m╰\u001b[0m\u001b[38;5;54m─\u001b[0m\u001b[38;5;54m─\u001b[0m\u001b[38;5;54m─\u001b[0m\u001b[38;5;54m─\u001b[0m\u001b[38;5;54m─\u001b[0m pattern `&Message::Text(_)` not covered",
      " \u001b[38;5;240m  │\u001b[0m ",
      " \u001b[38;5;246m6 │\u001b[0m \u001b[38;5;249m \u001b[0m\u001b[38;5;249m \u001b[0m\u001b[38;5;249m \u001b[0m\u001b[38;5;249m \u001b[0m\u001b[38;5;249m \u001b[0m\u001b[38;5;249m \u001b[0m\u001b[38;5;249m \u001b[0m\u001b[38;5;249m \u001b[0m\u001b[38;5;249mM\u001b[0m\u001b[38;5;249me\u001b[0m\u001b[38;5;249ms\u001b[0m\u001b[38;5;249ms\u001b[0m\u001b[38;5;249ma\u001b[0m\u001b[38;5;249mg\u001b[0m\u001b[38;5;249me\u001b[0m\u001b[38;5;249m:\u001b[0m\u001b[38;5;249m:\u001b[0m\u001b[38;5;249mV\u001b[0m\u001b[38;5;249mi\u001b[0m\u001b[38;5;249md\u001b[0m\u001b[38;5;249me\u001b[0m\u001b[38;5;249mo\u001b[0m\u001b[38;5;249m{\u001b[0m\u001b[38;5;249m.\u001b[0m\u001b[38;5;249m.\u001b[0m\u001b[38;5;249m}\u001b[0m\u001b[38;5;249m \u001b[0m\u001b[38;5;249m=\u001b[0m\u001b[38;5;249m>\u001b[0m\u001b[38;5;249m \u001b[0m\u001b[38;5;249mp\u001b[0m\u001b[38;5;249mr\u001b[0m\u001b[38;5;249mi\u001b[0m\u001b[38;5;249mn\u001b[0m\u001b[38;5;249mt\u001b[0m\u001b[38;5;249ml\u001b[0m\u001b[38;5;249mn\u001b[0m\u001b[38;5;249m!\u001b[0m\u001b[38;5;249m(\u001b[0m\u001b[38;5;249m\"\u001b[0m\u001b[38;5;249mV\u001b[0m\u001b[38;5;249mi\u001b[0m\u001b[38;5;249md\u001b[0m\u001b[38;5;249me\u001b[0m\u001b[38;5;249mo\u001b[0m\u001b[38;5;249m \u001b[0m\u001b[38;5;249mm\u001b[0m\u001b[38;5;249me\u001b[0m\u001b[38;5;249ms\u001b[0m\u001b[38;5;249ms\u001b[0m\u001b[38;5;249ma\u001b[0m\u001b[38;5;249mg\u001b[0m\u001b[38;5;249me\u001b[0m\u001b[38;5;249m\"\u001b[0m\u001b[38;5;249m)\u001b[0m\u001b[38;5;249m,\u001b[0m",
      " \u001b[38;5;240m  │\u001b[0m                                                        \u001b[38;5;100m│\u001b[0m ",
      " \u001b[38;5;240m  │\u001b[0m                                                        \u001b[38;5;100m╰\u001b[0m\u001b[38;5;100m─\u001b[0m help: ensure that all possible cases are being handled by adding a match arm with a wildcard pattern or an explicit pattern as shown: `,",
      "        &Message::Text(_) => todo!()`",
      "\u001b[38;5;246m───╯\u001b[0m"
     ]
    }
   ],
   "source": [
    "fn process_message(message: &Message) {\n",
    "    match message {\n",
    "        // guard clause: only match if the text is longer than 100 characters\n",
    "        Message::Text(text) if text.len() > 100 => println!(\"Long text message: {}\", text),\n",
    "        Message::Image{..} => println!(\"Image message\"),\n",
    "        Message::Video{..} => println!(\"Video message\"),\n",
    "    }\n",
    "}"
   ]
  },
  {
   "cell_type": "markdown",
   "metadata": {},
   "source": [
    "The compiler knows that the guard clause is not exhaustive, it give an error if you don't handle all possible cases. \n",
    "\n",
    "Let's handle that"
   ]
  },
  {
   "cell_type": "code",
   "execution_count": 4,
   "metadata": {
    "vscode": {
     "languageId": "rust"
    }
   },
   "outputs": [],
   "source": [
    "fn process_message(message: &Message) {\n",
    "    match message {\n",
    "        // guard clause: only match if the text is longer than 100 characters\n",
    "        Message::Text(text) if text.len() > 100 => println!(\"Long text message: {}\", text),\n",
    "        // other text messages\n",
    "        Message::Text(text) => println!(\"Short text message: {}\", text),\n",
    "        Message::Image{..} => println!(\"Image message\"),\n",
    "        Message::Video{..} => println!(\"Video message\"),\n",
    "    }\n",
    "}"
   ]
  },
  {
   "cell_type": "markdown",
   "metadata": {},
   "source": [
    "The combination of `enum` + pattern matching is very powerful. It allows you to define complex data structures and then work with them in a very concise and readable way. \n",
    "\n",
    "We will see more examples of this in the next sections."
   ]
  },
  {
   "cell_type": "markdown",
   "metadata": {},
   "source": [
    "### Cardinality\n",
    "\n",
    "What is the cardinality of a sum type?\n",
    "\n",
    "Yes, as the name implies, it's the sum of the cardinality of each variant\n",
    "\n",
    "```rust\n",
    "colors = [\"red\", \"green\", \"blue\", \"yellow\"] // -> 4\n",
    "\n",
    "enum Animal {\n",
    "    Cat{colors} // -> 4\n",
    "    Zebra // -> 1\n",
    "    Dog{colors} // -> 4\n",
    "} // -> 4 + 1 + 4 = 9\n",
    "```\n",
    "\n",
    "Why sum? Because either the value is a Cat, a Zebra, or a Dog. It can't be more than one at the same time."
   ]
  },
  {
   "cell_type": "markdown",
   "metadata": {},
   "source": [
    "## Common Types\n",
    "\n",
    "Let's see common ADTs in Rust (they also commonly found in other languages supporting ADTs)"
   ]
  },
  {
   "cell_type": "markdown",
   "metadata": {},
   "source": [
    "### Option"
   ]
  },
  {
   "cell_type": "markdown",
   "metadata": {},
   "source": [
    "Option/Maybe is a sum type that represents either having a value or not having a value."
   ]
  },
  {
   "cell_type": "code",
   "execution_count": 4,
   "metadata": {
    "vscode": {
     "languageId": "rust"
    }
   },
   "outputs": [
    {
     "name": "stdout",
     "output_type": "stream",
     "text": [
      "result: 5\n"
     ]
    }
   ],
   "source": [
    "// generic type is generally used\n",
    "// for simplicity we will use i32\n",
    "enum Maybe {\n",
    "    Some(i32), // contains an i32 value\n",
    "    Nothing, // contains nothing\n",
    "}\n",
    "\n",
    "fn divide(numerator: i32, denominator: i32) -> Maybe {\n",
    "    if denominator == 0 {\n",
    "        Maybe::Nothing\n",
    "    } else {\n",
    "        Maybe::Some(numerator / denominator)\n",
    "    }\n",
    "}\n",
    "\n",
    "fn main() {\n",
    "    let result = divide(10, 2);\n",
    "    // check if the result is a Some or a Nothing\n",
    "    match result {\n",
    "        Maybe::Some(value) => println!(\"result: {}\", value),\n",
    "        Maybe::Nothing => println!(\"cannot divide by zero\"),\n",
    "    }\n",
    "}\n",
    "\n",
    "main();"
   ]
  },
  {
   "cell_type": "markdown",
   "metadata": {},
   "source": [
    "So what's the benefit of using a `Maybe` type?\n",
    "\n",
    "- No more `null` pointer exception (we will later why it's a bad thing)\n",
    "- Explicitly handle the case when the value is missing (otherwise the compiler will complain)\n",
    "- Can be chained together -> no more `if` statement\n",
    "\n",
    "Btw Rust has a built-in `Option` type, similar to our `Maybe` type. So, let's use it instead"
   ]
  },
  {
   "cell_type": "code",
   "execution_count": 5,
   "metadata": {
    "vscode": {
     "languageId": "rust"
    }
   },
   "outputs": [
    {
     "ename": "Error",
     "evalue": "no field `id` on type `Option<&User>`",
     "output_type": "error",
     "traceback": [
      "\u001b[31m[E0609] Error:\u001b[0m no field `id` on type `Option<&User>`",
      "    \u001b[38;5;246m╭\u001b[0m\u001b[38;5;246m─\u001b[0m\u001b[38;5;246m[\u001b[0mcommand_5:1:1\u001b[38;5;246m]\u001b[0m",
      "    \u001b[38;5;246m│\u001b[0m",
      " \u001b[38;5;246m38 │\u001b[0m \u001b[38;5;249m \u001b[0m\u001b[38;5;249m \u001b[0m\u001b[38;5;249m \u001b[0m\u001b[38;5;249m \u001b[0m\u001b[38;5;249ml\u001b[0m\u001b[38;5;249me\u001b[0m\u001b[38;5;249mt\u001b[0m\u001b[38;5;249m \u001b[0m\u001b[38;5;249mp\u001b[0m\u001b[38;5;249mo\u001b[0m\u001b[38;5;249ms\u001b[0m\u001b[38;5;249mt\u001b[0m\u001b[38;5;249m \u001b[0m\u001b[38;5;249m=\u001b[0m\u001b[38;5;249m \u001b[0m\u001b[38;5;249mg\u001b[0m\u001b[38;5;249me\u001b[0m\u001b[38;5;249mt\u001b[0m\u001b[38;5;249m_\u001b[0m\u001b[38;5;249mp\u001b[0m\u001b[38;5;249mo\u001b[0m\u001b[38;5;249ms\u001b[0m\u001b[38;5;249mt\u001b[0m\u001b[38;5;249m(\u001b[0m\u001b[38;5;249m&\u001b[0m\u001b[38;5;249mp\u001b[0m\u001b[38;5;249mo\u001b[0m\u001b[38;5;249ms\u001b[0m\u001b[38;5;249mt\u001b[0m\u001b[38;5;249m_\u001b[0m\u001b[38;5;249md\u001b[0m\u001b[38;5;249mb\u001b[0m\u001b[38;5;249m,\u001b[0m\u001b[38;5;249m \u001b[0m\u001b[38;5;249mu\u001b[0m\u001b[38;5;249ms\u001b[0m\u001b[38;5;249me\u001b[0m\u001b[38;5;249mr\u001b[0m\u001b[38;5;249m.\u001b[0m\u001b[38;5;54mi\u001b[0m\u001b[38;5;54md\u001b[0m\u001b[38;5;249m)\u001b[0m\u001b[38;5;249m;\u001b[0m",
      " \u001b[38;5;240m   │\u001b[0m                                        \u001b[38;5;100m┬\u001b[0m\u001b[38;5;54m┬\u001b[0m  ",
      " \u001b[38;5;240m   │\u001b[0m                                        \u001b[38;5;100m╰\u001b[0m\u001b[38;5;100m─\u001b[0m\u001b[38;5;100m─\u001b[0m\u001b[38;5;100m─\u001b[0m help: one of the expressions' fields has a field of the same name: `unwrap().`",
      " \u001b[38;5;240m   │\u001b[0m                                         \u001b[38;5;54m│\u001b[0m  ",
      " \u001b[38;5;240m   │\u001b[0m                                         \u001b[38;5;54m╰\u001b[0m\u001b[38;5;54m─\u001b[0m\u001b[38;5;54m─\u001b[0m unknown field",
      "\u001b[38;5;246m────╯\u001b[0m"
     ]
    }
   ],
   "source": [
    "#[derive(Debug)]\n",
    "struct User {\n",
    "    username: String,\n",
    "    id: i32,\n",
    "}\n",
    "\n",
    "#[derive(Debug)]\n",
    "struct Post {\n",
    "    user_id: i32,\n",
    "    title: String,\n",
    "    content: String,\n",
    "}\n",
    "\n",
    "// the return is Option, indicating that it may or may not return a value\n",
    "fn get_user(user_db: &Vec<User>, id: i32) -> Option<&User> {\n",
    "    user_db.iter().find(|u| u.id == id)\n",
    "}\n",
    "\n",
    "// Option result also\n",
    "fn get_post(post_db: &Vec<Post>, id: i32) -> Option<&Post> {\n",
    "    post_db.iter().find(|p| p.user_id == id)\n",
    "}\n",
    "\n",
    "fn main() {\n",
    "    let user_db =vec![User {\n",
    "        username: \"levi\".to_string(),\n",
    "        id: 1,\n",
    "    }];\n",
    "    let post_db = vec![Post {\n",
    "        user_id: 1,\n",
    "        title: \"Hello, world\".to_string(),\n",
    "        content: \"This is my first post\".to_string(),\n",
    "    }];\n",
    "\n",
    "    let user = get_user(&user_db, 1);\n",
    "    // this will be error\n",
    "    // no field `id` on type `Option<&User>`\n",
    "    let post = get_post(&post_db, user.id);\n",
    "}\n",
    "main()"
   ]
  },
  {
   "cell_type": "markdown",
   "metadata": {},
   "source": [
    "To resolve that **compile** error, we have to explicitly handle the case when the value is missing\n",
    "\n",
    "Notice that this is **compile** error, not **runtime** error"
   ]
  },
  {
   "cell_type": "code",
   "execution_count": 5,
   "metadata": {
    "vscode": {
     "languageId": "rust"
    }
   },
   "outputs": [
    {
     "name": "stdout",
     "output_type": "stream",
     "text": [
      "post: Post { user_id: 1, title: \"Hello, world\", content: \"This is my first post\" }\n"
     ]
    }
   ],
   "source": [
    "fn main() {\n",
    "    let user_db =vec![User {\n",
    "        username: \"levi\".to_string(),\n",
    "        id: 1,\n",
    "    }];\n",
    "    let post_db = vec![Post {\n",
    "        user_id: 1,\n",
    "        title: \"Hello, world\".to_string(),\n",
    "        content: \"This is my first post\".to_string(),\n",
    "    }];\n",
    "\n",
    "    let user = get_user(&user_db, 1);\n",
    "    match user {\n",
    "        // the user may or may not exist\n",
    "        Some(u) => {\n",
    "            let post = get_post(&post_db, u.id);\n",
    "            // the post may or may not exist\n",
    "            match post {\n",
    "                // here, we know that both user and post exist\n",
    "                Some(p) => println!(\"post: {:?}\", p),\n",
    "                None => println!(\"post not found\"),\n",
    "            }\n",
    "        },\n",
    "        None => println!(\"user not found\"),\n",
    "    }\n",
    "}\n",
    "main();"
   ]
  },
  {
   "cell_type": "markdown",
   "metadata": {},
   "source": [
    "#### Let pattern matching"
   ]
  },
  {
   "cell_type": "markdown",
   "metadata": {},
   "source": [
    "Well, the code looks quite long, it can be simplified using the `let` pattern matching. `let` does pattern matching and binding at the same time."
   ]
  },
  {
   "cell_type": "code",
   "execution_count": 6,
   "metadata": {
    "vscode": {
     "languageId": "rust"
    }
   },
   "outputs": [
    {
     "name": "stdout",
     "output_type": "stream",
     "text": [
      "post: Post { user_id: 1, title: \"Hello, world\", content: \"This is my first post\" }\n"
     ]
    }
   ],
   "source": [
    "fn main() {\n",
    "    let user_db =vec![User {\n",
    "        username: \"levi\".to_string(),\n",
    "        id: 1,\n",
    "    }];\n",
    "    let post_db = vec![Post {\n",
    "        user_id: 1,\n",
    "        title: \"Hello, world\".to_string(),\n",
    "        content: \"This is my first post\".to_string(),\n",
    "    }];\n",
    "\n",
    "    let user = get_user(&user_db, 1);\n",
    "    // do pattern matching\n",
    "    if let Some(u) = user {\n",
    "        // user is Some, so we can get the user id\n",
    "        let post = get_post(&post_db, u.id);\n",
    "        if let Some(p) = post {\n",
    "            println!(\"post: {:?}\", p);\n",
    "        } else {\n",
    "            println!(\"post not found\");\n",
    "        }\n",
    "    } else {\n",
    "        // user is not Some\n",
    "        println!(\"user not found\");\n",
    "    }\n",
    "}\n",
    "main();"
   ]
  },
  {
   "cell_type": "markdown",
   "metadata": {},
   "source": [
    "#### `and_then`\n",
    "\n",
    "Hmm, still too long, can it be shorter? Yes! Using `and_then`:"
   ]
  },
  {
   "cell_type": "code",
   "execution_count": 7,
   "metadata": {
    "vscode": {
     "languageId": "rust"
    }
   },
   "outputs": [
    {
     "name": "stdout",
     "output_type": "stream",
     "text": [
      "post: Post { user_id: 1, title: \"Hello, world\", content: \"This is my first post\" }\n"
     ]
    }
   ],
   "source": [
    "fn main() {\n",
    "    let user_db =vec![User {\n",
    "        username: \"levi\".to_string(),\n",
    "        id: 1,\n",
    "    }];\n",
    "    let post_db = vec![Post {\n",
    "        user_id: 1,\n",
    "        title: \"Hello, world\".to_string(),\n",
    "        content: \"This is my first post\".to_string(),\n",
    "    }];\n",
    "\n",
    "    let user = get_user(&user_db, 1);\n",
    "    // no more pattern matching!\n",
    "    let post = user.and_then(|u| get_post(&post_db, u.id));\n",
    "    match post {\n",
    "        Some(p) => println!(\"post: {:?}\", p),\n",
    "        None => println!(\"user/post not found\"),\n",
    "    }\n",
    "}\n",
    "main();"
   ]
  },
  {
   "cell_type": "markdown",
   "metadata": {},
   "source": [
    "#### How does `and_then` work?\n",
    "\n",
    "`and_then` is actually pretty simple. It takes a function that returns an `Option`.\n",
    "\n",
    "If the value is `None`, it will return `None`. If the value is `Some`, it will return the result of the function applied to the value.\n",
    "\n",
    "This pattern is very common in functional programming. It's part of railway-oriented programming (ROP).\n",
    "\n",
    "![rop](https://miro.medium.com/v2/resize:fit:980/1*PSiOiF-F0-tjxL5LK2QCZw.png)\n",
    "\n",
    "Let's say we have:\n",
    "\n",
    "```rust\n",
    "x = Some(5)\n",
    "f: i32 -> Option<i32>\n",
    "g: i32 -> Option<i32>\n",
    "```\n",
    "\n",
    "We can chain, `x`, `f`, and `g` using `and_then` like this:\n",
    "\n",
    "```rust\n",
    "x.and_then(f).and_then(g)\n",
    "```\n",
    "\n",
    "`and_then` unwraps the `Option` and applies the function. If the value is `None`, it will return `None` immediately.\n",
    "\n",
    "Here is a simple implementation of `and_then`:"
   ]
  },
  {
   "cell_type": "code",
   "execution_count": 7,
   "metadata": {
    "vscode": {
     "languageId": "rust"
    }
   },
   "outputs": [
    {
     "name": "stdout",
     "output_type": "stream",
     "text": [
      "Some(2)\n"
     ]
    }
   ],
   "source": [
    "fn and_then<A, B, F>(x: Option<A>, f: F) -> Option<B> \n",
    "where\n",
    "    F: Fn(A) -> Option<B>, \n",
    "{\n",
    "    match x {\n",
    "        // unwrap the value and apply the function\n",
    "        Some(x) => f(x),\n",
    "        None => None,\n",
    "    }\n",
    "}\n",
    "\n",
    "fn main() {\n",
    "    let a = Some(1);\n",
    "    let b = and_then(a, |x| Some(x + 1));\n",
    "    println!(\"{:?}\", b);\n",
    "}\n",
    "main();\n"
   ]
  },
  {
   "cell_type": "markdown",
   "metadata": {},
   "source": [
    "We will discuss about `and_then` in more detail in the next lesson, for now just remember that it's a way to chain `Option` together"
   ]
  },
  {
   "cell_type": "markdown",
   "metadata": {},
   "source": [
    "#### `Null Pointer Exception`"
   ]
  },
  {
   "cell_type": "markdown",
   "metadata": {},
   "source": [
    "Why do we bother to use `Option` instead of just using `null`?\n",
    "\n",
    "Let's rewrite the code in Golang 😈"
   ]
  },
  {
   "cell_type": "markdown",
   "metadata": {},
   "source": [
    "```go\n",
    "package main\n",
    "\n",
    "import \"fmt\"\n",
    "\n",
    "type User struct {\n",
    "\tUsername string\n",
    "\tID       int\n",
    "}\n",
    "\n",
    "type Post struct {\n",
    "\tUserID  int\n",
    "\tTitle   string\n",
    "\tContent string\n",
    "}\n",
    "\n",
    "func getUser(userDB []User, id int) *User {\n",
    "\tfor _, u := range userDB {\n",
    "\t\tif u.ID == id {\n",
    "\t\t\treturn &u\n",
    "\t\t}\n",
    "\t}\n",
    "\treturn nil\n",
    "}\n",
    "\n",
    "func getPost(postDB []Post, id int) *Post {\n",
    "\tfor _, p := range postDB {\n",
    "\t\tif p.UserID == id {\n",
    "\t\t\treturn &p\n",
    "\t\t}\n",
    "\t}\n",
    "\treturn nil\n",
    "}\n",
    "\n",
    "func main() {\n",
    "\tuserDB := []User{\n",
    "\t\t{\n",
    "\t\t\tUsername: \"levi\",\n",
    "\t\t\tID:       1,\n",
    "\t\t},\n",
    "\t}\n",
    "\n",
    "\tpostDB := []Post{\n",
    "\t\t{\n",
    "\t\t\tUserID:  1,\n",
    "\t\t\tTitle:   \"Hello, world\",\n",
    "\t\t\tContent: \"This is my first post\",\n",
    "\t\t},\n",
    "\t}\n",
    "\n",
    "\t// get unexist user ID\n",
    "\tuser := getUser(userDB, 2)\n",
    "\n",
    "\t// let's say we forget this:\n",
    "\t// if user == nil {\n",
    "\t// \tfmt.Println(\"User not found\")\n",
    "\t// \treturn\n",
    "\t// }\n",
    "\tpost := getPost(postDB, user.ID)\n",
    "\tfmt.Println(post.Title)\n",
    "}\n",
    "```"
   ]
  },
  {
   "cell_type": "markdown",
   "metadata": {},
   "source": [
    "What's the output? 😏\n",
    "\n",
    "```bash\n",
    "panic: runtime error: invalid memory address or nil pointer dereference\n",
    "[signal SIGSEGV: segmentation violation code=0x2 addr=0x10 pc=0x100becb94]\n",
    "\n",
    "goroutine 1 [running]:\n",
    "```\n",
    "\n",
    "Ooops panic!\n",
    "\n",
    "The panic occurs because the `getUser` function returns `nil` (`nil.ID` raise panic) and we forgot to handle that case.\n",
    "\n",
    "In Rust, this code **won't even compile**! Saving you from the headache of debugging null pointer exceptions in production"
   ]
  },
  {
   "cell_type": "markdown",
   "metadata": {},
   "source": [
    "### Result\n",
    "\n",
    "Another handy type is `Result`. It's similar to `Option`, but it can also store an error message. It's useful when we want to return an error message when something goes wrong (instead of just returning `None`).\n",
    "\n",
    "It's named `Either` in Haskell. Let's try implementing it in Rust"
   ]
  },
  {
   "cell_type": "code",
   "execution_count": 3,
   "metadata": {
    "vscode": {
     "languageId": "rust"
    }
   },
   "outputs": [
    {
     "name": "stdout",
     "output_type": "stream",
     "text": [
      "result: 5\n",
      "cannot divide by zero\n"
     ]
    }
   ],
   "source": [
    "// generic type is usually used\n",
    "// for simplicity we will use i32 and String\n",
    "enum Either {\n",
    "    // Left is to indicate an error\n",
    "    Left(String),\n",
    "    Right(i32),\n",
    "}\n",
    "\n",
    "fn divide(numerator: i32, denominator: i32) -> Either {\n",
    "    if denominator == 0 {\n",
    "        Either::Left(\"cannot divide by zero\".to_string())\n",
    "    } else {\n",
    "        Either::Right(numerator / denominator)\n",
    "    }\n",
    "}\n",
    "fn main() {\n",
    "    match divide(10, 2) {\n",
    "        Either::Right(value) => println!(\"result: {}\", value),\n",
    "        Either::Left(message) => println!(\"{}\", message),\n",
    "    }\n",
    "\n",
    "    match divide(10, 0) {\n",
    "        Either::Right(value) => println!(\"result: {}\", value),\n",
    "        Either::Left(message) => println!(\"{}\", message),\n",
    "    }\n",
    "}\n",
    "main();"
   ]
  },
  {
   "cell_type": "markdown",
   "metadata": {},
   "source": [
    "Left is for error, Right is for success\n",
    "\n",
    "So why is it useful? Let's see an example in another language\n"
   ]
  },
  {
   "cell_type": "markdown",
   "metadata": {},
   "source": [
    "#### Error Pipeline in Golang"
   ]
  },
  {
   "cell_type": "markdown",
   "metadata": {
    "vscode": {
     "languageId": "rust"
    }
   },
   "source": [
    "```go\n",
    "package main\n",
    "\n",
    "import (\n",
    "\t\"errors\"\n",
    "\t\"fmt\"\n",
    "\t\"math\"\n",
    ")\n",
    "\n",
    "func getSquareRoot(x float64) (float64, error) {\n",
    "\tif x < 0 {\n",
    "\t\treturn 0, errors.New(\"cannot calculate square root of negative number\")\n",
    "\t}\n",
    "\treturn math.Sqrt(x), nil\n",
    "}\n",
    "\n",
    "func doubleValue(x float64) (float64, error) {\n",
    "\tif x > 1000 {\n",
    "\t\treturn 0, errors.New(\"input too large\")\n",
    "\t}\n",
    "\treturn x * 2, nil\n",
    "}\n",
    "\n",
    "func convertToString(x float64) (string, error) {\n",
    "\tif x > 500 {\n",
    "\t\treturn \"\", errors.New(\"value too large to convert to string\")\n",
    "\t}\n",
    "\treturn fmt.Sprintf(\"%.2f\", x), nil\n",
    "}\n",
    "\n",
    "func processValue(x float64) (string, error) {\n",
    "\tsqrt, err := getSquareRoot(x)\n",
    "\tif err != nil {\n",
    "\t\treturn \"\", err\n",
    "\t}\n",
    "\n",
    "\tdoubled, err := doubleValue(sqrt)\n",
    "\tif err != nil {\n",
    "\t\treturn \"\", err\n",
    "\t}\n",
    "\n",
    "\tstr, err := convertToString(doubled)\n",
    "\tif err != nil {\n",
    "\t\treturn \"\", err\n",
    "\t}\n",
    "\n",
    "\treturn \"Result: \" + str, nil\n",
    "}\n",
    "\n",
    "func main() {\n",
    "\tresult, err := processValue(16)\n",
    "\tif err != nil {\n",
    "\t\tfmt.Println(\"Error:\", err)\n",
    "\t\treturn\n",
    "\t}\n",
    "\tfmt.Println(result)\n",
    "}\n",
    "```"
   ]
  },
  {
   "cell_type": "markdown",
   "metadata": {},
   "source": [
    "That's a lot of `if err != nil`! 😮‍💨"
   ]
  },
  {
   "cell_type": "markdown",
   "metadata": {},
   "source": [
    "#### Error Pipeline in Rust"
   ]
  },
  {
   "cell_type": "code",
   "execution_count": 4,
   "metadata": {
    "vscode": {
     "languageId": "rust"
    }
   },
   "outputs": [
    {
     "name": "stdout",
     "output_type": "stream",
     "text": [
      "Result: 8.00\n"
     ]
    }
   ],
   "source": [
    "use std::fmt;\n",
    "\n",
    "#[derive(Debug)]\n",
    "enum MathError {\n",
    "    NegativeSquareRoot,\n",
    "    InputTooLarge,\n",
    "    ValueTooLarge,\n",
    "}\n",
    "\n",
    "impl fmt::Display for MathError {\n",
    "    fn fmt(&self, f: &mut fmt::Formatter) -> fmt::Result {\n",
    "        match self {\n",
    "            MathError::NegativeSquareRoot => write!(f, \"cannot calculate square root of negative number\"),\n",
    "            MathError::InputTooLarge => write!(f, \"input too large\"),\n",
    "            MathError::ValueTooLarge => write!(f, \"value too large to convert to string\"),\n",
    "        }\n",
    "    }\n",
    "}\n",
    "\n",
    "fn get_square_root(x: f64) -> Result<f64, MathError> {\n",
    "    if x < 0.0 {\n",
    "        return Err(MathError::NegativeSquareRoot);\n",
    "    }\n",
    "    Ok(x.sqrt())\n",
    "}\n",
    "\n",
    "fn double_value(x: f64) -> Result<f64, MathError> {\n",
    "    if x > 1000.0 {\n",
    "        return Err(MathError::InputTooLarge);\n",
    "    }\n",
    "    Ok(x * 2.0)\n",
    "}\n",
    "\n",
    "fn convert_to_string(x: f64) -> Result<String, MathError> {\n",
    "    if x > 500.0 {\n",
    "        return Err(MathError::ValueTooLarge);\n",
    "    }\n",
    "    Ok(format!(\"{:.2}\", x))\n",
    "}\n",
    "\n",
    "fn process_value(x: f64) -> Result<String, MathError> {\n",
    "    // pattern match the Result\n",
    "    let sqrt_result = match get_square_root(x) {\n",
    "        Ok(sqrt_result) => sqrt_result,\n",
    "        Err(err) => return Err(err),\n",
    "    };\n",
    "    let doubled_result = match double_value(sqrt_result) {\n",
    "        Ok(doubled_result) => doubled_result,\n",
    "        Err(err) => return Err(err),\n",
    "    };\n",
    "    let string_result = match convert_to_string(doubled_result) {\n",
    "        Ok(string_result) => string_result,\n",
    "        Err(err) => return Err(err),\n",
    "    };\n",
    "    let final_result = format!(\"Result: {}\", string_result);\n",
    "    Ok(final_result)\n",
    "}\n",
    "\n",
    "fn main() {\n",
    "    let input = 16.0;\n",
    "\n",
    "    match process_value(input) {\n",
    "        Ok(result) => println!(\"{}\", result),\n",
    "        Err(err) => println!(\"Error: {}\", err),\n",
    "    }\n",
    "}\n",
    "\n",
    "main();"
   ]
  },
  {
   "cell_type": "markdown",
   "metadata": {},
   "source": [
    "Wow, a lot of pattern matchings! Can we simplify it?"
   ]
  },
  {
   "cell_type": "markdown",
   "metadata": {},
   "source": [
    "#### `and_then` to the rescue again!\n",
    "\n",
    "Remember `and_then` from the `Option` type? We can use it here!"
   ]
  },
  {
   "cell_type": "code",
   "execution_count": 4,
   "metadata": {
    "vscode": {
     "languageId": "rust"
    }
   },
   "outputs": [
    {
     "name": "stdout",
     "output_type": "stream",
     "text": [
      "Result: 8.00\n"
     ]
    }
   ],
   "source": [
    "fn process_value(x: f64) -> Result<String, MathError> {\n",
    "    get_square_root(x)\n",
    "        // if `get_square_root` returns an error, it will be returned as the final result\n",
    "        // otherwise the result will be passed to `double_value`\n",
    "        .and_then(double_value)\n",
    "        .and_then(convert_to_string)\n",
    "        .map(|string_result| format!(\"Result: {}\", string_result))\n",
    "}\n",
    "\n",
    "main();"
   ]
  },
  {
   "cell_type": "markdown",
   "metadata": {},
   "source": [
    "In the context of `Result`, `and_then` is used to chain together functions that return a `Result`. It will return `Err` immediately if the value is `Err`, otherwise it will return the result of the function applied to the value.\n",
    "\n",
    "Again, we will discuss about `and_then` in more detail in the next lesson, for now just remember that it's a way to chain `Result` together"
   ]
  },
  {
   "cell_type": "markdown",
   "metadata": {},
   "source": [
    "#### `?` operator"
   ]
  },
  {
   "cell_type": "markdown",
   "metadata": {},
   "source": [
    "The `?` operator in Rust is a shorthand for the match expression when working with `Result`. It is used to simplify error handling & propagation in a concise and readable way.\n",
    "\n",
    "The ? operator does the following:\n",
    "\n",
    "- If the `Result` is `Ok(value)`, the `?` operator unwraps the value and allows the execution to continue with the unwrapped value.\n",
    "- If the `Result is Err(error)`, the `?` operator immediately returns the error from the current function, propagating it to the caller.\n",
    "\n",
    "...which was exactly what we implemented before!"
   ]
  },
  {
   "cell_type": "code",
   "execution_count": 5,
   "metadata": {
    "vscode": {
     "languageId": "rust"
    }
   },
   "outputs": [
    {
     "name": "stdout",
     "output_type": "stream",
     "text": [
      "Result: 8.00\n"
     ]
    }
   ],
   "source": [
    "fn process_value(x: f64) -> Result<String, MathError> {\n",
    "    let sqrt_result = get_square_root(x)?; // notice the `?` operator\n",
    "    // the same as\n",
    "    // let sqrt_result = match get_square_root(x) {\n",
    "    //     Ok(value) => value,\n",
    "    //     Err(err) => return Err(err),\n",
    "    // };\n",
    "    let doubled_result = double_value(sqrt_result)?; // also has `?`\n",
    "    let string_result = convert_to_string(doubled_result)?; // also has `?`\n",
    "    Ok(format!(\"Result: {}\", string_result))\n",
    "}\n",
    "\n",
    "main();"
   ]
  },
  {
   "cell_type": "markdown",
   "metadata": {},
   "source": [
    "## Algebraic?\n",
    "\n",
    "Now the interesting part. Why is called \"algebraic\" data type? \n",
    "\n",
    "Because we can think of them as solutions to algebraic equations. For example, we can think of a tuple as a solution to the equation `A * B`. And we can think of a sum type as a solution to the equation `A + B`.\n",
    "\n",
    "Then, algebraic rules apply (addition, substraction, multiplication, etc). For example:\n",
    "\n",
    "```rust\n",
    "struct Item {\n",
    "    x: i32, // -> i32\n",
    "    y: i32, // -> i32\n",
    "    color: Color, // -> Color = 3\n",
    "} // i32 * i32 * 3\n",
    "\n",
    "enum Color {\n",
    "    Red, // -> 1\n",
    "    Green, // -> 1\n",
    "    Blue, // -> 1\n",
    "} // -> 1 + 1 + 1 = 3\n",
    "```\n",
    "\n",
    "The cardinality of `Item` is `i32 * i32 * 3` \n",
    "\n",
    "If we refactor the `Item`'s `x` and `y` into a `Point` struct, then the cardinality of `Item` is `Point * Color`, which is `(i32 * i32) * 3`\n",
    "\n",
    "Since multiplication is associative, we can also think of it as `(i32 * i32) * 3`, which is the same as `i32 * i32 * 3`\n",
    "\n",
    "```rust\n",
    "struct Point {\n",
    "    x: i32, // -> i32\n",
    "    y: i32, // -> i32\n",
    "} // i32 * i32\n",
    "\n",
    "struct Item {\n",
    "    point: Point, // -> i32 * i32\n",
    "    color: Color, // -> Color = 3\n",
    "} // i32 * i32 * 3 (still the same)\n",
    "```"
   ]
  },
  {
   "cell_type": "markdown",
   "metadata": {},
   "source": [
    "## Refactoring based on Algebraic Rules\n",
    "\n",
    "Let's study this function\n",
    "\n",
    "```go\n",
    "func get_user(user_id int) (*User, error) {\n",
    "    if user_id == 1 {\n",
    "        return &User{username: \"levi\", id: 1}, nil\n",
    "    } else {\n",
    "        return nil, errors.New(\"user not found\")\n",
    "    }\n",
    "}\n",
    "```\n",
    "\n",
    "It's common in Golang to return an error as the last return value.\n",
    "\n",
    "Since `*User` and `error` can be `nil` and the return type is a product type of them, the cardinality of the return value is `(1 + U) * (1 + E)` where `U` is the cardinality of `*User` and `E` is the cardinality of `error`\n",
    "\n",
    "| *User | error | cardinaility | note | \n",
    "| --- | --- | --- | --- |\n",
    "| user | nil | U * 1 | Ok |\n",
    "| user | error | U * E | Invalid, if user is not nil, error must be nil |\n",
    "| nil | error | 1 * E | Ok |\n",
    "| nil | nil | 1 * 1 | Invalid, if user is nil, then error must be not nil |\n",
    "\n",
    "Notice that two possible values are invalid (aren't them?). So let's substract those cardinalities\n",
    "\n",
    "```\n",
    "(1 + U) * (1 + E) - (U * E) - (1 * 1) \n",
    "(1 + U + E + UE) - UE - 1\n",
    "U + E\n",
    "```\n",
    "\n",
    "Interestingly `U + E` is the cardinality of `Result<User, Error>` in Rust\n",
    "\n",
    "So the above code is actually equals to:\n",
    "\n",
    "```rust\n",
    "fn get_user(user_id: i32) -> Result<User, Error> {\n",
    "    ...\n",
    "}\n",
    "```\n",
    "\n",
    "with invalid states removed!\n",
    "\n",
    "PS, Golang won't reject this:\n",
    "```go\n",
    "return &User{username: \"levi\", id: 1}, errors.New(\"user not found\")\n",
    "```\n",
    "\n",
    "or this\n",
    "```go\n",
    "return nil, nil\n",
    "```"
   ]
  },
  {
   "cell_type": "markdown",
   "metadata": {},
   "source": [
    "## More Examples\n",
    "\n",
    "More examples can be found in this [excellent article](https://justinpombrio.net/2021/03/11/algebra-and-data-types.html)\n"
   ]
  }
 ],
 "metadata": {
  "kernelspec": {
   "display_name": "Rust",
   "language": "rust",
   "name": "rust"
  },
  "language_info": {
   "codemirror_mode": "rust",
   "file_extension": ".rs",
   "mimetype": "text/rust",
   "name": "Rust",
   "pygment_lexer": "rust",
   "version": ""
  }
 },
 "nbformat": 4,
 "nbformat_minor": 2
}
