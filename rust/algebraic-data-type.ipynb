{
 "cells": [
  {
   "cell_type": "raw",
   "metadata": {
    "vscode": {
     "languageId": "raw"
    }
   },
   "source": [
    "---\n",
    "format:\n",
    "  html:\n",
    "    toc: true\n",
    "order: 2\n",
    "title: Algebraic Data Types & Pattern Matching\n",
    "---"
   ]
  },
  {
   "cell_type": "markdown",
   "metadata": {},
   "source": [
    "## Algebraic Data Types\n",
    "\n",
    "It sounds fancy, but it's just a way to define a new type in terms of other types. But why not just call it a \"composite type\" or something? Well, the term \"algebraic data type\" comes from the fact that these types can be thought of as solutions to algebraic equations. We'll see what that means in a bit.\n",
    "\n",
    "There are two main kinds of algebraic data types: product types and sum types. "
   ]
  },
  {
   "cell_type": "markdown",
   "metadata": {},
   "source": [
    "### Product Type\n",
    "\n",
    "Product Type is a type that contains multiple values, each with its own type. What are they? You may have already seen them in the form of tuples, structs, array, etc. Basically they are just a collection of values. And if we wish, we can represent them all as a tuple."
   ]
  },
  {
   "cell_type": "markdown",
   "metadata": {},
   "source": [
    "Let's start from a primitive types:"
   ]
  },
  {
   "cell_type": "code",
   "execution_count": 3,
   "metadata": {
    "vscode": {
     "languageId": "rust"
    }
   },
   "outputs": [],
   "source": [
    "let name = \"Levi\";\n",
    "let age = 25;"
   ]
  },
  {
   "cell_type": "code",
   "execution_count": 4,
   "metadata": {
    "vscode": {
     "languageId": "rust"
    }
   },
   "outputs": [],
   "source": [
    "let name = \"Levi\";\n",
    "let age = 25;\n",
    "let gender = \"Male\";\n",
    "let address = \"1234 Main St\";\n",
    "let city = \"San Francisco\";\n",
    "let state = \"CA\";"
   ]
  },
  {
   "cell_type": "markdown",
   "metadata": {},
   "source": [
    "That's too much variables, let's group some of them into a tuple:"
   ]
  },
  {
   "cell_type": "code",
   "execution_count": 5,
   "metadata": {
    "vscode": {
     "languageId": "rust"
    }
   },
   "outputs": [],
   "source": [
    "let name = \"Levi\";\n",
    "let age = 25;\n",
    "let gender = \"Male\";\n",
    "let address = (\"1234 Main St\", \"San Francisco\", \"CA\");"
   ]
  },
  {
   "cell_type": "markdown",
   "metadata": {},
   "source": [
    "We can do further grouping:"
   ]
  },
  {
   "cell_type": "code",
   "execution_count": 6,
   "metadata": {
    "vscode": {
     "languageId": "rust"
    }
   },
   "outputs": [],
   "source": [
    "let person = (\"Levi\", 25, \"Male\", (\"1234 Main St\", \"San Francisco\", \"CA\"));"
   ]
  },
  {
   "cell_type": "markdown",
   "metadata": {},
   "source": [
    "How to get the age of the person? Just access the second element of the tuple:"
   ]
  },
  {
   "cell_type": "code",
   "execution_count": 12,
   "metadata": {
    "vscode": {
     "languageId": "rust"
    }
   },
   "outputs": [
    {
     "name": "stdout",
     "output_type": "stream",
     "text": [
      "age: 25\n",
      "gender: Male\n"
     ]
    }
   ],
   "source": [
    "fn get_age(person: (&str, i32, &str, (&str, &str, &str))) -> i32 {\n",
    "    person.1\n",
    "}\n",
    "\n",
    "fn get_gender(person: (&str, i32, &str, (&str, &str, &str))) -> String {\n",
    "    person.2.to_string()\n",
    "}\n",
    "\n",
    "println!(\"age: {}\", get_age(person));\n",
    "println!(\"gender: {}\", get_gender(person));\n"
   ]
  },
  {
   "cell_type": "markdown",
   "metadata": {},
   "source": [
    "#### Named `tuple` == `struct`\n",
    "\n",
    "The tuple is a very simple form of a product type. But it's not very readable. We can use a struct to give names to the fields:"
   ]
  },
  {
   "cell_type": "code",
   "execution_count": 22,
   "metadata": {
    "vscode": {
     "languageId": "rust"
    }
   },
   "outputs": [
    {
     "name": "stdout",
     "output_type": "stream",
     "text": [
      "name: Levi\n",
      "age: 25\n"
     ]
    }
   ],
   "source": [
    "struct Person {\n",
    "    name: String,\n",
    "    age: i32,\n",
    "    gender: String,\n",
    "    address: Address,\n",
    "}\n",
    "\n",
    "struct Address {\n",
    "    street: String,\n",
    "    city: String,\n",
    "    state: String,\n",
    "}\n",
    "\n",
    "fn main() {\n",
    "    let person = Person {\n",
    "        name: \"Levi\".to_string(),\n",
    "        age: 25,\n",
    "        gender: \"Male\".to_string(),\n",
    "        address: Address {\n",
    "            street: \"1234 Main St\".to_string(),\n",
    "            city: \"San Francisco\".to_string(),\n",
    "            state: \"CA\".to_string(),\n",
    "        },\n",
    "    };\n",
    "    println!(\"name: {}\", person.name);\n",
    "    println!(\"age: {}\", person.age);\n",
    "}\n",
    "main();"
   ]
  },
  {
   "cell_type": "markdown",
   "metadata": {},
   "source": [
    "That's a lot more readable! But essentially, it's the same thing as a tuple."
   ]
  },
  {
   "cell_type": "markdown",
   "metadata": {},
   "source": [
    "#### Long `tuple` == `array`"
   ]
  },
  {
   "cell_type": "markdown",
   "metadata": {},
   "source": [
    "Now, let's make more persons:"
   ]
  },
  {
   "cell_type": "code",
   "execution_count": 24,
   "metadata": {
    "vscode": {
     "languageId": "rust"
    }
   },
   "outputs": [
    {
     "name": "stdout",
     "output_type": "stream",
     "text": [
      "names: (\"Levi\", \"Eren\")\n"
     ]
    }
   ],
   "source": [
    "fn get_names(person_1: &Person, person_2: &Person) -> (String, String) {\n",
    "    (person_1.name.clone(), person_2.name.clone())\n",
    "}\n",
    "\n",
    "fn main() {\n",
    "    let person_1 = Person {\n",
    "        name: \"Levi\".to_string(),\n",
    "        age: 25,\n",
    "        gender: \"Male\".to_string(),\n",
    "        address: Address {\n",
    "            street: \"1234 Main St\".to_string(),\n",
    "            city: \"San Francisco\".to_string(),\n",
    "            state: \"CA\".to_string(),\n",
    "        },\n",
    "    };\n",
    "    let person_2 = Person {\n",
    "        name: \"Eren\".to_string(),\n",
    "        age: 24,\n",
    "        gender: \"Male\".to_string(),\n",
    "        address: Address {\n",
    "            street: \"5678 Main St\".to_string(),\n",
    "            city: \"San Francisco\".to_string(),\n",
    "            state: \"CA\".to_string(),\n",
    "        },\n",
    "    };\n",
    "    // ... can be much more\n",
    "    let names = get_names(&person_1, &person_2);\n",
    "    println!(\"names: {:?}\", names);\n",
    "}\n",
    "main();"
   ]
  },
  {
   "cell_type": "markdown",
   "metadata": {},
   "source": [
    "How about if we have 100 persons? Do we need to define 100 variables? No, we can use an array:"
   ]
  },
  {
   "cell_type": "code",
   "execution_count": 25,
   "metadata": {
    "vscode": {
     "languageId": "rust"
    }
   },
   "outputs": [],
   "source": [
    "fn get_names(person: &Vec<Person>) -> Vec<String> {\n",
    "    person.iter().map(|p| p.name.clone()).collect()\n",
    "}\n",
    "\n",
    "fn main() {\n",
    "    let people = vec![\n",
    "        Person {\n",
    "            name: \"Levi\".to_string(),\n",
    "            age: 25,\n",
    "            gender: \"Male\".to_string(),\n",
    "            address: Address {\n",
    "                street: \"1234 Main St\".to_string(),\n",
    "                city: \"San Francisco\".to_string(),\n",
    "                state: \"CA\".to_string(),\n",
    "            },\n",
    "        },\n",
    "        Person {\n",
    "            name: \"Eren\".to_string(),\n",
    "            age: 24,\n",
    "            gender: \"Male\".to_string(),\n",
    "            address: Address {\n",
    "                street: \"5678 Main St\".to_string(),\n",
    "                city: \"San Francisco\".to_string(),\n",
    "                state: \"CA\".to_string(),\n",
    "            },\n",
    "        }\n",
    "    ];\n",
    "\n",
    "    let names = get_names(&people);\n",
    "    println!(\"names: {:?}\", names);\n",
    "}"
   ]
  },
  {
   "cell_type": "markdown",
   "metadata": {},
   "source": [
    "Cool! But that's essentially the same thing as a tuple"
   ]
  },
  {
   "cell_type": "code",
   "execution_count": 27,
   "metadata": {
    "vscode": {
     "languageId": "rust"
    }
   },
   "outputs": [
    {
     "name": "stdout",
     "output_type": "stream",
     "text": [
      "((\"Levi\", 25, \"Male\", (\"1234 Main St\", \"San Francisco\", \"CA\")), (\"Eren\", 24, \"Male\"), (\"5678 Main St\", \"San Francisco\", \"CA\"))\n"
     ]
    }
   ],
   "source": [
    "let people = (\n",
    "    (\"Levi\", 25, \"Male\", (\"1234 Main St\", \"San Francisco\", \"CA\")),\n",
    "    (\"Eren\", 24, \"Male\"), (\"5678 Main St\", \"San Francisco\", \"CA\"));\n",
    "\n",
    "println!(\"{:?}\", people);"
   ]
  },
  {
   "cell_type": "markdown",
   "metadata": {},
   "source": [
    "But yeah you know that's not easily readable"
   ]
  },
  {
   "cell_type": "markdown",
   "metadata": {},
   "source": [
    "### Sum Type"
   ]
  },
  {
   "cell_type": "markdown",
   "metadata": {},
   "source": [
    "Sum types are types that can have different forms. They are also called \"tagged unions\" or \"variants\". They are a way to define a type that can be one of several different things."
   ]
  },
  {
   "cell_type": "code",
   "execution_count": 31,
   "metadata": {
    "vscode": {
     "languageId": "rust"
    }
   },
   "outputs": [],
   "source": [
    "enum Role {\n",
    "    Admin,\n",
    "    User,\n",
    "    Guest,\n",
    "}\n",
    "\n",
    "struct Person {\n",
    "    name: String,\n",
    "    role: Role,\n",
    "}\n",
    "\n",
    "fn main() {\n",
    "    let levi = Person {\n",
    "        name: \"Levi\".to_string(),\n",
    "        role: Role::Admin,\n",
    "    };\n",
    "    let eren = Person {\n",
    "        name: \"Eren\".to_string(),\n",
    "        role: Role::User,\n",
    "    };\n",
    "}"
   ]
  },
  {
   "cell_type": "markdown",
   "metadata": {},
   "source": [
    "In that case, a role can be either an Admin, a User, or a Guest. Then we can use it like this:"
   ]
  },
  {
   "cell_type": "code",
   "execution_count": 33,
   "metadata": {
    "vscode": {
     "languageId": "rust"
    }
   },
   "outputs": [],
   "source": [
    "fn can_access_restricted_content(person: &Person) -> bool {\n",
    "    match person.role {\n",
    "        Role::Admin => true,\n",
    "        Role::User => true,\n",
    "        Role::Guest => false,\n",
    "    }\n",
    "}"
   ]
  },
  {
   "cell_type": "markdown",
   "metadata": {},
   "source": [
    "#### Constant Hacking"
   ]
  },
  {
   "cell_type": "markdown",
   "metadata": {},
   "source": [
    "You may ask, can we just represent a sum type by using a constant? Yes, we can. But it's not recommended because it's not type-safe"
   ]
  },
  {
   "cell_type": "code",
   "execution_count": 11,
   "metadata": {
    "vscode": {
     "languageId": "rust"
    }
   },
   "outputs": [],
   "source": [
    "const ADMIN: &'static str = \"Admin\";\n",
    "const USER: &'static str = \"User\";\n",
    "const GUEST: &'static str = \"Guest\";\n",
    "\n",
    "struct Person {\n",
    "    name: String,\n",
    "    role: &'static str,\n",
    "}\n",
    "\n",
    "fn main() {\n",
    "    let levi = Person {\n",
    "        name: \"Levi\".to_string(),\n",
    "        role: ADMIN,\n",
    "    };\n",
    "    let eren = Person {\n",
    "        name: \"Eren\".to_string(),\n",
    "        role: USER,\n",
    "    };\n",
    "    let armin = Person {\n",
    "        name: \"Armin\".to_string(),\n",
    "        role: GUEST,\n",
    "    };\n",
    "}"
   ]
  },
  {
   "cell_type": "markdown",
   "metadata": {},
   "source": [
    "But what prevent someone to assign a wrong value?"
   ]
  },
  {
   "cell_type": "code",
   "execution_count": 5,
   "metadata": {
    "vscode": {
     "languageId": "rust"
    }
   },
   "outputs": [],
   "source": [
    "let mikasa = Person {\n",
    "    name: \"Mikasa\".to_string(),\n",
    "    role: \"TITAN\" //this WILL compile\n",
    "};"
   ]
  },
  {
   "cell_type": "markdown",
   "metadata": {},
   "source": [
    "Moreover, since those contants are not explicitly grouped, it's harder to know what values are possible. We would end up adding a comment to explain it or adding a prefix to the constant name or put them inside a namespace"
   ]
  },
  {
   "cell_type": "code",
   "execution_count": 6,
   "metadata": {
    "vscode": {
     "languageId": "rust"
    }
   },
   "outputs": [],
   "source": [
    "const ROLE_ADMIN: &'static str = \"Admin\";\n",
    "const ROLE_USER: &'static str = \"User\";\n",
    "const ROLE_GUEST: &'static str = \"Guest\";"
   ]
  },
  {
   "cell_type": "markdown",
   "metadata": {},
   "source": [
    "And the major downside is that we loss the safety of pattern matching"
   ]
  },
  {
   "cell_type": "code",
   "execution_count": 8,
   "metadata": {
    "vscode": {
     "languageId": "rust"
    }
   },
   "outputs": [],
   "source": [
    "fn can_access_restricted_content(person: &Person) -> bool {\n",
    "    match person.role {\n",
    "        ROLE_ADMIN => true,\n",
    "        ROLE_USER => true,\n",
    "        // if we forget to add this, the code will STILL compile\n",
    "        // ROLE_GUEST => false,\n",
    "        _ => true,\n",
    "    }\n",
    "}"
   ]
  },
  {
   "cell_type": "code",
   "execution_count": 16,
   "metadata": {
    "vscode": {
     "languageId": "rust"
    }
   },
   "outputs": [
    {
     "data": {
      "text/plain": [
       "true"
      ]
     },
     "execution_count": 16,
     "metadata": {},
     "output_type": "execute_result"
    }
   ],
   "source": [
    "let armin = Person {\n",
    "    name: \"Armin\".to_string(),\n",
    "    role: GUEST,\n",
    "};\n",
    "// we want it to be false, but it will be true\n",
    "can_access_restricted_content(&armin)"
   ]
  },
  {
   "cell_type": "markdown",
   "metadata": {},
   "source": [
    "#### Additional Data\n",
    "\n",
    "What if we need to store additional data for each role? We can use a struct to store the data:"
   ]
  },
  {
   "cell_type": "markdown",
   "metadata": {},
   "source": [
    "### Algebraic?"
   ]
  },
  {
   "cell_type": "markdown",
   "metadata": {},
   "source": [
    "## Common Types"
   ]
  },
  {
   "cell_type": "markdown",
   "metadata": {},
   "source": [
    "### Option"
   ]
  },
  {
   "cell_type": "code",
   "execution_count": 4,
   "metadata": {
    "vscode": {
     "languageId": "rust"
    }
   },
   "outputs": [
    {
     "name": "stdout",
     "output_type": "stream",
     "text": [
      "result: 5\n"
     ]
    }
   ],
   "source": [
    "// generic type is generally used\n",
    "// for simplicity we will use i32\n",
    "enum Maybe {\n",
    "    Some(i32),\n",
    "    Nothing,\n",
    "}\n",
    "\n",
    "fn divide(numerator: i32, denominator: i32) -> Maybe {\n",
    "    if denominator == 0 {\n",
    "        Maybe::Nothing\n",
    "    } else {\n",
    "        Maybe::Some(numerator / denominator)\n",
    "    }\n",
    "}\n",
    "\n",
    "fn main() {\n",
    "    let result = divide(10, 2);\n",
    "    match result {\n",
    "        Maybe::Some(value) => println!(\"result: {}\", value),\n",
    "        Maybe::Nothing => println!(\"cannot divide by zero\"),\n",
    "    }\n",
    "}\n",
    "\n",
    "main();"
   ]
  },
  {
   "cell_type": "markdown",
   "metadata": {},
   "source": [
    "So what's the benefit of using a `Maybe` type?\n",
    "\n",
    "- No more `null` pointer exception\n",
    "- Explicitly handle the case when the value is missing (otherwise the compiler will complain)\n",
    "- Can be chained together -> no more `if` statement\n",
    "\n",
    "Oh ya, btw Rust has a built-in `Option` type, similar to our `Maybe` type. So, let's use it instead"
   ]
  },
  {
   "cell_type": "code",
   "execution_count": 4,
   "metadata": {
    "vscode": {
     "languageId": "rust"
    }
   },
   "outputs": [
    {
     "ename": "Error",
     "evalue": "no field `id` on type `Option<&User>`",
     "output_type": "error",
     "traceback": [
      "\u001b[31m[E0609] Error:\u001b[0m no field `id` on type `Option<&User>`",
      "    \u001b[38;5;246m╭\u001b[0m\u001b[38;5;246m─\u001b[0m\u001b[38;5;246m[\u001b[0mcommand_4:1:1\u001b[38;5;246m]\u001b[0m",
      "    \u001b[38;5;246m│\u001b[0m",
      " \u001b[38;5;246m38 │\u001b[0m \u001b[38;5;249m \u001b[0m\u001b[38;5;249m \u001b[0m\u001b[38;5;249m \u001b[0m\u001b[38;5;249m \u001b[0m\u001b[38;5;249ml\u001b[0m\u001b[38;5;249me\u001b[0m\u001b[38;5;249mt\u001b[0m\u001b[38;5;249m \u001b[0m\u001b[38;5;249mp\u001b[0m\u001b[38;5;249mo\u001b[0m\u001b[38;5;249ms\u001b[0m\u001b[38;5;249mt\u001b[0m\u001b[38;5;249m \u001b[0m\u001b[38;5;249m=\u001b[0m\u001b[38;5;249m \u001b[0m\u001b[38;5;249mg\u001b[0m\u001b[38;5;249me\u001b[0m\u001b[38;5;249mt\u001b[0m\u001b[38;5;249m_\u001b[0m\u001b[38;5;249mp\u001b[0m\u001b[38;5;249mo\u001b[0m\u001b[38;5;249ms\u001b[0m\u001b[38;5;249mt\u001b[0m\u001b[38;5;249m(\u001b[0m\u001b[38;5;249m&\u001b[0m\u001b[38;5;249mp\u001b[0m\u001b[38;5;249mo\u001b[0m\u001b[38;5;249ms\u001b[0m\u001b[38;5;249mt\u001b[0m\u001b[38;5;249m_\u001b[0m\u001b[38;5;249md\u001b[0m\u001b[38;5;249mb\u001b[0m\u001b[38;5;249m,\u001b[0m\u001b[38;5;249m \u001b[0m\u001b[38;5;249mu\u001b[0m\u001b[38;5;249ms\u001b[0m\u001b[38;5;249me\u001b[0m\u001b[38;5;249mr\u001b[0m\u001b[38;5;249m.\u001b[0m\u001b[38;5;54mi\u001b[0m\u001b[38;5;54md\u001b[0m\u001b[38;5;249m)\u001b[0m\u001b[38;5;249m;\u001b[0m",
      " \u001b[38;5;240m   │\u001b[0m                                        \u001b[38;5;100m┬\u001b[0m\u001b[38;5;54m┬\u001b[0m  ",
      " \u001b[38;5;240m   │\u001b[0m                                        \u001b[38;5;100m╰\u001b[0m\u001b[38;5;100m─\u001b[0m\u001b[38;5;100m─\u001b[0m\u001b[38;5;100m─\u001b[0m help: one of the expressions' fields has a field of the same name: `unwrap().`",
      " \u001b[38;5;240m   │\u001b[0m                                         \u001b[38;5;54m│\u001b[0m  ",
      " \u001b[38;5;240m   │\u001b[0m                                         \u001b[38;5;54m╰\u001b[0m\u001b[38;5;54m─\u001b[0m\u001b[38;5;54m─\u001b[0m unknown field",
      "\u001b[38;5;246m────╯\u001b[0m"
     ]
    }
   ],
   "source": [
    "#[derive(Debug)]\n",
    "struct User {\n",
    "    username: String,\n",
    "    id: i32,\n",
    "}\n",
    "\n",
    "#[derive(Debug)]\n",
    "struct Post {\n",
    "    user_id: i32,\n",
    "    title: String,\n",
    "    content: String,\n",
    "}\n",
    "\n",
    "// the return is Option, indicating that it may or may not return a value\n",
    "fn get_user(user_db: &Vec<User>, id: i32) -> Option<&User> {\n",
    "    user_db.iter().find(|u| u.id == id)\n",
    "}\n",
    "\n",
    "// Option also\n",
    "fn get_post(post_db: &Vec<Post>, id: i32) -> Option<&Post> {\n",
    "    post_db.iter().find(|p| p.user_id == id)\n",
    "}\n",
    "\n",
    "fn main() {\n",
    "    let user_db =vec![User {\n",
    "        username: \"levi\".to_string(),\n",
    "        id: 1,\n",
    "    }];\n",
    "    let post_db = vec![Post {\n",
    "        user_id: 1,\n",
    "        title: \"Hello, world\".to_string(),\n",
    "        content: \"This is my first post\".to_string(),\n",
    "    }];\n",
    "\n",
    "    let user = get_user(&user_db, 1);\n",
    "    // this will be error\n",
    "    // no field `id` on type `Option<&User>`\n",
    "    let post = get_post(&post_db, user.id);\n",
    "}\n",
    "main()"
   ]
  },
  {
   "cell_type": "markdown",
   "metadata": {},
   "source": [
    "To resolve that **compile** error, we have to explicitly handle the case when the value is missing\n",
    "\n",
    "Notice that this is **compile** error, not **runtime** error. This is the power of the type system!"
   ]
  },
  {
   "cell_type": "code",
   "execution_count": 5,
   "metadata": {
    "vscode": {
     "languageId": "rust"
    }
   },
   "outputs": [
    {
     "name": "stdout",
     "output_type": "stream",
     "text": [
      "post: Post { user_id: 1, title: \"Hello, world\", content: \"This is my first post\" }\n"
     ]
    }
   ],
   "source": [
    "fn main() {\n",
    "    let user_db =vec![User {\n",
    "        username: \"levi\".to_string(),\n",
    "        id: 1,\n",
    "    }];\n",
    "    let post_db = vec![Post {\n",
    "        user_id: 1,\n",
    "        title: \"Hello, world\".to_string(),\n",
    "        content: \"This is my first post\".to_string(),\n",
    "    }];\n",
    "\n",
    "    let user = get_user(&user_db, 1);\n",
    "    match user {\n",
    "        // the user may or may not exist\n",
    "        Some(u) => {\n",
    "            let post = get_post(&post_db, u.id);\n",
    "            // the post may or may not exist\n",
    "            match post {\n",
    "                // here, we know that both user and post exist\n",
    "                Some(p) => println!(\"post: {:?}\", p),\n",
    "                None => println!(\"post not found\"),\n",
    "            }\n",
    "        },\n",
    "        None => println!(\"user not found\"),\n",
    "    }\n",
    "}\n",
    "main();"
   ]
  },
  {
   "cell_type": "markdown",
   "metadata": {},
   "source": [
    "#### Let pattern matching"
   ]
  },
  {
   "cell_type": "markdown",
   "metadata": {},
   "source": [
    "Well, quite long, it can be simplified using the `let` pattern matching:"
   ]
  },
  {
   "cell_type": "code",
   "execution_count": 6,
   "metadata": {
    "vscode": {
     "languageId": "rust"
    }
   },
   "outputs": [
    {
     "name": "stdout",
     "output_type": "stream",
     "text": [
      "post: Post { user_id: 1, title: \"Hello, world\", content: \"This is my first post\" }\n"
     ]
    }
   ],
   "source": [
    "fn main() {\n",
    "    let user_db =vec![User {\n",
    "        username: \"levi\".to_string(),\n",
    "        id: 1,\n",
    "    }];\n",
    "    let post_db = vec![Post {\n",
    "        user_id: 1,\n",
    "        title: \"Hello, world\".to_string(),\n",
    "        content: \"This is my first post\".to_string(),\n",
    "    }];\n",
    "\n",
    "    let user = get_user(&user_db, 1);\n",
    "    if let Some(u) = user {\n",
    "        let post = get_post(&post_db, u.id);\n",
    "        if let Some(p) = post {\n",
    "            println!(\"post: {:?}\", p);\n",
    "        } else {\n",
    "            println!(\"post not found\");\n",
    "        }\n",
    "    } else {\n",
    "        println!(\"user not found\");\n",
    "    }\n",
    "}\n",
    "main();"
   ]
  },
  {
   "cell_type": "markdown",
   "metadata": {},
   "source": [
    "#### `and_then`\n",
    "\n",
    "Hmm, still too long, can it be shorter? Yes! Using `and_then`:\n",
    "\n",
    "(We will discuss about `and_then` in more detail in the next lesson)"
   ]
  },
  {
   "cell_type": "code",
   "execution_count": 7,
   "metadata": {
    "vscode": {
     "languageId": "rust"
    }
   },
   "outputs": [
    {
     "name": "stdout",
     "output_type": "stream",
     "text": [
      "post: Post { user_id: 1, title: \"Hello, world\", content: \"This is my first post\" }\n"
     ]
    }
   ],
   "source": [
    "fn main() {\n",
    "    let user_db =vec![User {\n",
    "        username: \"levi\".to_string(),\n",
    "        id: 1,\n",
    "    }];\n",
    "    let post_db = vec![Post {\n",
    "        user_id: 1,\n",
    "        title: \"Hello, world\".to_string(),\n",
    "        content: \"This is my first post\".to_string(),\n",
    "    }];\n",
    "\n",
    "    let user = get_user(&user_db, 1);\n",
    "    let post = user.and_then(|u| get_post(&post_db, u.id));\n",
    "    match post {\n",
    "        Some(p) => println!(\"post: {:?}\", p),\n",
    "        None => println!(\"user/post not found\"),\n",
    "    }\n",
    "}\n",
    "main();"
   ]
  },
  {
   "cell_type": "markdown",
   "metadata": {},
   "source": [
    "#### How does `and_then` work?\n",
    "\n",
    "`and_then` is actually pretty simple. It takes a function that returns an `Option`. If the value is `None`, it will return `None`. If the value is `Some`, it will return the result of the function, i.e. if we have\n",
    "\n",
    "```rust\n",
    "x = Some(5)\n",
    "f: i32 -> Option<i32>\n",
    "g: i32 -> Option<i32>\n",
    "```\n",
    "\n",
    "We can chain, `x`, `f`, and `g` using `and_then` like this:\n",
    "\n",
    "```rust\n",
    "x.and_then(f).and_then(g)\n",
    "```\n",
    "\n",
    "```\n",
    "Option -> f -> Option -> g -> Option\n",
    "```\n",
    "\n",
    "Here is a simple implementation of `and_then`:"
   ]
  },
  {
   "cell_type": "code",
   "execution_count": 7,
   "metadata": {
    "vscode": {
     "languageId": "rust"
    }
   },
   "outputs": [
    {
     "name": "stdout",
     "output_type": "stream",
     "text": [
      "Some(2)\n"
     ]
    }
   ],
   "source": [
    "fn and_then<A, B, F>(x: Option<A>, f: F) -> Option<B> \n",
    "where\n",
    "    F: Fn(A) -> Option<B>, \n",
    "{\n",
    "    match x {\n",
    "        Some(x) => f(x),\n",
    "        None => None,\n",
    "    }\n",
    "}\n",
    "\n",
    "fn main() {\n",
    "    let a = Some(1);\n",
    "    let b = and_then(a, |x| Some(x + 1));\n",
    "    println!(\"{:?}\", b);\n",
    "}\n",
    "main();\n"
   ]
  },
  {
   "cell_type": "markdown",
   "metadata": {},
   "source": [
    "We will discuss about `and_then` in more detail in the next lesson, for now just remember that it's a way to chain `Option` together"
   ]
  },
  {
   "cell_type": "markdown",
   "metadata": {},
   "source": [
    "#### How about `NPE`?"
   ]
  },
  {
   "cell_type": "markdown",
   "metadata": {},
   "source": [
    "Why do we bother to use `Option` instead of just using `null`?\n",
    "\n",
    "Let's rewrite the code in Golang"
   ]
  },
  {
   "cell_type": "markdown",
   "metadata": {},
   "source": [
    "```go\n",
    "package main\n",
    "\n",
    "import \"fmt\"\n",
    "\n",
    "type User struct {\n",
    "\tUsername string\n",
    "\tID       int\n",
    "}\n",
    "\n",
    "type Post struct {\n",
    "\tUserID  int\n",
    "\tTitle   string\n",
    "\tContent string\n",
    "}\n",
    "\n",
    "func getUser(userDB []User, id int) *User {\n",
    "\tfor _, u := range userDB {\n",
    "\t\tif u.ID == id {\n",
    "\t\t\treturn &u\n",
    "\t\t}\n",
    "\t}\n",
    "\treturn nil\n",
    "}\n",
    "\n",
    "func getPost(postDB []Post, id int) *Post {\n",
    "\tfor _, p := range postDB {\n",
    "\t\tif p.UserID == id {\n",
    "\t\t\treturn &p\n",
    "\t\t}\n",
    "\t}\n",
    "\treturn nil\n",
    "}\n",
    "\n",
    "func main() {\n",
    "\tuserDB := []User{\n",
    "\t\t{\n",
    "\t\t\tUsername: \"levi\",\n",
    "\t\t\tID:       1,\n",
    "\t\t},\n",
    "\t}\n",
    "\n",
    "\tpostDB := []Post{\n",
    "\t\t{\n",
    "\t\t\tUserID:  1,\n",
    "\t\t\tTitle:   \"Hello, world\",\n",
    "\t\t\tContent: \"This is my first post\",\n",
    "\t\t},\n",
    "\t}\n",
    "\n",
    "\t// get unexist user ID\n",
    "\tuser := getUser(userDB, 2)\n",
    "\tpost := getPost(postDB, user.ID)\n",
    "\tfmt.Println(post.Title)\n",
    "}\n",
    "```"
   ]
  },
  {
   "cell_type": "markdown",
   "metadata": {},
   "source": [
    "What's the output?\n",
    "\n",
    "```bash\n",
    "panic: runtime error: invalid memory address or nil pointer dereference\n",
    "[signal SIGSEGV: segmentation violation code=0x2 addr=0x10 pc=0x100becb94]\n",
    "\n",
    "goroutine 1 [running]:\n",
    "```\n",
    "\n",
    "Ooops panic!\n",
    "\n",
    "The panic occurs because the `getUser` function returns `nil` (`nil.ID` raise panic) and we forgot to handle that case.\n",
    "\n",
    "In Rust, this code won't even compile! Saving you from the headache of debugging null pointer exceptions in production"
   ]
  },
  {
   "cell_type": "markdown",
   "metadata": {},
   "source": [
    "### Result\n",
    "\n",
    "Another handy type is `Result`. It's similar to `Option`, but it can also store an error message. It's useful when we want to return an error message when something goes wrong.\n",
    "\n",
    "It's named `Either` in Haskell. Let's try to implement it in Rust"
   ]
  },
  {
   "cell_type": "code",
   "execution_count": 3,
   "metadata": {
    "vscode": {
     "languageId": "rust"
    }
   },
   "outputs": [
    {
     "name": "stdout",
     "output_type": "stream",
     "text": [
      "result: 5\n",
      "cannot divide by zero\n"
     ]
    }
   ],
   "source": [
    "// generic type is usually used\n",
    "// for simplicity we will use i32 and String\n",
    "enum Either {\n",
    "    Left(String),\n",
    "    Right(i32),\n",
    "}\n",
    "\n",
    "fn divide(numerator: i32, denominator: i32) -> Either {\n",
    "    if denominator == 0 {\n",
    "        Either::Left(\"cannot divide by zero\".to_string())\n",
    "    } else {\n",
    "        Either::Right(numerator / denominator)\n",
    "    }\n",
    "}\n",
    "fn main() {\n",
    "    match divide(10, 2) {\n",
    "        Either::Right(value) => println!(\"result: {}\", value),\n",
    "        Either::Left(message) => println!(\"{}\", message),\n",
    "    }\n",
    "\n",
    "    match divide(10, 0) {\n",
    "        Either::Right(value) => println!(\"result: {}\", value),\n",
    "        Either::Left(message) => println!(\"{}\", message),\n",
    "    }\n",
    "}\n",
    "main();"
   ]
  },
  {
   "cell_type": "markdown",
   "metadata": {},
   "source": [
    "Left is for error, Right is for success\n",
    "\n",
    "So why is it useful? Let's see an example in another language\n"
   ]
  },
  {
   "cell_type": "markdown",
   "metadata": {},
   "source": [
    "#### Error Pipeline in Golang"
   ]
  },
  {
   "cell_type": "markdown",
   "metadata": {
    "vscode": {
     "languageId": "rust"
    }
   },
   "source": [
    "```go\n",
    "package main\n",
    "\n",
    "import (\n",
    "\t\"errors\"\n",
    "\t\"fmt\"\n",
    "\t\"math\"\n",
    ")\n",
    "\n",
    "func getSquareRoot(x float64) (float64, error) {\n",
    "\tif x < 0 {\n",
    "\t\treturn 0, errors.New(\"cannot calculate square root of negative number\")\n",
    "\t}\n",
    "\treturn math.Sqrt(x), nil\n",
    "}\n",
    "\n",
    "func doubleValue(x float64) (float64, error) {\n",
    "\tif x > 1000 {\n",
    "\t\treturn 0, errors.New(\"input too large\")\n",
    "\t}\n",
    "\treturn x * 2, nil\n",
    "}\n",
    "\n",
    "func convertToString(x float64) (string, error) {\n",
    "\tif x > 500 {\n",
    "\t\treturn \"\", errors.New(\"value too large to convert to string\")\n",
    "\t}\n",
    "\treturn fmt.Sprintf(\"%.2f\", x), nil\n",
    "}\n",
    "\n",
    "func processValue(x float64) (string, error) {\n",
    "\tsqrt, err := getSquareRoot(x)\n",
    "\tif err != nil {\n",
    "\t\treturn \"\", err\n",
    "\t}\n",
    "\n",
    "\tdoubled, err := doubleValue(sqrt)\n",
    "\tif err != nil {\n",
    "\t\treturn \"\", err\n",
    "\t}\n",
    "\n",
    "\tstr, err := convertToString(doubled)\n",
    "\tif err != nil {\n",
    "\t\treturn \"\", err\n",
    "\t}\n",
    "\n",
    "\treturn \"Result: \" + str, nil\n",
    "}\n",
    "\n",
    "func main() {\n",
    "\tresult, err := processValue(16)\n",
    "\tif err != nil {\n",
    "\t\tfmt.Println(\"Error:\", err)\n",
    "\t\treturn\n",
    "\t}\n",
    "\tfmt.Println(result)\n",
    "}\n",
    "```"
   ]
  },
  {
   "cell_type": "markdown",
   "metadata": {},
   "source": [
    "That's a lot of `if err != nil`!"
   ]
  },
  {
   "cell_type": "markdown",
   "metadata": {},
   "source": [
    "#### Error Pipeline in Rust"
   ]
  },
  {
   "cell_type": "code",
   "execution_count": 2,
   "metadata": {
    "vscode": {
     "languageId": "rust"
    }
   },
   "outputs": [
    {
     "name": "stdout",
     "output_type": "stream",
     "text": [
      "Result: 8.00\n"
     ]
    }
   ],
   "source": [
    "use std::fmt;\n",
    "\n",
    "#[derive(Debug)]\n",
    "enum MathError {\n",
    "    NegativeSquareRoot,\n",
    "    InputTooLarge,\n",
    "    ValueTooLarge,\n",
    "}\n",
    "\n",
    "impl fmt::Display for MathError {\n",
    "    fn fmt(&self, f: &mut fmt::Formatter) -> fmt::Result {\n",
    "        match self {\n",
    "            MathError::NegativeSquareRoot => write!(f, \"cannot calculate square root of negative number\"),\n",
    "            MathError::InputTooLarge => write!(f, \"input too large\"),\n",
    "            MathError::ValueTooLarge => write!(f, \"value too large to convert to string\"),\n",
    "        }\n",
    "    }\n",
    "}\n",
    "\n",
    "fn get_square_root(x: f64) -> Result<f64, MathError> {\n",
    "    if x < 0.0 {\n",
    "        return Err(MathError::NegativeSquareRoot);\n",
    "    }\n",
    "    Ok(x.sqrt())\n",
    "}\n",
    "\n",
    "fn double_value(x: f64) -> Result<f64, MathError> {\n",
    "    if x > 1000.0 {\n",
    "        return Err(MathError::InputTooLarge);\n",
    "    }\n",
    "    Ok(x * 2.0)\n",
    "}\n",
    "\n",
    "fn convert_to_string(x: f64) -> Result<String, MathError> {\n",
    "    if x > 500.0 {\n",
    "        return Err(MathError::ValueTooLarge);\n",
    "    }\n",
    "    Ok(format!(\"{:.2}\", x))\n",
    "}\n",
    "\n",
    "fn process_value(x: f64) -> Result<String, MathError> {\n",
    "    match get_square_root(x) {\n",
    "        Ok(sqrt_result) => {\n",
    "            match double_value(sqrt_result) {\n",
    "                Ok(doubled_result) => {\n",
    "                    match convert_to_string(doubled_result) {\n",
    "                        Ok(string_result) => {\n",
    "                            let final_result = format!(\"Result: {}\", string_result);\n",
    "                            Ok(final_result)\n",
    "                        }\n",
    "                        Err(err) => Err(err),\n",
    "                    }\n",
    "                }\n",
    "                Err(err) => Err(err),\n",
    "            }\n",
    "        }\n",
    "        Err(err) => Err(err),\n",
    "    }\n",
    "}\n",
    "\n",
    "fn main() {\n",
    "    let input = 16.0;\n",
    "\n",
    "    match process_value(input) {\n",
    "        Ok(result) => println!(\"{}\", result),\n",
    "        Err(err) => println!(\"Error: {}\", err),\n",
    "    }\n",
    "}\n",
    "\n",
    "main();"
   ]
  },
  {
   "cell_type": "markdown",
   "metadata": {},
   "source": [
    "#### `and_then` again\n",
    "\n",
    "Wow, such a deeply nested pattern matching! Can we simplify it?\n",
    "\n",
    "Remember `and_then` from the `Option` type? We can use it here!"
   ]
  },
  {
   "cell_type": "code",
   "execution_count": 4,
   "metadata": {
    "vscode": {
     "languageId": "rust"
    }
   },
   "outputs": [
    {
     "name": "stdout",
     "output_type": "stream",
     "text": [
      "Result: 8.00\n"
     ]
    }
   ],
   "source": [
    "fn process_value(x: f64) -> Result<String, MathError> {\n",
    "    get_square_root(x)\n",
    "        .and_then(double_value)\n",
    "        .and_then(convert_to_string)\n",
    "        .map(|string_result| format!(\"Result: {}\", string_result))\n",
    "}\n",
    "\n",
    "main();"
   ]
  },
  {
   "cell_type": "markdown",
   "metadata": {},
   "source": [
    "#### `?` operator"
   ]
  },
  {
   "cell_type": "markdown",
   "metadata": {},
   "source": [
    "The `?` operator in Rust is a shorthand for the match expression when working with `Result` or `Option` types. It is used to simplify error handling and propagation in a concise and readable way.\n",
    "\n",
    "When used with a Result type, the ? operator does the following:\n",
    "\n",
    "- If the `Result` is `Ok(value)`, the `?` operator unwraps the value and allows the execution to continue with the unwrapped value.\n",
    "- If the `Result is Err(error)`, the `?` operator immediately returns the error from the current function, propagating it to the caller."
   ]
  },
  {
   "cell_type": "code",
   "execution_count": 5,
   "metadata": {
    "vscode": {
     "languageId": "rust"
    }
   },
   "outputs": [
    {
     "name": "stdout",
     "output_type": "stream",
     "text": [
      "Result: 8.00\n"
     ]
    }
   ],
   "source": [
    "fn process_value(x: f64) -> Result<String, MathError> {\n",
    "    let sqrt_result = get_square_root(x)?;\n",
    "    let doubled_result = double_value(sqrt_result)?;\n",
    "    let string_result = convert_to_string(doubled_result)?;\n",
    "    Ok(format!(\"Result: {}\", string_result))\n",
    "}\n",
    "\n",
    "main();"
   ]
  },
  {
   "cell_type": "markdown",
   "metadata": {},
   "source": [
    "## SQL-Lite"
   ]
  },
  {
   "cell_type": "markdown",
   "metadata": {},
   "source": [
    "## Pattern Matching"
   ]
  }
 ],
 "metadata": {
  "kernelspec": {
   "display_name": "Rust",
   "language": "rust",
   "name": "rust"
  },
  "language_info": {
   "codemirror_mode": "rust",
   "file_extension": ".rs",
   "mimetype": "text/rust",
   "name": "Rust",
   "pygment_lexer": "rust",
   "version": ""
  }
 },
 "nbformat": 4,
 "nbformat_minor": 2
}
