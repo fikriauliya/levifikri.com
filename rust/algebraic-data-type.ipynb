{
 "cells": [
  {
   "cell_type": "raw",
   "metadata": {
    "vscode": {
     "languageId": "raw"
    }
   },
   "source": [
    "---\n",
    "format:\n",
    "  html:\n",
    "    toc: true\n",
    "order: 2\n",
    "title: Algebraic Data Types & Pattern Matching\n",
    "---"
   ]
  },
  {
   "cell_type": "markdown",
   "metadata": {},
   "source": [
    "## Algebraic Data Types\n",
    "\n",
    "It sounds fancy, but it's just a way to define a new type in terms of other types. But why not just call it a \"composite type\" or something? Well, the term \"algebraic data type\" comes from the fact that these types can be thought of as solutions to algebraic equations. We'll see what that means in a bit.\n",
    "\n",
    "There are two main kinds of algebraic data types: product types and sum types. "
   ]
  },
  {
   "cell_type": "markdown",
   "metadata": {},
   "source": [
    "### Product Type\n",
    "\n",
    "Product Type is a type that contains multiple values, each with its own type. What are they? You may have already seen them in the form of tuples, structs, array, etc. Basically they are just a collection of values. And if we wish, we can represent them all as a tuple."
   ]
  },
  {
   "cell_type": "markdown",
   "metadata": {},
   "source": [
    "Let's start from a primitive types:"
   ]
  },
  {
   "cell_type": "code",
   "execution_count": 3,
   "metadata": {
    "vscode": {
     "languageId": "rust"
    }
   },
   "outputs": [],
   "source": [
    "let name = \"Levi\";\n",
    "let age = 25;"
   ]
  },
  {
   "cell_type": "code",
   "execution_count": 4,
   "metadata": {
    "vscode": {
     "languageId": "rust"
    }
   },
   "outputs": [],
   "source": [
    "let name = \"Levi\";\n",
    "let age = 25;\n",
    "let gender = \"Male\";\n",
    "let address = \"1234 Main St\";\n",
    "let city = \"San Francisco\";\n",
    "let state = \"CA\";"
   ]
  },
  {
   "cell_type": "markdown",
   "metadata": {},
   "source": [
    "That's too much variables, let's group some of them into a tuple:"
   ]
  },
  {
   "cell_type": "code",
   "execution_count": 5,
   "metadata": {
    "vscode": {
     "languageId": "rust"
    }
   },
   "outputs": [],
   "source": [
    "let name = \"Levi\";\n",
    "let age = 25;\n",
    "let gender = \"Male\";\n",
    "let address = (\"1234 Main St\", \"San Francisco\", \"CA\");"
   ]
  },
  {
   "cell_type": "markdown",
   "metadata": {},
   "source": [
    "We can do further grouping:"
   ]
  },
  {
   "cell_type": "code",
   "execution_count": 6,
   "metadata": {
    "vscode": {
     "languageId": "rust"
    }
   },
   "outputs": [],
   "source": [
    "let person = (\"Levi\", 25, \"Male\", (\"1234 Main St\", \"San Francisco\", \"CA\"));"
   ]
  },
  {
   "cell_type": "markdown",
   "metadata": {},
   "source": [
    "How to get the age of the person? Just access the second element of the tuple:"
   ]
  },
  {
   "cell_type": "code",
   "execution_count": 12,
   "metadata": {
    "vscode": {
     "languageId": "rust"
    }
   },
   "outputs": [
    {
     "name": "stdout",
     "output_type": "stream",
     "text": [
      "age: 25\n",
      "gender: Male\n"
     ]
    }
   ],
   "source": [
    "fn get_age(person: (&str, i32, &str, (&str, &str, &str))) -> i32 {\n",
    "    person.1\n",
    "}\n",
    "\n",
    "fn get_gender(person: (&str, i32, &str, (&str, &str, &str))) -> String {\n",
    "    person.2.to_string()\n",
    "}\n",
    "\n",
    "println!(\"age: {}\", get_age(person));\n",
    "println!(\"gender: {}\", get_gender(person));\n"
   ]
  },
  {
   "cell_type": "markdown",
   "metadata": {},
   "source": [
    "#### Named `tuple` == `struct`\n",
    "\n",
    "The tuple is a very simple form of a product type. But it's not very readable. We can use a struct to give names to the fields:"
   ]
  },
  {
   "cell_type": "code",
   "execution_count": 22,
   "metadata": {
    "vscode": {
     "languageId": "rust"
    }
   },
   "outputs": [
    {
     "name": "stdout",
     "output_type": "stream",
     "text": [
      "name: Levi\n",
      "age: 25\n"
     ]
    }
   ],
   "source": [
    "struct Person {\n",
    "    name: String,\n",
    "    age: i32,\n",
    "    gender: String,\n",
    "    address: Address,\n",
    "}\n",
    "\n",
    "struct Address {\n",
    "    street: String,\n",
    "    city: String,\n",
    "    state: String,\n",
    "}\n",
    "\n",
    "fn main() {\n",
    "    let person = Person {\n",
    "        name: \"Levi\".to_string(),\n",
    "        age: 25,\n",
    "        gender: \"Male\".to_string(),\n",
    "        address: Address {\n",
    "            street: \"1234 Main St\".to_string(),\n",
    "            city: \"San Francisco\".to_string(),\n",
    "            state: \"CA\".to_string(),\n",
    "        },\n",
    "    };\n",
    "    println!(\"name: {}\", person.name);\n",
    "    println!(\"age: {}\", person.age);\n",
    "}\n",
    "main();"
   ]
  },
  {
   "cell_type": "markdown",
   "metadata": {},
   "source": [
    "That's a lot more readable! But essentially, it's the same thing as a tuple."
   ]
  },
  {
   "cell_type": "markdown",
   "metadata": {},
   "source": [
    "#### Long `tuple` == `array`"
   ]
  },
  {
   "cell_type": "markdown",
   "metadata": {},
   "source": [
    "Now, let's make more persons:"
   ]
  },
  {
   "cell_type": "code",
   "execution_count": 24,
   "metadata": {
    "vscode": {
     "languageId": "rust"
    }
   },
   "outputs": [
    {
     "name": "stdout",
     "output_type": "stream",
     "text": [
      "names: (\"Levi\", \"Eren\")\n"
     ]
    }
   ],
   "source": [
    "fn get_names(person_1: &Person, person_2: &Person) -> (String, String) {\n",
    "    (person_1.name.clone(), person_2.name.clone())\n",
    "}\n",
    "\n",
    "fn main() {\n",
    "    let person_1 = Person {\n",
    "        name: \"Levi\".to_string(),\n",
    "        age: 25,\n",
    "        gender: \"Male\".to_string(),\n",
    "        address: Address {\n",
    "            street: \"1234 Main St\".to_string(),\n",
    "            city: \"San Francisco\".to_string(),\n",
    "            state: \"CA\".to_string(),\n",
    "        },\n",
    "    };\n",
    "    let person_2 = Person {\n",
    "        name: \"Eren\".to_string(),\n",
    "        age: 24,\n",
    "        gender: \"Male\".to_string(),\n",
    "        address: Address {\n",
    "            street: \"5678 Main St\".to_string(),\n",
    "            city: \"San Francisco\".to_string(),\n",
    "            state: \"CA\".to_string(),\n",
    "        },\n",
    "    };\n",
    "    // ... can be much more\n",
    "    let names = get_names(&person_1, &person_2);\n",
    "    println!(\"names: {:?}\", names);\n",
    "}\n",
    "main();"
   ]
  },
  {
   "cell_type": "markdown",
   "metadata": {},
   "source": [
    "How about if we have 100 persons? Do we need to define 100 variables? No, we can use an array:"
   ]
  },
  {
   "cell_type": "code",
   "execution_count": 25,
   "metadata": {
    "vscode": {
     "languageId": "rust"
    }
   },
   "outputs": [],
   "source": [
    "fn get_names(person: &Vec<Person>) -> Vec<String> {\n",
    "    person.iter().map(|p| p.name.clone()).collect()\n",
    "}\n",
    "\n",
    "fn main() {\n",
    "    let people = vec![\n",
    "        Person {\n",
    "            name: \"Levi\".to_string(),\n",
    "            age: 25,\n",
    "            gender: \"Male\".to_string(),\n",
    "            address: Address {\n",
    "                street: \"1234 Main St\".to_string(),\n",
    "                city: \"San Francisco\".to_string(),\n",
    "                state: \"CA\".to_string(),\n",
    "            },\n",
    "        },\n",
    "        Person {\n",
    "            name: \"Eren\".to_string(),\n",
    "            age: 24,\n",
    "            gender: \"Male\".to_string(),\n",
    "            address: Address {\n",
    "                street: \"5678 Main St\".to_string(),\n",
    "                city: \"San Francisco\".to_string(),\n",
    "                state: \"CA\".to_string(),\n",
    "            },\n",
    "        }\n",
    "    ];\n",
    "\n",
    "    let names = get_names(&people);\n",
    "    println!(\"names: {:?}\", names);\n",
    "}"
   ]
  },
  {
   "cell_type": "markdown",
   "metadata": {},
   "source": [
    "Cool! But that's essentially the same thing as a tuple"
   ]
  },
  {
   "cell_type": "code",
   "execution_count": 27,
   "metadata": {
    "vscode": {
     "languageId": "rust"
    }
   },
   "outputs": [
    {
     "name": "stdout",
     "output_type": "stream",
     "text": [
      "((\"Levi\", 25, \"Male\", (\"1234 Main St\", \"San Francisco\", \"CA\")), (\"Eren\", 24, \"Male\"), (\"5678 Main St\", \"San Francisco\", \"CA\"))\n"
     ]
    }
   ],
   "source": [
    "let people = (\n",
    "    (\"Levi\", 25, \"Male\", (\"1234 Main St\", \"San Francisco\", \"CA\")),\n",
    "    (\"Eren\", 24, \"Male\"), (\"5678 Main St\", \"San Francisco\", \"CA\"));\n",
    "\n",
    "println!(\"{:?}\", people);"
   ]
  },
  {
   "cell_type": "markdown",
   "metadata": {},
   "source": [
    "But yeah you know that's not easily readable"
   ]
  },
  {
   "cell_type": "markdown",
   "metadata": {},
   "source": [
    "### Sum Type"
   ]
  },
  {
   "cell_type": "markdown",
   "metadata": {},
   "source": [
    "## SQL-Lite"
   ]
  },
  {
   "cell_type": "markdown",
   "metadata": {},
   "source": [
    "## Pattern Matching"
   ]
  }
 ],
 "metadata": {
  "kernelspec": {
   "display_name": "Rust",
   "language": "rust",
   "name": "rust"
  },
  "language_info": {
   "codemirror_mode": "rust",
   "file_extension": ".rs",
   "mimetype": "text/rust",
   "name": "Rust",
   "pygment_lexer": "rust",
   "version": ""
  }
 },
 "nbformat": 4,
 "nbformat_minor": 2
}
