{
 "cells": [
  {
   "cell_type": "raw",
   "metadata": {},
   "source": [
    "---\n",
    "format:\n",
    "  html:\n",
    "    toc: true\n",
    "    html-math-method: katex\n",
    "order: 0\n",
    "title: Introduction\n",
    "---"
   ]
  },
  {
   "cell_type": "markdown",
   "metadata": {},
   "source": [
    "## Agendas\n",
    "\n",
    "This is sorted by latest, if you wish to learn from the beginning, please start from the oldest one\n",
    "\n",
    "### 3. Recursion and Tree\n",
    "\n",
    "- [Recursion](./algorithm/recursion.ipynb)\n",
    "- [Tree](./data-structure/tree.ipynb)\n",
    "\n",
    "{{< video https://www.youtube.com/watch?v=JG7n33n7WKQ >}}\n",
    "\n",
    "### 2. Bitmap, Queue, and Stack\n",
    "\n",
    "- [Bitmap](./data-structure/bitmap.ipynb)\n",
    "- [Queue](./data-structure/queue.ipynb)\n",
    "- [Stack](./data-structure/stack.ipynb)\n",
    "\n",
    "{{< video https://www.youtube.com/watch?v=iskbqH1RGVo >}}\n",
    "\n",
    "### 1. Bloom Filter, Cryptographic Hash, and Hash Table\n",
    "\n",
    "- [Bloom Filter](./data-structure/bloom_filter.ipynb)\n",
    "- [Cryptographic Hash](./cryptography/cryptographic_hash.ipynb)\n",
    "- [Hash Map](./data-structure/hashmap.ipynb)\n",
    "\n",
    "{{< video https://www.youtube.com/watch?v=fwHTUsbOlsg >}}\n",
    "{{< video https://www.youtube.com/watch?v=qArebC8QuTk >}}\n",
    "\n",
    "### 0. Big O Notation, Set, and Hash Function\n",
    "\n",
    "- [Set](./data-structure/set.ipynb)\n",
    "\n",
    "{{< video https://www.youtube.com/watch?v=CXDY422MN2o >}}\n",
    "{{< video https://www.youtube.com/watch?v=900JtSSGSfE >}}\n",
    "\n",
    "### Planned\n",
    "- Dynamic Programming, Greedy\n",
    "- BFS, Maze Generator\n",
    "- Interpreter Design\n",
    "- Union Disjoint Set, Heap, Fenwick Tree"
   ]
  }
 ],
 "metadata": {
  "kernelspec": {
   "display_name": "env",
   "language": "python",
   "name": "python3"
  },
  "language_info": {
   "codemirror_mode": {
    "name": "ipython",
    "version": 3
   },
   "file_extension": ".py",
   "mimetype": "text/x-python",
   "name": "python",
   "nbconvert_exporter": "python",
   "pygments_lexer": "ipython3",
   "version": "3.11.1"
  }
 },
 "nbformat": 4,
 "nbformat_minor": 2
}
