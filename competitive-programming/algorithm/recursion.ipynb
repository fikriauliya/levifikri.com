{
 "cells": [
  {
   "cell_type": "raw",
   "metadata": {},
   "source": [
    "---\n",
    "format:\n",
    "  html:\n",
    "    toc: true\n",
    "    html-math-method: katex\n",
    "order: 1\n",
    "--- "
   ]
  },
  {
   "cell_type": "markdown",
   "metadata": {},
   "source": [
    "# Recursion\n",
    "\n",
    "Recursion is a method of solving problems that involves breaking a problem down into smaller and smaller subproblems until you get to a small enough problem that it can be solved trivially. Usually recursion involves a function calling itself. While it may not seem like much on the surface, recursion allows us to write elegant solutions to problems that may otherwise be very difficult to program.\n",
    "\n",
    "## 3 Rules of Recursion\n",
    "\n",
    "1. A recursive algorithm must have a **base case.**\n",
    "2. A recursive algorithm must **change its state** and move toward the base case.\n",
    "3. A recursive algorithm must **call itself**, recursively.\n",
    "\n",
    "## Examples\n"
   ]
  },
  {
   "cell_type": "markdown",
   "metadata": {},
   "source": [
    "### Finding Length of a String\n",
    "\n",
    "<!-- recursive latex -->\n",
    "$$\n",
    "\\begin{align}\n",
    "\\text{length}(s) = \\begin{cases}\n",
    "0 & \\text{if } s = \\text{''} \\\\\n",
    "1 + \\text{length}(s[1:]) & \\text{otherwise}\n",
    "\\end{cases}\n",
    "\\end{align}\n",
    "$$\n",
    "\n",
    "Let's execute this function on the string \"hello\".\n",
    "\n",
    "$$\n",
    "\\begin{align}\n",
    "\\text{length}(\\text{\"hello\"}) &= 1 + \\text{length}(\\text{\"ello\"}) \\\\\n",
    "&= 1 + 1 + \\text{length}(\\text{\"llo\"}) \\\\\n",
    "&= 1 + 1 + 1 + \\text{length}(\\text{\"lo\"}) \\\\\n",
    "&= 1 + 1 + 1 + 1 + \\text{length}(\\text{\"o\"}) \\\\\n",
    "&= 1 + 1 + 1 + 1 + 1 + \\text{length}(\\text{\"\"}) \\\\\n",
    "&= 1 + 1 + 1 + 1 + 1 + 0 \\\\\n",
    "&= 5\n",
    "\\end{align}\n",
    "$$"
   ]
  },
  {
   "cell_type": "code",
   "execution_count": 22,
   "metadata": {},
   "outputs": [
    {
     "data": {
      "text/plain": [
       "5"
      ]
     },
     "execution_count": 22,
     "metadata": {},
     "output_type": "execute_result"
    }
   ],
   "source": [
    "def len_of_string(s):\n",
    "    if s == '':\n",
    "        return 0\n",
    "    return 1 + len_of_string(s[1:])\n",
    "\n",
    "len_of_string('hello')"
   ]
  },
  {
   "cell_type": "markdown",
   "metadata": {},
   "source": [
    "### Factorial\n",
    "\n",
    "$$\n",
    "n! = \\begin{cases}\n",
    "1 & \\text{if } n = 0 \\quad \\text{(base case)}\\\\ \n",
    "(n-1)! \\times n & \\text{if } n > 0 \\quad \\text{(recursive case)}\n",
    "\\end{cases}\n",
    "$$\n",
    "\n",
    "Let's execute the factorial function for $n=3$:\n",
    "$$\n",
    "\\begin{align}\n",
    "3! &= 3 \\times 2! \\\\\n",
    "&= 3 \\times 2 \\times 1! \\\\\n",
    "&= 3 \\times 2 \\times 1 \\times 0! \\\\\n",
    "&= 3 \\times 2 \\times 1 \\times 1 \\\\\n",
    "&= 6\n",
    "\\end{align}\n",
    "$$\n"
   ]
  },
  {
   "cell_type": "code",
   "execution_count": 1,
   "metadata": {},
   "outputs": [
    {
     "data": {
      "text/plain": [
       "120"
      ]
     },
     "execution_count": 1,
     "metadata": {},
     "output_type": "execute_result"
    }
   ],
   "source": [
    "def factorial(n):\n",
    "    if n == 0:\n",
    "        return 1\n",
    "    else:\n",
    "        return factorial(n-1) * n\n",
    "\n",
    "factorial(5)"
   ]
  },
  {
   "cell_type": "markdown",
   "metadata": {},
   "source": [
    "### Palindrom Checker\n",
    "\n",
    "<!-- latex, recursive function -->\n",
    "\n",
    "$$\n",
    "\\text{isPalindrome}(s) = \\begin{cases}\n",
    "\\text{True} & \\text{if } s = \\text{''} \\quad \\text{(base case)}\\\\\n",
    "\\text{False} & \\text{if } s[0] \\neq s[-1] \\quad \\text{(base case)}\\\\\n",
    "\\text{isPalindrome}(s[1:-1]) & \\text{if } s[0] = s[-1] \\quad \\text{(recursive case)}\n",
    "\\end{cases}\n",
    "$$\n",
    "\n",
    "Executing the function for $s = \\text{'racecar'}$:\n",
    "$$\n",
    "\\begin{align}\n",
    "\\text{isPalindrome}(\\text{'racecar'}) &= \\text{isPalindrome}(\\text{'aceca'}) \\\\\n",
    "&= \\text{isPalindrome}(\\text{'cec'}) \\\\\n",
    "&= \\text{isPalindrome}(\\text{'e'}) \\\\\n",
    "&= \\text{isPalindrome}(\\text{''}) \\\\\n",
    "&= \\text{True}\n",
    "\\end{align}\n",
    "$$\n",
    "\n",
    "For $s = \\text{'oello'}$:\n",
    "$$\n",
    "\\begin{align}\n",
    "\\text{isPalindrome}(\\text{'oello'}) &= \\text{isPalindrome}(\\text{'ell'}) \\\\\n",
    "&= \\text{False}\n",
    "\\end{align}\n",
    "$$\n"
   ]
  },
  {
   "cell_type": "code",
   "execution_count": 2,
   "metadata": {},
   "outputs": [
    {
     "name": "stdout",
     "output_type": "stream",
     "text": [
      "True\n",
      "False\n"
     ]
    }
   ],
   "source": [
    "def is_palindrom(s):\n",
    "    if len(s) <= 1:\n",
    "        return True\n",
    "    else:\n",
    "        return s[0] == s[-1] and is_palindrom(s[1:-1])\n",
    "\n",
    "print(is_palindrom('radar'))\n",
    "print(is_palindrom('radars'))"
   ]
  },
  {
   "cell_type": "markdown",
   "metadata": {},
   "source": [
    "### Tower of Hanoi\n",
    "\n",
    "<!-- picture -->\n",
    "![Tower of Hanoi](https://upload.wikimedia.org/wikipedia/commons/0/07/Tower_of_Hanoi.jpeg)\n",
    "\n",
    "How to move all disks from the leftmost peg to the rightmost peg?\n",
    "\n",
    "<!-- step by step illustration -->\n",
    "![Tower of Hanoi](https://upload.wikimedia.org/wikipedia/commons/8/8d/Iterative_algorithm_solving_a_6_disks_Tower_of_Hanoi.gif)\n",
    "\n",
    "<!-- latex -->\n",
    "\n",
    "$$\n",
    "\\text{hanoi}(n, \\text{from}, \\text{to}, \\text{via}) = \\begin{cases}\n",
    "\\text{do nothing} & \\text{if } n = 0 \\quad \\text{(base case)}\\\\\n",
    "\\text{hanoi}(n-1, \\text{from}, \\text{via}, \\text{to}) & \\text{if } n > 0 \\quad \\text{(recursive case)}\\\\\n",
    "\\text{move disk from } from \\text{ to } to & \\text{if } n = 1 \\quad \\text{(base case)}\\\\\n",
    "\\text{hanoi}(n-1, \\text{via}, \\text{to}, \\text{from}) & \\text{if } n > 0 \\quad \\text{(recursive case)}\n",
    "\\end{cases}\n",
    "$$"
   ]
  },
  {
   "cell_type": "code",
   "execution_count": 5,
   "metadata": {},
   "outputs": [
    {
     "name": "stdout",
     "output_type": "stream",
     "text": [
      "Move disk from A to C\n",
      "Move disk from A to B\n",
      "Move disk from C to B\n",
      "Move disk from A to C\n",
      "Move disk from B to A\n",
      "Move disk from B to C\n",
      "Move disk from A to C\n"
     ]
    }
   ],
   "source": [
    "def hanoi(n, source, to, via):\n",
    "    if n == 0:\n",
    "        return\n",
    "    else:\n",
    "        hanoi(n-1, source, via, to)\n",
    "        print('Move disk from {} to {}'.format(source, to))\n",
    "        hanoi(n-1, via, to, source)\n",
    "\n",
    "hanoi(3, 'A', 'C', 'B')"
   ]
  },
  {
   "cell_type": "markdown",
   "metadata": {},
   "source": [
    "### GCD\n",
    "\n",
    "GCD is the largest positive integer that divides the numbers without a remainder.\n",
    "\n",
    "It can be computed using the following recursive algorithm (Euclid's algorithm):\n",
    "<!-- latex -->\n",
    "$$\n",
    "\\text{gcd}(a, b) = \\begin{cases}\n",
    "a & \\text{if } b = 0 \\quad \\text{(base case)}\\\\\n",
    "\\text{gcd}(b, a \\bmod b) & \\text{if } b > 0 \\quad \\text{(recursive case)}\n",
    "\\end{cases}\n",
    "$$\n"
   ]
  },
  {
   "cell_type": "code",
   "execution_count": 6,
   "metadata": {},
   "outputs": [
    {
     "name": "stdout",
     "output_type": "stream",
     "text": [
      "3\n",
      "4\n"
     ]
    }
   ],
   "source": [
    "def gcd(a, b):\n",
    "    if b == 0:\n",
    "        return a\n",
    "    else:\n",
    "        return gcd(b, a % b)\n",
    "\n",
    "print(gcd(12, 15))\n",
    "print(gcd(12, 16))"
   ]
  },
  {
   "cell_type": "markdown",
   "metadata": {},
   "source": [
    "### Power of a Number\n",
    "\n",
    "How to calculate $x^n$ efficiently?\n",
    "\n",
    "The naive approach is to multiply $x$ by itself $n$ times. $O(n)$\n",
    "\n",
    "\n",
    "<!-- latex -->\n",
    "$$\n",
    "\\text{power}(x, n) = \\begin{cases}\n",
    "1 & \\text{if } n = 0 \\quad \\text{(base case)}\\\\\n",
    "x \\times \\text{power}(x, n-1) & \\text{if } n > 0 \\quad \\text{(recursive case)}\n",
    "\\end{cases}\n",
    "$$\n",
    "\n",
    "But we can do better in $O(\\log n)$ time.\n",
    "$$\n",
    "\\text{power}(x, n) = \\begin{cases}\n",
    "1 & \\text{if } n = 0 \\quad \\text{(base case)}\\\\\n",
    "\\text{power}(x^2, n/2) & \\text{if } n \\text{ is even} \\quad \\text{(recursive case)}\\\\\n",
    "x \\times \\text{power}(x^2, (n-1)/2) & \\text{if } n \\text{ is odd} \\quad \\text{(recursive case)}\n",
    "\\end{cases}\n",
    "$$"
   ]
  },
  {
   "cell_type": "code",
   "execution_count": 7,
   "metadata": {},
   "outputs": [
    {
     "name": "stdout",
     "output_type": "stream",
     "text": [
      "1024\n",
      "59049\n"
     ]
    }
   ],
   "source": [
    "def power(x, n):\n",
    "    if n == 0:\n",
    "        return 1\n",
    "    elif n % 2 == 0:\n",
    "        return power(x * x, n // 2)\n",
    "    else:\n",
    "        return x * power(x * x, n // 2)\n",
    "\n",
    "print(power(2, 10))\n",
    "print(power(3, 10))"
   ]
  },
  {
   "cell_type": "markdown",
   "metadata": {},
   "source": [
    "### Binary Search\n",
    "\n",
    "Given a sorted array $A$ and a value $x$, how to find if $x$ is in $A$?\n",
    "\n",
    "If we check every element in $A$, we can find $x$ in $O(n)$ time.\n",
    "\n",
    "But we can do better in $O(\\log n)$ time.\n",
    "\n",
    "<!-- latex -->\n",
    "$$\n",
    "\\text{binarySearch}(A, x, \\text{low}, \\text{high}) = \\begin{cases}\n",
    "\\text{False} & \\text{if } \\text{low} > \\text{high} \\quad \\text{(base case)}\\\\\n",
    "\\text{True} & \\text{if } A[\\text{mid}] = x \\quad \\text{(base case)}\\\\\n",
    "\\text{binarySearch}(A, x, \\text{low}, \\text{mid}-1) & \\text{if } A[\\text{mid}] > x \\quad \\text{(recursive case)}\\\\\n",
    "\\text{binarySearch}(A, x, \\text{mid}+1, \\text{high}) & \\text{if } A[\\text{mid}] < x \\quad \\text{(recursive case)}\n",
    "\\end{cases}\n",
    "$$\n"
   ]
  },
  {
   "cell_type": "code",
   "execution_count": 8,
   "metadata": {},
   "outputs": [
    {
     "name": "stdout",
     "output_type": "stream",
     "text": [
      "True\n",
      "False\n"
     ]
    }
   ],
   "source": [
    "def binary_search(a, x, low, high):\n",
    "    if low > high:\n",
    "        return False\n",
    "    else:\n",
    "        mid = (low + high) // 2\n",
    "        if a[mid] == x:\n",
    "            return True\n",
    "        elif a[mid] < x:\n",
    "            return binary_search(a, x, mid + 1, high)\n",
    "        else:\n",
    "            return binary_search(a, x, low, mid - 1)\n",
    "        \n",
    "a = [1, 2, 3, 4, 5, 6, 7, 8, 9]\n",
    "print(binary_search(a, 5, 0, len(a)-1))\n",
    "print(binary_search(a, 10, 0, len(a)-1))\n"
   ]
  },
  {
   "cell_type": "markdown",
   "metadata": {},
   "source": [
    "### Merge Sort\n",
    "\n",
    "<!-- picture -->\n",
    "![Merge Sort](https://upload.wikimedia.org/wikipedia/commons/c/cc/Merge-sort-example-300px.gif)\n",
    "\n",
    "<!-- latex -->\n",
    "$$\n",
    "\\text{mergeSort}(A) = \\begin{cases}\n",
    "A & \\text{if } \\text{len}(A) \\leq 1 \\quad \\text{(base case)}\\\\\n",
    "\\text{merge}(\\text{mergeSort}(A[:\\text{mid}]), \\text{mergeSort}(A[\\text{mid}:])) & \\text{if } \\text{len}(A) > 1 \\quad \\text{(recursive case)}\n",
    "\\end{cases}\n",
    "$$\n",
    "\n",
    "<!-- latex for merge -->\n",
    "$$\n",
    "\\text{merge}(A, B) = \\begin{cases}\n",
    "A & \\text{if } \\text{len}(B) = 0 \\quad \\text{(base case)}\\\\\n",
    "B & \\text{if } \\text{len}(A) = 0 \\quad \\text{(base case)}\\\\\n",
    "\\text{min}(A[0], B[0]) \\text{ + merge}(A[1:], B) & \\text{if } A[0] < B[0] \\quad \\text{(recursive case)}\\\\\n",
    "\\text{min}(A[0], B[0]) \\text{ + merge}(A, B[1:]) & \\text{if } A[0] \\geq B[0] \\quad \\text{(recursive case)}\n",
    "\\end{cases}\n",
    "$$"
   ]
  },
  {
   "cell_type": "code",
   "execution_count": 21,
   "metadata": {},
   "outputs": [
    {
     "name": "stdout",
     "output_type": "stream",
     "text": [
      "[1, 2, 3, 4, 5, 6, 7, 8, 9, 10]\n"
     ]
    }
   ],
   "source": [
    "def merge(a, b):\n",
    "    # recursive merge\n",
    "    if len(a) == 0:\n",
    "        return b\n",
    "    elif len(b) == 0:\n",
    "        return a\n",
    "    else:\n",
    "        if a[0] < b[0]:\n",
    "            return [a[0]] + merge(a[1:], b)\n",
    "        else:\n",
    "            return [b[0]] + merge(a, b[1:])\n",
    "        \n",
    "def merge_sort(a):\n",
    "    if len(a) <= 1:\n",
    "        return a\n",
    "    else:\n",
    "        mid = len(a) // 2\n",
    "        return merge(merge_sort(a[:mid]), merge_sort(a[mid:]))\n",
    "    \n",
    "a = [1, 3, 5, 7, 9, 2, 4, 6, 8, 10]\n",
    "print(merge_sort(a))\n"
   ]
  },
  {
   "cell_type": "markdown",
   "metadata": {},
   "source": [
    "## DFS\n",
    "\n",
    "Depth-first search (DFS) is an algorithm for traversing or searching tree or graph data structures. The algorithm starts at the root node (selecting some arbitrary node as the root node in the case of a graph) and explores as far as possible along each branch before backtracking.\n",
    "\n",
    "<!-- picture -->\n",
    "![DFS](https://upload.wikimedia.org/wikipedia/commons/7/7f/Depth-First-Search.gif)\n",
    "\n",
    "The pseudocode for DFS is as follows:\n",
    "- Mark the current vertex as being visited.\n",
    "- Explore each adjacent vertex that is not included in the visited set.\n",
    "\n",
    "<!-- latex -->\n",
    "$$\n",
    "\\text{dfs}(G, v) = \\begin{cases}\n",
    "\\text{do nothing} & \\text{if } v \\text{ is visited} \\quad \\text{(base case)}\\\\\n",
    "\\text{mark } v \\text{ as visited and } \\text{dfs}(G, w) & \\text{for each } w \\text{ adjacent to } v \\quad \\text{(recursive case)}\n",
    "\\end{cases}\n",
    "$$"
   ]
  },
  {
   "cell_type": "markdown",
   "metadata": {},
   "source": [
    "### Knight's Tour\n",
    "\n",
    "<!-- picture -->\n",
    "![Knight's Tour](https://upload.wikimedia.org/wikipedia/commons/d/da/Knight%27s_tour_anim_2.gif)\n",
    "\n",
    "Problem: Given a chess board of size $n \\times n$ and a starting position $(x, y)$, find a sequence of moves of a knight that visits every square exactly once.\n",
    "\n",
    "$$\n",
    "\\text{knightTour}(n, x, y, \\text{visited}) = \\begin{cases}\n",
    "\\text{Stop} & \\text{if } \\text{visited} = n^2 \\quad \\text{(base case)}\\\\\n",
    "\\text{False} & \\text{if } x \\text{ or } y \\text{ is out of bounds} \\quad \\text{(base case)}\\\\\n",
    "\\text{False} & \\text{if } (x, y) \\text{ is already visited} \\quad \\text{(base case)}\\\\\n",
    "\\text{True} & \\text{if } \\text{knightTour}(n, x+1, y+2, \\text{visited}+1) \\quad \\text{(recursive case)}\\\\\n",
    "\\text{True} & \\text{if } \\text{knightTour}(n, x+1, y-2, \\text{visited}+1) \\quad \\text{(recursive case)}\\\\\n",
    "\\text{True} & \\text{if } \\text{knightTour}(n, x-1, y+2, \\text{visited}+1) \\quad \\text{(recursive case)}\\\\\n",
    "\\text{True} & \\text{if } \\text{knightTour}(n, x-1, y-2, \\text{visited}+1) \\quad \\text{(recursive case)}\\\\\n",
    "\\text{True} & \\text{if } \\text{knightTour}(n, x+2, y+1, \\text{visited}+1) \\quad \\text{(recursive case)}\\\\\n",
    "\\text{True} & \\text{if } \\text{knightTour}(n, x+2, y-1, \\text{visited}+1) \\quad \\text{(recursive case)}\\\\\n",
    "\\text{True} & \\text{if } \\text{knightTour}(n, x-2, y+1, \\text{visited}+1) \\quad \\text{(recursive case)}\\\\\n",
    "\\text{True} & \\text{if } \\text{knightTour}(n, x-2, y-1, \\text{visited}+1) \\quad \\text{(recursive case)}\n",
    "\\end{cases}\n",
    "$$"
   ]
  },
  {
   "cell_type": "code",
   "execution_count": 18,
   "metadata": {},
   "outputs": [
    {
     "name": "stdout",
     "output_type": "stream",
     "text": [
      "[(0, 0), (1, 2), (2, 4), (0, 3), (1, 1), (3, 0), (4, 2), (3, 4), (2, 2), (4, 3), (3, 1), (1, 0), (0, 2), (1, 4), (3, 3), (4, 1), (2, 0), (0, 1), (1, 3), (2, 1), (4, 0), (3, 2), (4, 4), (2, 3), (0, 4)]\n",
      "\n",
      "[1, 18, 13, 4, 25]\n",
      "[12, 5, 2, 19, 14]\n",
      "[17, 20, 9, 24, 3]\n",
      "[6, 11, 22, 15, 8]\n",
      "[21, 16, 7, 10, 23]\n"
     ]
    }
   ],
   "source": [
    "def knight_tour(n, x, y, visited):\n",
    "    # print the path\n",
    "    if len(visited) == n * n:\n",
    "        print(visited)\n",
    "        return True, visited\n",
    "    else:\n",
    "        for dx, dy in [(1, 2), (2, 1), (-1, 2), (-2, 1),\n",
    "                       (-1, -2), (-2, -1), (1, -2), (2, -1)]:\n",
    "            nx, ny = x + dx, y + dy\n",
    "            if nx >= 0 and nx < n and ny >= 0 and ny < n and (nx, ny) not in visited:\n",
    "                visited.append((nx, ny))\n",
    "                res, visited = knight_tour(n, nx, ny, visited)\n",
    "                if res:\n",
    "                    return True, visited\n",
    "                visited.pop()\n",
    "        return False, visited\n",
    "    \n",
    "res, path = knight_tour(5, 0, 0, [(0, 0)])\n",
    "\n",
    "print()\n",
    "# visualize the path just by putting numbers on the board\n",
    "board = [[0] * 5 for _ in range(5)]\n",
    "for i, (x, y) in enumerate(path):\n",
    "    board[x][y] = i + 1\n",
    "for row in board:\n",
    "    print(row)\n"
   ]
  },
  {
   "cell_type": "markdown",
   "metadata": {},
   "source": [
    "### Sudoku Solver\n",
    "\n",
    "<!-- picture -->\n",
    "![Sudoku](https://upload.wikimedia.org/wikipedia/commons/thumb/f/ff/Sudoku-by-L2G-20050714.svg/1200px-Sudoku-by-L2G-20050714.svg.png)\n",
    "\n",
    "Problem: Given a partially filled sudoku board, fill the empty cells."
   ]
  },
  {
   "cell_type": "code",
   "execution_count": 20,
   "metadata": {},
   "outputs": [
    {
     "name": "stdout",
     "output_type": "stream",
     "text": [
      "[1, 2, 4, 7, 3, 8, 6, 5, 9]\n",
      "[6, 8, 5, 9, 1, 2, 3, 7, 4]\n",
      "[7, 9, 3, 6, 5, 4, 8, 2, 1]\n",
      "[3, 7, 6, 8, 9, 1, 2, 4, 5]\n",
      "[4, 5, 9, 2, 6, 7, 1, 8, 3]\n",
      "[8, 1, 2, 3, 4, 5, 7, 9, 6]\n",
      "[5, 4, 7, 1, 8, 6, 9, 3, 2]\n",
      "[2, 3, 1, 4, 7, 9, 5, 6, 8]\n",
      "[9, 6, 8, 5, 2, 3, 4, 1, 7]\n"
     ]
    }
   ],
   "source": [
    "def is_valid(board, x, y):\n",
    "    n = len(board)\n",
    "    # check row\n",
    "    for j in range(n):\n",
    "        if j != y and board[x][j] == board[x][y]:\n",
    "            return False\n",
    "    # check column\n",
    "    for i in range(n):\n",
    "        if i != x and board[i][y] == board[x][y]:\n",
    "            return False\n",
    "    # check block\n",
    "    for i in range(3):\n",
    "        for j in range(3):\n",
    "            nx, ny = x // 3 * 3 + i, y // 3 * 3 + j\n",
    "            if nx != x and ny != y and board[nx][ny] == board[x][y]:\n",
    "                return False\n",
    "    return True\n",
    "\n",
    "def sudoku_solver(board):\n",
    "    n = len(board)\n",
    "    for i in range(n):\n",
    "        for j in range(n):\n",
    "            if board[i][j] == 0:\n",
    "                for k in range(1, 10):\n",
    "                    board[i][j] = k\n",
    "                    if is_valid(board, i, j) and sudoku_solver(board):\n",
    "                        return True\n",
    "                    board[i][j] = 0\n",
    "                return False\n",
    "    return True\n",
    "\n",
    "# realistic board\n",
    "board = [[0, 0, 0, 0, 0, 0, 0, 0, 0],\n",
    "         [0, 8, 0, 0, 0, 0, 0, 0, 0],\n",
    "         [0, 0, 3, 6, 0, 0, 0, 0, 0],\n",
    "         [0, 7, 0, 0, 9, 0, 2, 0, 0],\n",
    "         [0, 5, 0, 0, 0, 7, 0, 0, 0],\n",
    "         [0, 0, 0, 0, 4, 5, 7, 0, 0],\n",
    "         [0, 0, 0, 1, 0, 0, 0, 3, 0],\n",
    "         [0, 0, 1, 0, 0, 0, 0, 6, 8],\n",
    "         [0, 0, 8, 5, 0, 0, 0, 1, 0]]\n",
    "\n",
    "sudoku_solver(board)\n",
    "for row in board:\n",
    "    print(row)"
   ]
  },
  {
   "cell_type": "markdown",
   "metadata": {},
   "source": [
    "### Fractal\n",
    "\n",
    "https://web.stanford.edu/class/archive/cs/cs106b/cs106b.1208/lectures/fractals/Lecture10_Slides.pdf"
   ]
  },
  {
   "cell_type": "markdown",
   "metadata": {},
   "source": [
    "## Memoization\n",
    "\n",
    "Some recursive algorithms have overlapping subproblems. \n",
    "\n",
    "<!-- latex for fibonacci -->\n",
    "$$\n",
    "F(n) = \\begin{cases}\n",
    "0 & \\text{if } n = 0 \\quad \\text{(base case)}\\\\\n",
    "1 & \\text{if } n = 1 \\quad \\text{(base case)}\\\\\n",
    "F(n-1) + F(n-2) & \\text{if } n > 1 \\quad \\text{(recursive case)}\n",
    "\\end{cases}\n",
    "$$\n",
    "\n",
    "Let's compute $F(5)$:\n",
    "$$\n",
    "\\begin{align}\n",
    "F(5) &= F(4) + F(3) \\\\\n",
    "&= (F(3) + F(2)) + (F(2) + F(1)) \\\\\n",
    "&= ((F(2) + F(1)) + (F(1) + F(0))) + ((F(1) + F(0)) + F(1)) \\\\\n",
    "&= (((F(1) + F(0)) + F(1)) + (F(1) + F(0))) + ((F(1) + F(0)) + F(1)) \\\\\n",
    "&= (((1 + 0) + 1) + (1 + 0)) + ((1 + 0) + 1) \\\\\n",
    "&= 5\n",
    "\\end{align}\n",
    "$$\n",
    "\n",
    "How many times do we compute $F(2)$? $F(1)$? $F(0)$?\n",
    "\n",
    "To solve this, there are a few approaches:\n",
    "- Memoization: store the results of the subproblems in a table\n",
    "- Solve the problem iteratively (bottom-up) or using dynamic programming (not covered now)\n",
    "\n"
   ]
  },
  {
   "cell_type": "code",
   "execution_count": 27,
   "metadata": {},
   "outputs": [
    {
     "name": "stdout",
     "output_type": "stream",
     "text": [
      "CPU times: user 11.5 s, sys: 47.1 ms, total: 11.5 s\n",
      "Wall time: 11.6 s\n"
     ]
    },
    {
     "data": {
      "text/plain": [
       "102334155"
      ]
     },
     "execution_count": 27,
     "metadata": {},
     "output_type": "execute_result"
    }
   ],
   "source": [
    "def fibonacci(n):\n",
    "    if n <= 1:\n",
    "        return n\n",
    "    else:\n",
    "        return fibonacci(n-1) + fibonacci(n-2)\n",
    "%time fibonacci(40)"
   ]
  },
  {
   "cell_type": "code",
   "execution_count": 29,
   "metadata": {},
   "outputs": [
    {
     "name": "stdout",
     "output_type": "stream",
     "text": [
      "CPU times: user 14 µs, sys: 1e+03 ns, total: 15 µs\n",
      "Wall time: 16 µs\n"
     ]
    },
    {
     "data": {
      "text/plain": [
       "102334155"
      ]
     },
     "execution_count": 29,
     "metadata": {},
     "output_type": "execute_result"
    }
   ],
   "source": [
    "def fibonacci_with_memoization(n):\n",
    "    memo = [None] * (n + 1)\n",
    "    def fib(n):\n",
    "        if n <= 1:\n",
    "            return n\n",
    "        if memo[n] == None:\n",
    "            memo[n] = fib(n-1) + fib(n-2)\n",
    "        return memo[n]\n",
    "    return fib(n)\n",
    "\n",
    "%time fibonacci_with_memoization(40)"
   ]
  },
  {
   "cell_type": "markdown",
   "metadata": {},
   "source": [
    "11.6s vs 16 µs!"
   ]
  },
  {
   "cell_type": "markdown",
   "metadata": {},
   "source": [
    "## Tail Recursion\n",
    "\n",
    "A recursive function is tail recursive when recursive call is the last thing executed by the function.\n",
    "\n",
    "\n",
    "Non tail recursion version:\n",
    "$$\n",
    "\\text{factorial}(n) = \\begin{cases}\n",
    "1 & \\text{if } n = 0 \\quad \\text{(base case)}\\\\\n",
    "n \\times \\text{factorial}(n-1) & \\text{if } n > 0 \\quad \\text{(recursive case)}\n",
    "\\end{cases}\n",
    "$$\n",
    "\n",
    "Tail recursion version:\n",
    "\n",
    "<!-- latex -->\n",
    "$$\n",
    "\\text{factorial}(n, \\text{acc}) = \\begin{cases}\n",
    "\\text{acc} & \\text{if } n = 0 \\quad \\text{(base case)}\\\\\n",
    "\\text{factorial}(n-1, n \\times \\text{acc}) & \\text{if } n > 0 \\quad \\text{(recursive case)}\n",
    "\\end{cases}\n",
    "$$\n",
    "\n",
    "Why is tail recursion important?\n",
    "\n",
    "Some compilers and interpreters perform tail call optimization (TCO), which means that the recursive call is replaced with a jump to the start of the function. This optimization saves space on the call stack and improves performance.\n",
    "\n",
    "Or in other words, tail recursion is as efficient as iteration."
   ]
  }
 ],
 "metadata": {
  "kernelspec": {
   "display_name": "env",
   "language": "python",
   "name": "python3"
  },
  "language_info": {
   "codemirror_mode": {
    "name": "ipython",
    "version": 3
   },
   "file_extension": ".py",
   "mimetype": "text/x-python",
   "name": "python",
   "nbconvert_exporter": "python",
   "pygments_lexer": "ipython3",
   "version": "3.11.1"
  }
 },
 "nbformat": 4,
 "nbformat_minor": 2
}
