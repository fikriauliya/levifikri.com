{
 "cells": [
  {
   "cell_type": "raw",
   "metadata": {},
   "source": [
    "---\n",
    "title: Union Find Disjoint Set\n",
    "format:\n",
    "  html:\n",
    "    toc: true\n",
    "    html-math-method: katex\n",
    "order: 11\n",
    "--- "
   ]
  },
  {
   "cell_type": "markdown",
   "metadata": {},
   "source": [
    "Union Find Disjoint Set (UFDS) is a data structure that keeps track of a set of elements partitioned into a number of disjoint (non-overlapping) subsets. A union-find algorithm is an algorithm that performs two useful operations on such a data structure:\n",
    "\n",
    "- Find: Determine which subset a particular element is in. This can be used for determining if two elements are in the same subset.\n",
    "\n",
    "- Union: Join two subsets into a single subset."
   ]
  },
  {
   "cell_type": "code",
   "execution_count": 2,
   "metadata": {},
   "outputs": [],
   "source": [
    "class UnionFindDisjointSet:\n",
    "    def __init__(self, n):\n",
    "        self.parent = list(range(n))\n",
    "        self.rank = [0] * n\n",
    "        self.size = [1] * n\n",
    "\n",
    "    def find(self, x):\n",
    "        if self.parent[x] == x:\n",
    "            return x\n",
    "        else:\n",
    "            self.parent[x] = self.find(self.parent[x]) # path compression\n",
    "            return self.parent[x]\n",
    "\n",
    "    def union(self, x, y):\n",
    "        x = self.find(x)\n",
    "        y = self.find(y)\n",
    "        if x != y:\n",
    "            if self.rank[x] < self.rank[y]:\n",
    "                x, y = y, x\n",
    "            self.parent[y] = x\n",
    "            self.size[x] += self.size[y]\n",
    "            if self.rank[x] == self.rank[y]:\n",
    "                self.rank[x] += 1\n",
    "\n",
    "    def is_same(self, x, y):\n",
    "        return self.find(x) == self.find(y)"
   ]
  },
  {
   "cell_type": "code",
   "execution_count": 6,
   "metadata": {},
   "outputs": [
    {
     "name": "stdout",
     "output_type": "stream",
     "text": [
      "True\n",
      "True\n",
      "False\n",
      "True\n"
     ]
    }
   ],
   "source": [
    "ufdf = UnionFindDisjointSet(10)\n",
    "ufdf.union(0, 1)\n",
    "ufdf.union(2, 3)\n",
    "\n",
    "print(ufdf.is_same(0, 1))\n",
    "print(ufdf.is_same(2, 3))\n",
    "print(ufdf.is_same(0, 2))\n",
    "\n",
    "# let's join 1 and 2\n",
    "ufdf.union(1, 2)\n",
    "print(ufdf.is_same(0, 2))\n"
   ]
  },
  {
   "cell_type": "markdown",
   "metadata": {},
   "source": [
    "## Use Cases\n",
    "\n",
    "### Finding connected components in a graph.\n",
    "In this case, the elements are the vertices of the graph and the subsets are the connected components. Two elements are in the same subset if and only if they are in the same connected component.\n",
    "\n",
    "### Cycle detection in an undirected graph\n",
    "When adding an edge, check if the two vertices are already in the same set. If they are, then adding this edge will create a cycle.\n",
    "\n",
    "### Maze generation\n",
    "Start with a grid of disconnected cells. Pick a random cell and connect it to a random neighbor cell that is not already connected. Repeat until all cells are connected."
   ]
  }
 ],
 "metadata": {
  "kernelspec": {
   "display_name": "env",
   "language": "python",
   "name": "python3"
  },
  "language_info": {
   "codemirror_mode": {
    "name": "ipython",
    "version": 3
   },
   "file_extension": ".py",
   "mimetype": "text/x-python",
   "name": "python",
   "nbconvert_exporter": "python",
   "pygments_lexer": "ipython3",
   "version": "3.11.1"
  }
 },
 "nbformat": 4,
 "nbformat_minor": 2
}
