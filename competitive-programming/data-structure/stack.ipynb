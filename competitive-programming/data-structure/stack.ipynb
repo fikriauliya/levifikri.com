{
 "cells": [
  {
   "cell_type": "raw",
   "metadata": {},
   "source": [
    "---\n",
    "title: Stack\n",
    "format:\n",
    "  html:\n",
    "    toc: true\n",
    "    html-math-method: katex\n",
    "order: 6\n",
    "--- "
   ]
  },
  {
   "cell_type": "markdown",
   "metadata": {},
   "source": [
    "Stack is just like a pile of books. The last book you put on the pile is the first one you can take off. This is called LIFO (Last In First Out)."
   ]
  },
  {
   "cell_type": "markdown",
   "metadata": {},
   "source": [
    "## Push\n",
    "\n",
    "To put something on the stack, you use the `push` method. The item will be added to the top of the stack.\n",
    "\n",
    "## Pop\n",
    "\n",
    "To take something off the stack, you use the `pop` method. The item will be removed from the top of the stack."
   ]
  },
  {
   "cell_type": "markdown",
   "metadata": {},
   "source": [
    "## High Level Implementation\n",
    "\n",
    "In Python, we can use:\n",
    "\n",
    "- `LifoQueue` from `queue` module -> Thread-safe \n",
    "- `deque` from `collections` module -> Not thread-safe but faster "
   ]
  },
  {
   "cell_type": "markdown",
   "metadata": {},
   "source": [
    "## Use Cases"
   ]
  },
  {
   "cell_type": "markdown",
   "metadata": {},
   "source": [
    "### Function Call\n",
    "\n",
    "Function call is a good example of using stack. When a function is called, the program will push the function call to the stack. When the function returns, the program will pop the function call from the stack.\n",
    "\n",
    "![Function Call Stack](https://nobelsharanyan.files.wordpress.com/2015/05/function_stack1.png)\n",
    "\n",
    "Source: https://nobelsharanyan.wordpress.com/2015/05/17/function-call-stack-implementation/\n",
    "\n",
    "![Stack](https://eecs280staff.github.io/notes/_images/02_stack.svg)\n",
    "\n",
    "Source: https://eecs280staff.github.io/notes/02_ProceduralAbstraction_Testing.html"
   ]
  },
  {
   "cell_type": "markdown",
   "metadata": {},
   "source": [
    "### String Reversal\n",
    "\n",
    "To reverse a string, we can use stack. We push each character of the string to the stack. Then we pop each character from the stack and append it to a new string."
   ]
  },
  {
   "cell_type": "code",
   "execution_count": 20,
   "metadata": {},
   "outputs": [
    {
     "name": "stdout",
     "output_type": "stream",
     "text": [
      "olleh\n"
     ]
    }
   ],
   "source": [
    "from collections import deque\n",
    "def reverse(s):\n",
    "    stack = deque()\n",
    "    for c in s:\n",
    "        stack.append(c)\n",
    "    s = \"\"\n",
    "    while len(stack) > 0:\n",
    "        s += stack.pop()\n",
    "    return s\n",
    "print(reverse(\"hello\"))"
   ]
  },
  {
   "cell_type": "markdown",
   "metadata": {},
   "source": [
    "Well, it's obvious that we can just use `string[::-1]` to reverse a string. But this is just an example of using stack."
   ]
  },
  {
   "cell_type": "markdown",
   "metadata": {},
   "source": [
    "### Palindrome Checker\n",
    "\n",
    "Palindrom is a word, phrase, or sequence that reads the same backward as forward, e.g., madam or nurses run.\n",
    "\n",
    "Example of palindrom in Indonesian: kasur rusak, malam, dan radar."
   ]
  },
  {
   "cell_type": "code",
   "execution_count": 7,
   "metadata": {},
   "outputs": [
    {
     "name": "stdout",
     "output_type": "stream",
     "text": [
      "True\n",
      "True\n",
      "False\n"
     ]
    }
   ],
   "source": [
    "from collections import deque\n",
    "def is_palindrom(s):\n",
    "    stack = deque()\n",
    "    for c in s:\n",
    "        stack.append(c)\n",
    "    for c in s:\n",
    "        if c != stack.pop():\n",
    "            return False\n",
    "    return True\n",
    "\n",
    "print(is_palindrom('abcba'))\n",
    "print(is_palindrom('abccba'))\n",
    "print(is_palindrom('abccbaa'))\n"
   ]
  },
  {
   "cell_type": "markdown",
   "metadata": {},
   "source": [
    "### Balanced Parentheses Checker\n",
    "\n",
    "Given the string of parentheses, check if the parentheses are balanced.\n",
    "e.g.\n",
    "- `((()))` -> Balanced\n",
    "- `(()())` -> Balanced\n",
    "- `(()` -> Not balanced\n",
    "- `(()))` -> Not balanced\n",
    "\n",
    "We can just add the opening parentheses to the stack. When we encounter a closing parentheses, we pop the stack. If the closing parentheses doesn't match the opening parentheses, then the parentheses are not balanced."
   ]
  },
  {
   "cell_type": "code",
   "execution_count": 8,
   "metadata": {},
   "outputs": [
    {
     "name": "stdout",
     "output_type": "stream",
     "text": [
      "True\n",
      "False\n",
      "True\n"
     ]
    }
   ],
   "source": [
    "def is_balanced(s):\n",
    "    stack = deque()\n",
    "    for c in s:\n",
    "        if c == '(':\n",
    "            stack.append(c)\n",
    "        elif c == ')':\n",
    "            if len(stack) == 0:\n",
    "                # no matching\n",
    "                return False\n",
    "            stack.pop()\n",
    "    # if there is no more '(' in stack, then it is balanced\n",
    "    return len(stack) == 0\n",
    "\n",
    "print(is_balanced('((()))'))\n",
    "print(is_balanced('(()))'))\n",
    "print(is_balanced('(()(()))'))"
   ]
  },
  {
   "cell_type": "markdown",
   "metadata": {},
   "source": [
    "Well, it's an overkill to use stack for this problem. We can just use a counter to count the opening and closing parentheses. If the counter is negative, then the parentheses are not balanced."
   ]
  },
  {
   "cell_type": "code",
   "execution_count": 10,
   "metadata": {},
   "outputs": [
    {
     "name": "stdout",
     "output_type": "stream",
     "text": [
      "True\n",
      "False\n",
      "True\n"
     ]
    }
   ],
   "source": [
    "def is_balanced(s):\n",
    "    # using counter\n",
    "    counter = 0\n",
    "    for c in s:\n",
    "        if c == '(':\n",
    "            counter += 1\n",
    "        elif c == ')':\n",
    "            counter -= 1\n",
    "            if counter < 0:\n",
    "                return False\n",
    "    return True\n",
    "            \n",
    "print(is_balanced('((()))'))\n",
    "print(is_balanced('(()))'))\n",
    "print(is_balanced('(()(()))'))"
   ]
  },
  {
   "cell_type": "markdown",
   "metadata": {},
   "source": [
    "But, if there are many types of parentheses, then we need to use stack."
   ]
  },
  {
   "cell_type": "code",
   "execution_count": 14,
   "metadata": {},
   "outputs": [
    {
     "name": "stdout",
     "output_type": "stream",
     "text": [
      "True\n",
      "False\n",
      "True\n",
      "True\n",
      "False\n",
      "False\n"
     ]
    }
   ],
   "source": [
    "def is_balanced(s):\n",
    "    stack = deque()\n",
    "    pairs = {'(': ')', '[': ']', '{': '}'}\n",
    "    for c in s:\n",
    "        # c can be [{(\n",
    "        if c in '([{':\n",
    "            stack.append(c)\n",
    "        elif c in ')]}':\n",
    "            if len(stack) == 0:\n",
    "                return False\n",
    "            if pairs[stack.pop()] != c:\n",
    "                return False\n",
    "    return len(stack) == 0\n",
    "\n",
    "print(is_balanced('((()))'))\n",
    "print(is_balanced('(()))'))\n",
    "print(is_balanced('(()(()))'))\n",
    "\n",
    "print(is_balanced('([{}])'))\n",
    "print(is_balanced('([{}]))'))\n",
    "print(is_balanced('([{(})])'))"
   ]
  },
  {
   "cell_type": "markdown",
   "metadata": {},
   "source": [
    "### Undo Mechanism\n",
    "\n",
    "When you type something in a text editor, the text editor will push the text to the stack. When you undo, the text editor will pop the text from the stack."
   ]
  },
  {
   "cell_type": "code",
   "execution_count": 18,
   "metadata": {},
   "outputs": [
    {
     "name": "stdout",
     "output_type": "stream",
     "text": [
      "abc\n",
      "ab\n",
      "abd\n",
      "ab\n"
     ]
    }
   ],
   "source": [
    "class Keyboard:\n",
    "    def __init__(self):\n",
    "        self.stack = deque()\n",
    "    def type(self, c):\n",
    "        if c == '<':\n",
    "            if len(self.stack) > 0:\n",
    "                self.stack.pop()\n",
    "        else:\n",
    "            self.stack.append(c)\n",
    "    def get(self):\n",
    "        return ''.join(self.stack)\n",
    "\n",
    "keyboard = Keyboard()\n",
    "keyboard.type('a')\n",
    "keyboard.type('b')\n",
    "keyboard.type('c')\n",
    "print(keyboard.get())\n",
    "keyboard.type('<')\n",
    "print(keyboard.get())\n",
    "keyboard.type('d')\n",
    "print(keyboard.get())\n",
    "keyboard.type('<')\n",
    "print(keyboard.get())\n"
   ]
  },
  {
   "cell_type": "markdown",
   "metadata": {},
   "source": [
    "### Recursion\n",
    "\n",
    "Recursion is a good example of using stack. When a function calls itself, the program will push the function call to the stack. When the function returns, the program will pop the function call from the stack."
   ]
  },
  {
   "cell_type": "code",
   "execution_count": 22,
   "metadata": {},
   "outputs": [
    {
     "name": "stdout",
     "output_type": "stream",
     "text": [
      "1\n",
      "3\n"
     ]
    }
   ],
   "source": [
    "def fibonacci(n):\n",
    "    if n <= 2:\n",
    "        return 1\n",
    "    return fibonacci(n - 1) + fibonacci(n - 2)\n",
    "\n",
    "print(fibonacci(1))\n",
    "print(fibonacci(4))"
   ]
  },
  {
   "cell_type": "markdown",
   "metadata": {},
   "source": [
    "Let's reimplement the fibonacci method using stack"
   ]
  },
  {
   "cell_type": "code",
   "execution_count": 23,
   "metadata": {},
   "outputs": [
    {
     "name": "stdout",
     "output_type": "stream",
     "text": [
      "1\n",
      "3\n"
     ]
    }
   ],
   "source": [
    "def fibonacci(n):\n",
    "    stack = deque()\n",
    "    stack.append(n)\n",
    "    sum = 0\n",
    "    while len(stack) > 0:\n",
    "        n = stack.pop()\n",
    "        if n <= 2:\n",
    "            sum += 1\n",
    "        else:\n",
    "            stack.append(n - 1)\n",
    "            stack.append(n - 2)\n",
    "    return sum\n",
    "\n",
    "print(fibonacci(1))\n",
    "print(fibonacci(4))"
   ]
  },
  {
   "cell_type": "markdown",
   "metadata": {},
   "source": [
    "Well, both are not efficient (there are many recalculations). But hopefully you get the idea."
   ]
  }
 ],
 "metadata": {
  "kernelspec": {
   "display_name": "env",
   "language": "python",
   "name": "python3"
  },
  "language_info": {
   "codemirror_mode": {
    "name": "ipython",
    "version": 3
   },
   "file_extension": ".py",
   "mimetype": "text/x-python",
   "name": "python",
   "nbconvert_exporter": "python",
   "pygments_lexer": "ipython3",
   "version": "3.11.1"
  }
 },
 "nbformat": 4,
 "nbformat_minor": 2
}
