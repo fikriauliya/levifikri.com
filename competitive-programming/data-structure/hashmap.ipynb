{
 "cells": [
  {
   "cell_type": "raw",
   "metadata": {},
   "source": [
    "---\n",
    "title: Hash Map\n",
    "format:\n",
    "  html:\n",
    "    toc: true\n",
    "    html-math-method: katex\n",
    "order: 3\n",
    "--- "
   ]
  },
  {
   "cell_type": "markdown",
   "metadata": {},
   "source": [
    "Once we understand Set, Hash Map is easy to understand. The only difference is that Hash Map stores key-value pairs instead of single values."
   ]
  },
  {
   "cell_type": "code",
   "execution_count": 2,
   "metadata": {},
   "outputs": [
    {
     "name": "stdout",
     "output_type": "stream",
     "text": [
      "True\n",
      "True\n",
      "True\n",
      "False\n",
      "\n",
      "[None, [1], [2], [3], None, None, None, None, None, None, None, None, None, None, None, None, None, None, None, None, None, None, None, None, None, None, None, None, None, None, None, None, None, None, None, None, None, None, None, None, None, None, None, None, None, None, None, None, None, None, None, None, None, None, None, None, None, None, None, None, None, None, None, None, None, None, None, None, None, None, None, None, None, None, None, None, None, None, None, None, None, None, None, None, None, None, None, None, None, None, None, None, None, None, None, None, None, None, None, None]\n",
      "\n",
      "True\n",
      "False\n"
     ]
    }
   ],
   "source": [
    "class MySet:\n",
    "    def __init__(self):\n",
    "        table_size = 100\n",
    "        self.table = [None] * table_size\n",
    "\n",
    "    def add(self, value):\n",
    "        index = value % len(self.table)\n",
    "\n",
    "        if self.table[index] is None:\n",
    "            self.table[index] = []\n",
    "            \n",
    "        for item in self.table[index]:\n",
    "            if item == value:\n",
    "                return False\n",
    "        self.table[index].append(value)\n",
    "        return True\n",
    "    \n",
    "    def contains(self, value):\n",
    "        index = value % len(self.table)\n",
    "        if self.table[index] is None:\n",
    "            return False\n",
    "        for item in self.table[index]:\n",
    "            if item == value:\n",
    "                return True\n",
    "        return False\n",
    "\n",
    "    def print_table(self):\n",
    "        print(self.table)\n",
    "\n",
    "\n",
    "s = MySet()\n",
    "\n",
    "print(s.add(1))\n",
    "print(s.add(2))\n",
    "print(s.add(3))\n",
    "print(s.add(1))\n",
    "\n",
    "print()\n",
    "s.print_table()\n",
    "print()\n",
    "\n",
    "print(s.contains(1))\n",
    "print(s.contains(200))\n"
   ]
  },
  {
   "cell_type": "code",
   "execution_count": 3,
   "metadata": {},
   "outputs": [
    {
     "name": "stdout",
     "output_type": "stream",
     "text": [
      "True\n",
      "True\n",
      "True\n",
      "False\n",
      "\n",
      "[None, [(1, 'Alice')], [(2, 'Bob')], [(3, 'Charlie')], None, None, None, None, None, None, None, None, None, None, None, None, None, None, None, None, None, None, None, None, None, None, None, None, None, None, None, None, None, None, None, None, None, None, None, None, None, None, None, None, None, None, None, None, None, None, None, None, None, None, None, None, None, None, None, None, None, None, None, None, None, None, None, None, None, None, None, None, None, None, None, None, None, None, None, None, None, None, None, None, None, None, None, None, None, None, None, None, None, None, None, None, None, None, None, None]\n",
      "\n",
      "Alice\n",
      "None\n"
     ]
    }
   ],
   "source": [
    "class MyHashMap():\n",
    "    def __init__(self):\n",
    "        table_size = 100\n",
    "        self.table = [None] * table_size\n",
    "\n",
    "    # just add value parameter\n",
    "    def put(self, key, value):\n",
    "        index = key % len(self.table)\n",
    "\n",
    "        if self.table[index] is None:\n",
    "            self.table[index] = []\n",
    "\n",
    "        for item in self.table[index]:\n",
    "            if item[0] == key:\n",
    "                return False\n",
    "\n",
    "        # Differs here\n",
    "        self.table[index].append((key, value))\n",
    "        return True\n",
    "\n",
    "    def get(self, key):\n",
    "        index = key % len(self.table)\n",
    "        if self.table[index] is None:\n",
    "            return None\n",
    "        for item in self.table[index]:\n",
    "            if item[0] == key:\n",
    "                # return the value\n",
    "                return item[1]\n",
    "        return None\n",
    "\n",
    "    def print_table(self):\n",
    "        print(self.table)\n",
    "\n",
    "m = MyHashMap()\n",
    "\n",
    "# put\n",
    "print(m.put(1, \"Alice\"))\n",
    "print(m.put(2, \"Bob\"))\n",
    "print(m.put(3, \"Charlie\"))\n",
    "print(m.put(1, \"Alice\"))\n",
    "\n",
    "print()\n",
    "m.print_table()\n",
    "print()\n",
    "\n",
    "# get\n",
    "print(m.get(1))\n",
    "print(m.get(5))"
   ]
  },
  {
   "cell_type": "markdown",
   "metadata": {},
   "source": [
    "## High Level Library\n",
    "\n",
    "Python provides a high level library for Hash Map: `dict`."
   ]
  },
  {
   "cell_type": "code",
   "execution_count": 4,
   "metadata": {},
   "outputs": [
    {
     "name": "stdout",
     "output_type": "stream",
     "text": [
      "Alice\n",
      "None\n",
      "\n",
      "Alice\n"
     ]
    }
   ],
   "source": [
    "d = dict()\n",
    "\n",
    "# Put\n",
    "d[1] = \"Alice\"\n",
    "d[2] = \"Bob\"\n",
    "d[3] = \"Charlie\"\n",
    "\n",
    "# Get\n",
    "print(d.get(1))\n",
    "print(d.get(5))\n",
    "\n",
    "print()\n",
    "\n",
    "# or just use the [] operator\n",
    "print(d[1])\n",
    "# print(d[5]) # KeyError\n",
    "\n"
   ]
  },
  {
   "cell_type": "markdown",
   "metadata": {},
   "source": [
    "## Complexity\n",
    "\n",
    "The complexity of Hash Map is the same as Set: $O(1)$ for all operations.\n",
    "\n",
    "| Operation | Complexity |\n",
    "| --------- | ---------- |\n",
    "| `get`     | $O(1)$     |\n",
    "| `put`     | $O(1)$     |\n",
    "| `remove`  | $O(1)$     |"
   ]
  },
  {
   "cell_type": "markdown",
   "metadata": {},
   "source": [
    "## Use Case"
   ]
  },
  {
   "cell_type": "markdown",
   "metadata": {},
   "source": [
    "### Simple Database\n",
    "\n",
    "If we have a collection of (user_id, email)s, how can we quickly find the email of a given user_id?\n",
    "\n",
    "\n",
    "\n"
   ]
  },
  {
   "cell_type": "code",
   "execution_count": 21,
   "metadata": {},
   "outputs": [],
   "source": [
    "users = [\n",
    "    (1, \"Alice\"),\n",
    "    (2, \"Bob\"),\n",
    "    (3, \"Charlie\"),\n",
    "    (4, \"David\"),\n",
    "    (5, \"Eve\"),\n",
    "    (6, \"Fred\"),\n",
    "    (7, \"George\")\n",
    "]"
   ]
  },
  {
   "cell_type": "markdown",
   "metadata": {},
   "source": [
    "One way is to use a list of tuples:"
   ]
  },
  {
   "cell_type": "code",
   "execution_count": 22,
   "metadata": {},
   "outputs": [
    {
     "name": "stdout",
     "output_type": "stream",
     "text": [
      "[(1, 'Alice'), (2, 'Bob'), (3, 'Charlie'), (4, 'David'), (5, 'Eve'), (6, 'Fred'), (7, 'George')]\n"
     ]
    }
   ],
   "source": [
    "database = []\n",
    "for user in users:\n",
    "    database.append(user)\n",
    "print(database)"
   ]
  },
  {
   "cell_type": "code",
   "execution_count": 24,
   "metadata": {},
   "outputs": [
    {
     "name": "stdout",
     "output_type": "stream",
     "text": [
      "Charlie\n"
     ]
    }
   ],
   "source": [
    "def get_name(db, user_id):\n",
    "    # O(n)\n",
    "    for user in db:\n",
    "        if user[0] == user_id:\n",
    "            return user[1]\n",
    "    return None\n",
    "\n",
    "print(get_name(database, 3))"
   ]
  },
  {
   "cell_type": "markdown",
   "metadata": {},
   "source": [
    "But this is not efficient. If we have 1,000,000 users, we need to scan the **whole** list to find the name of a given user_id.\n",
    "\n",
    "Let's use a Hash Map instead:"
   ]
  },
  {
   "cell_type": "code",
   "execution_count": 25,
   "metadata": {},
   "outputs": [
    {
     "name": "stdout",
     "output_type": "stream",
     "text": [
      "{1: 'Alice', 2: 'Bob', 3: 'Charlie', 4: 'David', 5: 'Eve', 6: 'Fred', 7: 'George'}\n"
     ]
    }
   ],
   "source": [
    "database = {}\n",
    "for user in users:\n",
    "    database[user[0]] = user[1]\n",
    "\n",
    "print(database)"
   ]
  },
  {
   "cell_type": "code",
   "execution_count": 26,
   "metadata": {},
   "outputs": [
    {
     "name": "stdout",
     "output_type": "stream",
     "text": [
      "Charlie\n"
     ]
    }
   ],
   "source": [
    "def get_name(db, user_id):\n",
    "    # O(1)\n",
    "    return db.get(user_id)\n",
    "\n",
    "print(get_name(database, 3))"
   ]
  },
  {
   "cell_type": "markdown",
   "metadata": {},
   "source": [
    "This now becomes `O(1)`!\n",
    "\n",
    "In fact, this is the foundation of database index:\n",
    "\n",
    "```sql\n",
    "CREATE TABLE hash_table_example (\n",
    "    id INT,\n",
    "    name VARCHAR(100),\n",
    "    INDEX USING HASH (id)\n",
    ") ENGINE=MEMORY;\n",
    "```\n",
    "\n",
    "Although the more common index is B-Tree, which offer more features (e.g. range query: `SELECT name where id > 3 and id < 5`)."
   ]
  },
  {
   "cell_type": "markdown",
   "metadata": {},
   "source": [
    "### Cache\n",
    "\n",
    "In web applications, we often need to cache some data in memory to speed up the response time. For example, we can cache the result of a database query:\n",
    "\n",
    "What is cache?\n"
   ]
  },
  {
   "cell_type": "code",
   "execution_count": 32,
   "metadata": {},
   "outputs": [],
   "source": [
    "import time\n",
    "def square(x):\n",
    "    # simulating slow function, in real life this might be network request or database query\n",
    "    time.sleep(1)\n",
    "    return x * x"
   ]
  },
  {
   "cell_type": "code",
   "execution_count": 33,
   "metadata": {},
   "outputs": [
    {
     "name": "stdout",
     "output_type": "stream",
     "text": [
      "1\n",
      "4\n",
      "9\n",
      "16\n",
      "25\n",
      "Time elapsed:  5.021115064620972\n",
      "1\n",
      "4\n",
      "9\n",
      "16\n",
      "25\n",
      "Time elapsed:  5.013765811920166\n"
     ]
    }
   ],
   "source": [
    "# print square of 1 to 5, track the time to execute\n",
    "\n",
    "start_time = time.time()\n",
    "for i in range(1, 6):\n",
    "    print(square(i))\n",
    "end_time = time.time()\n",
    "print(\"Time elapsed: \", end_time - start_time)\n",
    "\n",
    "# do it again\n",
    "start_time = time.time()\n",
    "for i in range(1, 6):\n",
    "    print(square(i))\n",
    "end_time = time.time()\n",
    "print(\"Time elapsed: \", end_time - start_time)\n"
   ]
  },
  {
   "cell_type": "markdown",
   "metadata": {},
   "source": [
    "Although we have calculated the result before, we still need to recalculate it every time. This is not efficient.\n",
    "\n",
    "Now, let's cache the result:"
   ]
  },
  {
   "cell_type": "code",
   "execution_count": 35,
   "metadata": {},
   "outputs": [],
   "source": [
    "import time\n",
    "\n",
    "cache = {}\n",
    "def square(x):\n",
    "    # check cache\n",
    "    if x in cache:\n",
    "        return cache[x]\n",
    "\n",
    "    time.sleep(1)\n",
    "    result = x * x\n",
    "    # store it in cache before returning\n",
    "    cache[x] = result\n",
    "    return result"
   ]
  },
  {
   "cell_type": "code",
   "execution_count": 36,
   "metadata": {},
   "outputs": [
    {
     "name": "stdout",
     "output_type": "stream",
     "text": [
      "1\n",
      "4\n",
      "9\n",
      "16\n",
      "25\n",
      "Time elapsed:  5.011118173599243\n",
      "1\n",
      "4\n",
      "9\n",
      "16\n",
      "25\n",
      "Time elapsed:  0.00012993812561035156\n"
     ]
    }
   ],
   "source": [
    "# print square of 1 to 5, track the time to execute\n",
    "\n",
    "start_time = time.time()\n",
    "for i in range(1, 6):\n",
    "    print(square(i))\n",
    "end_time = time.time()\n",
    "print(\"Time elapsed: \", end_time - start_time)\n",
    "\n",
    "# do it again\n",
    "start_time = time.time()\n",
    "for i in range(1, 6):\n",
    "    print(square(i))\n",
    "end_time = time.time()\n",
    "print(\"Time elapsed: \", end_time - start_time)\n"
   ]
  },
  {
   "cell_type": "markdown",
   "metadata": {},
   "source": [
    "The second time it is called, we can get the result directly from the cache, without calculating it again.\n",
    "\n",
    "See how much time we saved!"
   ]
  },
  {
   "cell_type": "markdown",
   "metadata": {},
   "source": [
    "### Graph\n",
    "\n",
    "We can represent a graph using a Hash Map. We will discuss more about Graph later, but let's assume we want to model a social network connection"
   ]
  },
  {
   "cell_type": "code",
   "execution_count": 37,
   "metadata": {},
   "outputs": [
    {
     "name": "stdout",
     "output_type": "stream",
     "text": [
      "{'Alice': ['Bob', 'Charlie'], 'Bob': ['Alice', 'Charlie', 'David'], 'Charlie': ['Alice', 'Bob', 'David']}\n"
     ]
    }
   ],
   "source": [
    "following = {}\n",
    "\n",
    "following[\"Alice\"] = [\"Bob\", \"Charlie\"]\n",
    "following[\"Bob\"] = [\"Alice\", \"Charlie\", \"David\"]\n",
    "following[\"Charlie\"] = [\"Alice\", \"Bob\", \"David\"]\n",
    "\n",
    "print(following)\n"
   ]
  },
  {
   "cell_type": "code",
   "execution_count": null,
   "metadata": {},
   "outputs": [],
   "source": [
    "%pip install networkx"
   ]
  },
  {
   "cell_type": "code",
   "execution_count": 44,
   "metadata": {},
   "outputs": [
    {
     "data": {
      "image/png": "[encoded data removed]",
      "text/plain": [
       "<Figure size 640x480 with 1 Axes>"
      ]
     },
     "metadata": {},
     "output_type": "display_data"
    }
   ],
   "source": [
    "#| echo: false\n",
    "following = {'Alice': ['Bob', 'Charlie'], 'Bob': ['Alice', 'Charlie', 'David'], 'Charlie': ['Alice', 'Bob', 'David']}\n",
    "\n",
    "# draw the graph using library\n",
    "\n",
    "import networkx as nx\n",
    "import matplotlib.pyplot as plt\n",
    "\n",
    "G = nx.DiGraph(following) # modified line\n",
    "\n",
    "nx.draw(G, with_labels=True)\n",
    "plt.show()\n",
    "\n"
   ]
  }
 ],
 "metadata": {
  "kernelspec": {
   "display_name": "env",
   "language": "python",
   "name": "python3"
  },
  "language_info": {
   "codemirror_mode": {
    "name": "ipython",
    "version": 3
   },
   "file_extension": ".py",
   "mimetype": "text/x-python",
   "name": "python",
   "nbconvert_exporter": "python",
   "pygments_lexer": "ipython3",
   "version": "3.11.1"
  }
 },
 "nbformat": 4,
 "nbformat_minor": 2
}
