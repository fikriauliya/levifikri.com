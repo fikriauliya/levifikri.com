{
 "cells": [
  {
   "cell_type": "raw",
   "metadata": {},
   "source": [
    "---\n",
    "title: Tree\n",
    "format:\n",
    "  html:\n",
    "    toc: true\n",
    "    html-math-method: katex\n",
    "order: 7\n",
    "--- "
   ]
  },
  {
   "cell_type": "markdown",
   "metadata": {},
   "source": [
    "## Graph\n",
    "\n",
    "Before diving into tree, let's understand what is a graph\n",
    "\n",
    "A graph is a data structure that consists of following two components:\n",
    "- A finite set of **vertices** also called as **nodes**.\n",
    "- A finite set of ordered pair of the form $(u, v)$ called as **edge**. \n",
    "  - The pair is ordered because (u, v) is not same as (v, u) in case of directed graph(di-graph). \n",
    "  - The pair of form (u, v) indicates that there is an edge from vertex u to vertex v.\n",
    "  - The edges may contain weight/value/cost.\n",
    "\n",
    "### Directed Graph\n",
    "\n",
    "```{mermaid}\n",
    "graph LR\n",
    "  A --> B\n",
    "  A --> C\n",
    "  B --> D\n",
    "  C --> D\n",
    "  D --> A\n",
    "```\n",
    "\n",
    "- Nodes: $\\{A, B, C, D\\}$\n",
    "- Edges: $\\{(A, B), (A, C), (B, D), (C, D), (D, A)\\}$\n",
    "\n",
    "Notice that $(A, B)$ is not same as $(B, A)$. That's because the graph is **directed**\n",
    "\n",
    "### Undirected Graph\n",
    "\n",
    "<!-- draw undirected graph -->\n",
    "```{mermaid}\n",
    "graph LR\n",
    "  A --- B\n",
    "  A --- C\n",
    "  B --- D\n",
    "  C --- D\n",
    "  D --- A\n",
    "```\n",
    "\n",
    "In the above graph, $(A, B)$ is same as $(B, A)$. That's because the graph is **undirected**\n",
    "\n",
    "### Cycle\n",
    "\n",
    "A cycle is a path of edges and vertices wherein a vertex is reachable from itself\n",
    "\n",
    "<!-- draw cycle -->\n",
    "```{mermaid}\n",
    "graph LR\n",
    "  A --> B\n",
    "  B --> C\n",
    "  C --> D\n",
    "  D --> A\n",
    "```\n",
    "\n",
    "There is a cycle in the above graph. The cycle is $\\{A, B, C, D\\}$\n",
    "\n",
    "```{mermaid}\n",
    "graph LR\n",
    "  A --> B\n",
    "  B --> C\n",
    "  C --> D\n",
    "  C --> A\n",
    "```\n",
    "\n",
    "There is also a cycle in the above graph. The cycle is $\\{A, B, C\\}$"
   ]
  },
  {
   "cell_type": "markdown",
   "metadata": {},
   "source": [
    "## Graph Representation\n",
    "\n",
    "There are two common ways to represent a graph\n",
    "- Adjacency Matrix\n",
    "- Adjacency List"
   ]
  },
  {
   "cell_type": "markdown",
   "metadata": {},
   "source": [
    "### Adjacency Matrix\n",
    "\n",
    "An adjacency matrix is a square matrix used to represent a finite graph. The elements of the matrix indicate whether pairs of vertices are adjacent or not in the graph."
   ]
  },
  {
   "cell_type": "code",
   "execution_count": 8,
   "metadata": {},
   "outputs": [
    {
     "data": {
      "image/png": "[encoded data removed]",
      "text/plain": [
       "<Figure size 640x480 with 1 Axes>"
      ]
     },
     "metadata": {},
     "output_type": "display_data"
    }
   ],
   "source": [
    "import networkx as nx\n",
    "import numpy as np\n",
    "# graph using adjacency matrix, 4 nodes\n",
    "graph = [[0, 1, 1, 1], \n",
    "            [1, 0, 0, 0],\n",
    "            [1, 1, 0, 0],\n",
    "            [1, 0, 0, 1]]\n",
    "\n",
    "\n",
    "# Create a graph from the adjacency matrix\n",
    "G = nx.DiGraph(np.array(graph))\n",
    "\n",
    "# Draw the graph\n",
    "nx.draw(G, with_labels=True, node_color='lightblue', node_size=500)"
   ]
  },
  {
   "cell_type": "markdown",
   "metadata": {},
   "source": [
    "### Adjacency List\n",
    "\n",
    "An adjacency list is a collection of unordered lists used to represent a finite graph. Each list describes the set of neighbors of a vertex in the graph.\n",
    "\n",
    "The above graph can be represented as follows:\n"
   ]
  },
  {
   "cell_type": "code",
   "execution_count": 9,
   "metadata": {},
   "outputs": [],
   "source": [
    "graph = [\n",
    "    [1, 2, 3],\n",
    "    [0],\n",
    "    [0, 1],\n",
    "    [0, 3]\n",
    "]"
   ]
  },
  {
   "cell_type": "markdown",
   "metadata": {},
   "source": [
    "### Edge List\n",
    "\n",
    "Edge list is a collection of unordered pairs used to represent a finite graph. Each pair describes the edge between two vertices in the graph."
   ]
  },
  {
   "cell_type": "code",
   "execution_count": null,
   "metadata": {},
   "outputs": [],
   "source": [
    "graph = [(0, 1), (0, 2), (0, 3), (1, 0), (2, 0), (2, 1), (3, 0), (3, 2)]"
   ]
  },
  {
   "cell_type": "markdown",
   "metadata": {},
   "source": [
    "### Adjacency Matrix vs Adjacency List\n",
    "\n",
    "| Adjacency Matrix | Adjacency List |\n",
    "| --- | --- |\n",
    "| Takes $O(V^2)$ space | Takes $O(V + E)$ space |\n",
    "| Checking if two vertices are connected takes $O(1)$ time | Checking if two vertices are connected takes $O(V)$ time |\n",
    "| Iterating over all the edges takes $O(V^2)$ time | Iterating over all the edges takes $O(V + E)$ time |\n",
    "\n",
    "Additional Notes:\n",
    "When the graph is sparse, adjacency list is generally preferred. When the graph is dense, adjacency matrix is generally preferred."
   ]
  },
  {
   "cell_type": "markdown",
   "metadata": {},
   "source": [
    "### Implicit Graph\n",
    "\n",
    "An implicit graph is a graph that is not represented by an adjacency list or an adjacency matrix. Instead, the graph is defined by a set of states and transitions between those states.\n",
    "\n",
    "Example: A chess board is an implicit graph. The states are the positions of the pieces on the board. The transitions are the legal moves that can be made by each piece."
   ]
  },
  {
   "cell_type": "markdown",
   "metadata": {},
   "source": [
    "# Tree\n",
    "\n",
    "![tree](https://upload.wikimedia.org/wikipedia/commons/thumb/5/5f/Tree_%28computer_science%29.svg/440px-Tree_%28computer_science%29.svg.png)\n",
    "\n",
    "Tree is a special type of graph where:\n",
    "- There is only one path between any two nodes\n",
    "- There are no cycles \n"
   ]
  },
  {
   "cell_type": "markdown",
   "metadata": {},
   "source": [
    "## Tree Representation"
   ]
  },
  {
   "cell_type": "markdown",
   "metadata": {},
   "source": [
    "### Adjacency Matrix\n",
    "\n",
    "Tree can be represented using adjacency matrix. However, it is not a good idea to do so. That's because adjacency matrix takes $O(V^2)$ space. Since tree is a special type of graph (sparse), it is better to use adjacency list to represent it."
   ]
  },
  {
   "cell_type": "markdown",
   "metadata": {},
   "source": [
    "### Adjancency List\n",
    "\n",
    "Tree can be represented as a HashMap, where the key is the node and the value is the list of children."
   ]
  },
  {
   "cell_type": "code",
   "execution_count": 3,
   "metadata": {},
   "outputs": [
    {
     "name": "stdout",
     "output_type": "stream",
     "text": [
      "{1: [2, 3, 4], 4: [5, 6]}\n"
     ]
    }
   ],
   "source": [
    "tree = {}\n",
    "\n",
    "def add_node(parent, value):\n",
    "    if parent not in tree:\n",
    "        tree[parent] = []\n",
    "    tree[parent].append(value)\n",
    "\n",
    "add_node(1, 2)\n",
    "add_node(1, 3)\n",
    "add_node(1, 4)\n",
    "add_node(4, 5)\n",
    "add_node(4, 6)\n",
    "\n",
    "print(tree)\n"
   ]
  },
  {
   "cell_type": "markdown",
   "metadata": {},
   "source": [
    "### Node Class\n",
    "\n",
    "We can create a class to represent a node. Each node has a value and a list of children nodes."
   ]
  },
  {
   "cell_type": "code",
   "execution_count": 2,
   "metadata": {},
   "outputs": [
    {
     "name": "stdout",
     "output_type": "stream",
     "text": [
      "Node(1, [Node(2, []), Node(3, []), Node(4, [Node(5, []), Node(6, [])])])\n"
     ]
    }
   ],
   "source": [
    "class Node:\n",
    "    children: list[\"Node\"]\n",
    "    value: int\n",
    "\n",
    "    def __init__(self, value):\n",
    "        self.value = value\n",
    "        self.children = []\n",
    "    \n",
    "    def add_child(self, child):\n",
    "        self.children.append(child)\n",
    "    \n",
    "    def __repr__(self):\n",
    "        return f\"Node({self.value}, {self.children})\"\n",
    "\n",
    "root = Node(1)\n",
    "root.add_child(Node(2))\n",
    "root.add_child(Node(3))\n",
    "\n",
    "child = Node(4)\n",
    "child.add_child(Node(5))\n",
    "child.add_child(Node(6))\n",
    "\n",
    "root.add_child(child)\n",
    "\n",
    "print(root)"
   ]
  },
  {
   "cell_type": "markdown",
   "metadata": {},
   "source": [
    "## Use Cases"
   ]
  },
  {
   "cell_type": "markdown",
   "metadata": {},
   "source": [
    "### Directory\n",
    "\n",
    "Tree can be used to represent a directory. Each node is a directory and the children are the files and subdirectories.\n",
    "\n",
    "```\n",
    ".\n",
    "├── _publish.yml\n",
    "├── _quarto.yml\n",
    "├── _site\n",
    "│   ├── agenda\n",
    "│   │   └── 00-big-o-set.html\n",
    "│   ├── algorithm\n",
    "│   │   └── recursion.html\n",
    "│   ├── cryptography\n",
    "│   │   ├── 00_cryptographic_hash.html\n",
    "│   │   └── cryptographic_hash.html\n",
    "```\n",
    "\n",
    "It's a tree, isn't it? :)"
   ]
  },
  {
   "cell_type": "code",
   "execution_count": 4,
   "metadata": {},
   "outputs": [
    {
     "name": "stdout",
     "output_type": "stream",
     "text": [
      "{'/': ['/home', '/usr'], '/home': ['/home/user', '/home/tmp']}\n"
     ]
    }
   ],
   "source": [
    "directory = {}\n",
    "\n",
    "def add_subpath(parent, child):\n",
    "    if parent not in directory:\n",
    "        directory[parent] = []\n",
    "    directory[parent].append(child)\n",
    "\n",
    "add_subpath(\"/\", \"/home\")\n",
    "add_subpath(\"/\", \"/usr\")\n",
    "add_subpath(\"/home\", \"/home/user\")\n",
    "add_subpath(\"/home\", \"/home/tmp\")\n",
    "\n",
    "print(directory)"
   ]
  },
  {
   "cell_type": "markdown",
   "metadata": {},
   "source": [
    "### HTML\n",
    "\n",
    "Well, HTML is a tree. Each node is a tag and the children are the tags inside the tag.\n",
    "\n",
    "```html\n",
    "<html>\n",
    "    <head>\n",
    "        <title>Tree</title>\n",
    "    </head>\n",
    "    <body>\n",
    "        <h1>Tree</h1>\n",
    "        <p>Tree is a special type of graph</p>\n",
    "    </body>\n",
    "</html>\n",
    "```"
   ]
  },
  {
   "cell_type": "code",
   "execution_count": 10,
   "metadata": {},
   "outputs": [
    {
     "name": "stdout",
     "output_type": "stream",
     "text": [
      "<html ><head ><title ><text >Hello, world!</text></title></head><body ><div class=\"container\"><h1 ><text >Hello, world!</text></h1></div></body></html>\n"
     ]
    }
   ],
   "source": [
    "class Tag:\n",
    "    name: str\n",
    "    attributes: dict\n",
    "    children: list\n",
    "\n",
    "    def __init__(self, name, attributes=None, children=None):\n",
    "        self.name = name\n",
    "        self.attributes = attributes or {}\n",
    "        self.children = children or []\n",
    "\n",
    "    def __str__(self) -> str:\n",
    "        # print in HTML format\n",
    "        childrens = \"\".join([str(child) for child in self.children])\n",
    "        attributes = \" \".join([f'{key}=\"{value}\"' for key, value in self.attributes.items()])\n",
    "        return f\"<{self.name} {attributes}>{childrens}</{self.name}>\"\n",
    "\n",
    "tag = Tag(\"html\", children=[\n",
    "    Tag(\"head\", children=[\n",
    "        Tag(\"title\", children=[\n",
    "            Tag(\"text\", children=[\"Hello, world!\"])\n",
    "        ])\n",
    "    ]),\n",
    "    Tag(\"body\", children=[\n",
    "        Tag(\"div\", attributes={\"class\": \"container\"}, children=[\n",
    "            Tag(\"h1\", children=[\n",
    "                Tag(\"text\", children=[\"Hello, world!\"])\n",
    "            ])\n",
    "        ])\n",
    "    ])\n",
    "])\n",
    "\n",
    "print(str(tag))"
   ]
  },
  {
   "cell_type": "markdown",
   "metadata": {},
   "source": [
    "### Abstract Syntax Tree\n",
    "\n",
    "Abstract Syntax Tree (AST) is a tree representation of the abstract syntactic structure of source code written in a programming language. Each node is an operator or an operand and the children are the operands of the operator.\n",
    "\n",
    "<!-- AST illustration -->\n",
    "![ast](https://upload.wikimedia.org/wikipedia/commons/thumb/c/c7/Abstract_syntax_tree_for_Euclidean_algorithm.svg/800px-Abstract_syntax_tree_for_Euclidean_algorithm.svg.png)\n",
    "\n",
    "That's the AST for\n",
    "\n",
    "```python\n",
    "while b ≠ 0:\n",
    "    if a > b:\n",
    "        a := a - b\n",
    "    else:\n",
    "        b := b - a\n",
    "return a\n",
    "```\n",
    "\n",
    "Source: [Wikipedia](https://en.wikipedia.org/wiki/Abstract_syntax_tree)"
   ]
  },
  {
   "cell_type": "markdown",
   "metadata": {},
   "source": [
    "### Binary Search Tree\n",
    "\n",
    "Binary Search Tree is a tree where each node has at most two children. The left child is smaller than the parent and the right child is greater than the parent.\n",
    "\n",
    "<!-- draw BST, put numbers in the nodes. Make sure left child is smaller than parent and right child is greater than parent -->\n",
    "```{mermaid}\n",
    "graph TB\n",
    "    10 --> 5\n",
    "    10 --> 15\n",
    "    5 --> 3\n",
    "    5 --> 7\n",
    "    15 --> 13\n",
    "    15 --> 17\n",
    "```"
   ]
  },
  {
   "cell_type": "code",
   "execution_count": 13,
   "metadata": {},
   "outputs": [
    {
     "name": "stdout",
     "output_type": "stream",
     "text": [
      "BST(10, BST(5, BST(3, None, None), BST(7, None, None)), BST(15, BST(13, None, None), BST(17, None, None)))\n"
     ]
    }
   ],
   "source": [
    "class BST:\n",
    "    value: int\n",
    "    left: \"BST\"\n",
    "    right: \"BST\"\n",
    "\n",
    "    def __init__(self, value):\n",
    "        self.value = value\n",
    "        self.left = None\n",
    "        self.right = None\n",
    "    \n",
    "    def insert(self, value):\n",
    "        if value < self.value:\n",
    "            if self.left is None:\n",
    "                self.left = BST(value)\n",
    "            else:\n",
    "                self.left.insert(value)\n",
    "        else:\n",
    "            if self.right is None:\n",
    "                self.right = BST(value)\n",
    "            else:\n",
    "                self.right.insert(value)\n",
    "    \n",
    "    def __str__(self):\n",
    "        return f\"BST({self.value}, {self.left}, {self.right})\"\n",
    "\n",
    "tree = BST(10)\n",
    "tree.insert(5)\n",
    "tree.insert(15)\n",
    "tree.insert(13)\n",
    "tree.insert(7)\n",
    "tree.insert(3)\n",
    "tree.insert(17)\n",
    "\n",
    "print(tree)"
   ]
  },
  {
   "cell_type": "markdown",
   "metadata": {},
   "source": [
    "Well, it's hard to read the above graph. Let's draw it in a better way. Let's learn tree traversal."
   ]
  },
  {
   "cell_type": "markdown",
   "metadata": {},
   "source": [
    "## Tree Traversal\n",
    "\n",
    "```{mermaid}\n",
    "graph TB\n",
    "    10 --> 5\n",
    "    10 --> 15\n",
    "    5 --> 3\n",
    "    5 --> 7\n",
    "    15 --> 13\n",
    "    15 --> 17\n",
    "```\n",
    "\n",
    "### Inorder Traversal\n",
    "\n",
    "Inorder traversal is a type of depth-first traversal. In inorder traversal, we first visit the left subtree, then the root node, and finally the right subtree.\n",
    "\n",
    "As the name implies, the output of inorder traversal in a BST is sorted."
   ]
  },
  {
   "cell_type": "code",
   "execution_count": 16,
   "metadata": {},
   "outputs": [
    {
     "name": "stdout",
     "output_type": "stream",
     "text": [
      "[3, 5, 7, 10, 13, 15, 17]\n"
     ]
    }
   ],
   "source": [
    "def inorder(node):\n",
    "    if node is None:\n",
    "        return\n",
    "    yield from inorder(node.left)\n",
    "    yield node.value\n",
    "    yield from inorder(node.right)\n",
    "\n",
    "print(list(inorder(tree)))\n"
   ]
  },
  {
   "cell_type": "markdown",
   "metadata": {},
   "source": [
    "\n",
    "### Preorder Traversal\n",
    "\n",
    "Preorder traversal is a type of depth-first traversal. In preorder traversal, we first visit the root node, then the left subtree, and finally the right subtree.\n"
   ]
  },
  {
   "cell_type": "code",
   "execution_count": 17,
   "metadata": {},
   "outputs": [
    {
     "name": "stdout",
     "output_type": "stream",
     "text": [
      "[10, 5, 3, 7, 15, 13, 17]\n"
     ]
    }
   ],
   "source": [
    "def preorder(node):\n",
    "    if node is None:\n",
    "        return\n",
    "    yield node.value\n",
    "    yield from preorder(node.left)\n",
    "    yield from preorder(node.right)\n",
    "\n",
    "print(list(preorder(tree)))"
   ]
  },
  {
   "cell_type": "markdown",
   "metadata": {},
   "source": [
    "### Postorder Traversal\n",
    "\n",
    "Postorder traversal is a type of depth-first traversal. In postorder traversal, we first visit the left subtree, then the right subtree, and finally the root node.\n"
   ]
  },
  {
   "cell_type": "code",
   "execution_count": 18,
   "metadata": {},
   "outputs": [
    {
     "name": "stdout",
     "output_type": "stream",
     "text": [
      "[3, 7, 5, 13, 17, 15, 10]\n"
     ]
    }
   ],
   "source": [
    "def postorder(node):\n",
    "    if node is None:\n",
    "        return\n",
    "    yield from postorder(node.left)\n",
    "    yield from postorder(node.right)\n",
    "    yield node.value\n",
    "\n",
    "print(list(postorder(tree)))"
   ]
  },
  {
   "cell_type": "markdown",
   "metadata": {},
   "source": [
    "## BST"
   ]
  },
  {
   "cell_type": "markdown",
   "metadata": {},
   "source": [
    "### Drawing BST\n",
    "\n",
    "Having learned tree traversal, we can now draw BST in a better way."
   ]
  },
  {
   "cell_type": "code",
   "execution_count": 22,
   "metadata": {},
   "outputs": [
    {
     "name": "stdout",
     "output_type": "stream",
     "text": [
      "        17\n",
      "    15\n",
      "        13\n",
      "10\n",
      "        7\n",
      "    5\n",
      "        3\n"
     ]
    }
   ],
   "source": [
    "def draw(node, level=0):\n",
    "    if node is None:\n",
    "        return\n",
    "    draw(node.right, level + 1)\n",
    "    print(\" \" *  4 * level + str(node.value))\n",
    "    draw(node.left, level + 1)\n",
    "\n",
    "draw(tree)"
   ]
  },
  {
   "cell_type": "markdown",
   "metadata": {},
   "source": [
    "You need to rotate your head to see the tree ;)\n",
    "\n",
    "Let's draw in a directory style:"
   ]
  },
  {
   "cell_type": "code",
   "execution_count": 31,
   "metadata": {},
   "outputs": [
    {
     "name": "stdout",
     "output_type": "stream",
     "text": [
      "├──10\n",
      "   ├──5\n",
      "      ├──3\n",
      "      ├──7\n",
      "   ├──15\n",
      "      ├──13\n",
      "      ├──17\n"
     ]
    }
   ],
   "source": [
    "def draw(node, level=0):\n",
    "    if node is None:\n",
    "        return\n",
    "    print(\"   \" * level + \"├──\" + str(node.value))\n",
    "    draw(node.left, level + 1)\n",
    "    draw(node.right, level + 1)\n",
    "\n",
    "draw(tree)"
   ]
  },
  {
   "cell_type": "markdown",
   "metadata": {},
   "source": [
    "### Search on BST\n",
    "\n",
    "The power of BST is that we can search in $O(\\log n)$ time. Let's see how.\n"
   ]
  },
  {
   "cell_type": "code",
   "execution_count": 33,
   "metadata": {},
   "outputs": [
    {
     "name": "stdout",
     "output_type": "stream",
     "text": [
      "├──10\n",
      "   ├──5\n",
      "      ├──3\n",
      "      ├──7\n",
      "   ├──15\n",
      "      ├──13\n",
      "      ├──17\n"
     ]
    }
   ],
   "source": [
    "tree = BST(10)\n",
    "tree.insert(5)\n",
    "tree.insert(15)\n",
    "tree.insert(13)\n",
    "tree.insert(7)\n",
    "tree.insert(3)\n",
    "tree.insert(17)\n",
    "\n",
    "draw(tree)"
   ]
  },
  {
   "cell_type": "markdown",
   "metadata": {},
   "source": [
    "To search for $7$:\n",
    "\n",
    "- Start from the root node $10$\n",
    "- Since $7 < 10$, go to the left child $5$ (we can ignore the **whole** right subtree -> eliminating half* of the tree)\n",
    "- Since $7 > 5$, go to the right child $7$\n",
    "- Since $7 = 7$, we found it!\n",
    "\n",
    "The code is pretty simple, remember recursive? :)\n",
    "\n",
    "$$\n",
    "\\begin{aligned}\n",
    "\\text{search}(x, k) &=\n",
    "\\begin{cases}\n",
    "\\text{False} & \\text{if } x = \\text{None} \\\\\n",
    "\\text{True} & \\text{if } x.\\text{value} = k \\\\\n",
    "\\text{search}(x.\\text{left}, k) & \\text{if } k < x.\\text{value} \\\\\n",
    "\\text{search}(x.\\text{right}, k) & \\text{if } k > x.\\text{value} \\\\\n",
    "\\end{cases}\n",
    "\\end{aligned}\n",
    "$$"
   ]
  },
  {
   "cell_type": "code",
   "execution_count": 34,
   "metadata": {},
   "outputs": [
    {
     "name": "stdout",
     "output_type": "stream",
     "text": [
      "True\n",
      "False\n"
     ]
    }
   ],
   "source": [
    "def search(node, value):\n",
    "    if node is None:\n",
    "        return False\n",
    "    if node.value == value:\n",
    "        return True\n",
    "    if value < node.value:\n",
    "        return search(node.left, value)\n",
    "    else:\n",
    "        return search(node.right, value)\n",
    "    \n",
    "print(search(tree, 7))\n",
    "print(search(tree, 8))"
   ]
  },
  {
   "cell_type": "markdown",
   "metadata": {},
   "source": [
    "### The problem of BST\n",
    "\n",
    "BST is a great data structure. It is used in many places. However, it has a problem. The problem is that the height of the tree can be $O(n)$.\n",
    "\n",
    "It happens when the tree is skewed. For example, if we insert the numbers in ascending order, the tree will be skewed to the right."
   ]
  },
  {
   "cell_type": "code",
   "execution_count": 32,
   "metadata": {},
   "outputs": [
    {
     "name": "stdout",
     "output_type": "stream",
     "text": [
      "├──10\n",
      "   ├──1\n",
      "      ├──2\n",
      "         ├──3\n",
      "            ├──4\n",
      "               ├──5\n",
      "                  ├──6\n",
      "                     ├──7\n",
      "                        ├──8\n",
      "                           ├──9\n"
     ]
    }
   ],
   "source": [
    "tree = BST(10)\n",
    "for i in range(1, 10):\n",
    "    tree.insert(i)\n",
    "\n",
    "draw(tree)"
   ]
  },
  {
   "cell_type": "markdown",
   "metadata": {},
   "source": [
    "That's literally a linked list!"
   ]
  },
  {
   "cell_type": "markdown",
   "metadata": {},
   "source": [
    "### Solution\n",
    "\n",
    "WE NEED TO BALANCE THE TREE!\n",
    "\n",
    "How? We will learn in the next class :)"
   ]
  }
 ],
 "metadata": {
  "kernelspec": {
   "display_name": "env",
   "language": "python",
   "name": "python3"
  },
  "language_info": {
   "codemirror_mode": {
    "name": "ipython",
    "version": 3
   },
   "file_extension": ".py",
   "mimetype": "text/x-python",
   "name": "python",
   "nbconvert_exporter": "python",
   "pygments_lexer": "ipython3",
   "version": "3.11.1"
  }
 },
 "nbformat": 4,
 "nbformat_minor": 2
}
