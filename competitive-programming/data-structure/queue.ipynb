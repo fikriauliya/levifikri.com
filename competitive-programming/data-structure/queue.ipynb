{
 "cells": [
  {
   "cell_type": "raw",
   "metadata": {},
   "source": [
    "---\n",
    "title: Queue\n",
    "format:\n",
    "  html:\n",
    "    toc: true\n",
    "    html-math-method: katex\n",
    "order: 5\n",
    "--- "
   ]
  },
  {
   "cell_type": "markdown",
   "metadata": {},
   "source": [
    "\n",
    "Queue is a linear data structure that follows the First In First Out (FIFO) principle. It has two ends, front and rear. The elements are added from the rear end and removed from the front end. The first element to be added to the queue will be the first one to be removed. This is why it is called First In First Out (FIFO).\n",
    "\n",
    "\n",
    "| 0 | 1 | 2 | 3 | 4 | 5 | 6 | 7 | 8 | 9 |\n",
    "|---|---|---|---|---|---|---|---|---|---|\n",
    "| Head | _ | _ | _ | _ | _ | _ | _ | _ | Tail |\n",
    "\n",
    "The above diagram shows a queue with 10 elements. The head of the queue is at index 0 and the tail is at index 9. The head is the first element to be removed and the tail is the last element to be removed. The queue is empty when the head and tail are at the same index.\n",
    "\n",
    "## Enqueue\n",
    "\n",
    "Enqueue is the process of adding an element to the queue. The element is added to the rear end of the queue\n",
    "\n",
    "| 0 | 1 | 2 | 3 | 4 | 5 | 6 | 7 | 8 | 9 | 10 |\n",
    "|---|---|---|---|---|---|---|---|---|---|---|\n",
    "| Head | _ | _ | _ | _ | _ | _ | _ | _ | _ | New, Tail |\n",
    "\n",
    "## Dequeue\n",
    "\n",
    "Dequeuing is the process of removing an element from the queue. The element is removed from the front end of the queue.\n",
    "\n",
    "| 0 | 1 | 2 | 3 | 4 | 5 | 6 | 7 | 8 | 9 |\n",
    "|---|---|---|---|---|---|---|---|---|---|\n",
    "| New Head | _ | _ | _ | _ | _ | _ | _ | _ | Tail |\n",
    "\n",
    "## Peek\n",
    "\n",
    "Peek is the process of viewing the element at the front end of the queue without removing it."
   ]
  },
  {
   "cell_type": "markdown",
   "metadata": {},
   "source": [
    "##  LinkedList with Tail Pointer\n",
    "\n",
    "```{mermaid}\n",
    "graph LR\n",
    "    Head --> A[Node]\n",
    "    A --> B[Node]\n",
    "    B --> C[Node]\n",
    "    C --> D[Node]\n",
    "    Tail --> D\n",
    "```\n",
    "\n",
    "Enqueue operation is O(1) because we have reference to the tail node. Dequeue operation is O(1) because we have reference to the head node.\n",
    "\n",
    "However, there are some disadvantages of using a linked list:\n",
    "\n",
    "- Extra memory: Each node in the list requires extra space for the next pointer\n",
    "- Not cache friendly: Since the nodes are not stored in contiguous memory locations, the cache is not utilized efficiently\n",
    "\n",
    "In practice, Queue is often implemented using:\n",
    "- Linkedlist of blocks of fixed size: each block is a fixed size array, when the array is full, a new block is allocated and linked to the previous block\n",
    "- Circular buffer array\n",
    "\n",
    "![Circular Buffer](https://upload.wikimedia.org/wikipedia/commons/f/fd/Circular_Buffer_Animation.gif)"
   ]
  },
  {
   "cell_type": "code",
   "execution_count": 4,
   "metadata": {},
   "outputs": [],
   "source": [
    "# create circular array\n",
    "\n",
    "class CircularQueue:\n",
    "    def __init__(self, size):\n",
    "        self.size = size\n",
    "        self.queue = [None] * size\n",
    "        self.front = self.rear = -1\n",
    "    \n",
    "    def enqueue(self, data):\n",
    "        if (self.rear + 1) % self.size == self.front:\n",
    "            print(\"Queue is full\")\n",
    "        elif self.front == -1:\n",
    "            self.front = 0\n",
    "            self.rear = 0\n",
    "            self.queue[self.rear] = data\n",
    "        else:\n",
    "            self.rear = (self.rear + 1) % self.size\n",
    "            self.queue[self.rear] = data\n",
    "    \n",
    "    def dequeue(self):\n",
    "        if self.front == -1:\n",
    "            print(\"Queue is empty\")\n",
    "        elif self.front == self.rear:\n",
    "            temp = self.queue[self.front]\n",
    "            self.front = -1\n",
    "            self.rear = -1\n",
    "            return temp\n",
    "        else:\n",
    "            temp = self.queue[self.front]\n",
    "            self.front = (self.front + 1) % self.size\n",
    "            return temp\n",
    "    \n",
    "    def display(self):\n",
    "        if self.front == -1:\n",
    "            print(\"Queue is empty\")\n",
    "        elif self.rear >= self.front:\n",
    "            for i in range(self.front, self.rear + 1):\n",
    "                print(self.queue[i], end=\" \")\n",
    "            print()\n",
    "        else:\n",
    "            for i in range(self.front, self.size):\n",
    "                print(self.queue[i], end=\" \")\n",
    "            for i in range(0, self.rear + 1):\n",
    "                print(self.queue[i], end=\" \")\n",
    "            print()\n",
    "    \n",
    "    def getFront(self):\n",
    "        if self.front == -1:\n",
    "            print(\"Queue is empty\")\n",
    "        else:\n",
    "            print(\"Front element is\", self.queue[self.front])\n",
    "    \n",
    "    def getRear(self):\n",
    "        if self.rear == -1:\n",
    "            print(\"Queue is empty\")\n",
    "        else:\n",
    "            print(\"Rear element is\", self.queue[self.rear])"
   ]
  },
  {
   "cell_type": "code",
   "execution_count": 9,
   "metadata": {},
   "outputs": [
    {
     "name": "stdout",
     "output_type": "stream",
     "text": [
      "14\n",
      "22\n",
      "1 2 3 4 \n",
      "Queue is full\n"
     ]
    }
   ],
   "source": [
    "q = CircularQueue(5)\n",
    "q.enqueue(14)\n",
    "q.enqueue(22)\n",
    "print(q.dequeue())\n",
    "print(q.dequeue())\n",
    "\n",
    "q.enqueue(1)\n",
    "q.enqueue(2)\n",
    "q.enqueue(3)\n",
    "q.enqueue(4)\n",
    "q.display()\n",
    "\n",
    "q.enqueue(5)\n",
    "q.enqueue(6) # queue is full\n"
   ]
  },
  {
   "cell_type": "markdown",
   "metadata": {},
   "source": [
    "## Complexity\n",
    "\n",
    "| Operation | Complexity |\n",
    "|---|---|\n",
    "| Enqueue | O(1) |\n",
    "| Dequeue | O(1) |\n",
    "| Peek | O(1) |"
   ]
  },
  {
   "cell_type": "markdown",
   "metadata": {},
   "source": [
    "## Use Cases\n",
    "\n",
    "Queue is used in many scalable systems. For example, a web server can use a queue to store the requests from clients. The requests are processed in the order they are received.\n",
    "\n",
    "If you have ever heard about Redis, Kafka, RabbitMQ, Pubsuq, etc, they are all have queue as their data structure.\n",
    "\n",
    "This describe [various queue patterns](https://www.rabbitmq.com/getstarted.html)\n"
   ]
  },
  {
   "cell_type": "markdown",
   "metadata": {},
   "source": [
    "### Work Queue"
   ]
  },
  {
   "cell_type": "markdown",
   "metadata": {},
   "source": [
    "![Work Queue](https://www.rabbitmq.com/img/tutorials/python-two.png)\n",
    "\n",
    "Source: RabbitMQ"
   ]
  },
  {
   "cell_type": "code",
   "execution_count": 2,
   "metadata": {},
   "outputs": [],
   "source": [
    "email = {\n",
    "    \"id\": 1,\n",
    "    \"title\": \"Welcome to our newsletter\",\n",
    "    \"body\": \"Hello, welcome to our newsletter\",\n",
    "}\n",
    "\n",
    "from queue import Queue\n",
    "q = Queue()\n",
    "\n",
    "q.put(email)"
   ]
  },
  {
   "cell_type": "code",
   "execution_count": null,
   "metadata": {},
   "outputs": [],
   "source": [
    "# Publisher to email provider A running in a separate thread/process\n",
    "email = q.get()\n",
    "EmailProviderA.send(email)"
   ]
  },
  {
   "cell_type": "code",
   "execution_count": null,
   "metadata": {},
   "outputs": [],
   "source": [
    "# Publisher to email provider B running in a separate thread/process\n",
    "email = q.get()\n",
    "EmailProviderB.send(email)"
   ]
  },
  {
   "cell_type": "markdown",
   "metadata": {},
   "source": [
    "### Pubsub\n",
    "\n",
    "![pubsub](https://www.rabbitmq.com/img/tutorials/exchanges.png)\n",
    "\n",
    "Source: RabbitMQ"
   ]
  },
  {
   "cell_type": "code",
   "execution_count": null,
   "metadata": {},
   "outputs": [],
   "source": [
    "campaign = {\n",
    "    \"id\": 1,\n",
    "    \"title\": \"Welcome to our newsletter\",\n",
    "    \"body\": \"Hello, welcome to our newsletter\",\n",
    "}\n",
    "\n",
    "from queue import Queue\n",
    "push_notification_queue = Queue()\n",
    "email_queue = Queue()\n",
    "\n",
    "push_notification_queue.put(campaign)\n",
    "email_queue.put(campaign)"
   ]
  },
  {
   "cell_type": "markdown",
   "metadata": {},
   "source": [
    "### Buffer\n",
    "\n",
    "Queue could also be used as a buffer. For example, a producer produces data at a faster rate than the consumer can consume. The producer can store the data in a queue and the consumer can consume the data at its own pace.\n",
    "\n",
    "![Buffer](https://www.rabbitmq.com/img/tutorials/python-one-overall.png)"
   ]
  },
  {
   "cell_type": "code",
   "execution_count": null,
   "metadata": {},
   "outputs": [],
   "source": [
    "from queue import Queue\n",
    "messages = [{\n",
    "    \"id\": 1,\n",
    "    \"title\": \"Welcome to our newsletter\",\n",
    "    \"body\": \"Hello, welcome to our newsletter\",\n",
    "}, {\n",
    "    \"id\": 2,\n",
    "    \"title\": \"Welcome to our newsletter\",\n",
    "    \"body\": \"Hello, welcome to our newsletter\",\n",
    "}]\n",
    "\n",
    "q = Queue()\n",
    "# publisher with high throughput\n",
    "for message in messages:\n",
    "    q.put(message)"
   ]
  },
  {
   "cell_type": "code",
   "execution_count": null,
   "metadata": {},
   "outputs": [],
   "source": [
    "# Consumer with low throughput\n",
    "while True:\n",
    "    message = q.get()\n",
    "    EmailProvider.send(message) # assume synchronous call"
   ]
  },
  {
   "cell_type": "markdown",
   "metadata": {},
   "source": [
    "### Batch Insert\n",
    "\n",
    "Queue can be used to batch insert data into a database. The data is first stored in a queue and then inserted into the database in batches.\n",
    "\n",
    "Batch insert is generally faster than inserting one record at a time. This is because the database can perform the insert operation in bulk."
   ]
  },
  {
   "cell_type": "markdown",
   "metadata": {},
   "source": [
    "## High Level Library\n",
    "\n",
    "In Python, we can use:\n",
    "\n",
    "- `Queue` from `queue` module -> Thread safe\n",
    "- `deque` from `collections` module -> Not thread safe, but faster"
   ]
  }
 ],
 "metadata": {
  "kernelspec": {
   "display_name": "env",
   "language": "python",
   "name": "python3"
  },
  "language_info": {
   "codemirror_mode": {
    "name": "ipython",
    "version": 3
   },
   "file_extension": ".py",
   "mimetype": "text/x-python",
   "name": "python",
   "nbconvert_exporter": "python",
   "pygments_lexer": "ipython3",
   "version": "3.11.1"
  }
 },
 "nbformat": 4,
 "nbformat_minor": 2
}
