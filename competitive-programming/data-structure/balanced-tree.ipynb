{
 "cells": [
  {
   "cell_type": "raw",
   "metadata": {},
   "source": [
    "---\n",
    "title: Balanced Tree\n",
    "format:\n",
    "  html:\n",
    "    toc: true\n",
    "    html-math-method: katex\n",
    "order: 8\n",
    "--- "
   ]
  },
  {
   "cell_type": "markdown",
   "metadata": {},
   "source": [
    "## Database Indexing\n",
    "\n",
    "If you ever have encountered issue with database performance, you might have heard about indexing. Indexing is a way to improve the performance of a database by reducing the number of disk accesses required when a query is processed. It is a data structure technique which is used to quickly locate and access the data in a database. Indexes are created using a few database columns.\n",
    "\n",
    "Let's illustrate this with an example. Suppose you have a table called `users` with the following columns:"
   ]
  },
  {
   "cell_type": "code",
   "execution_count": 2,
   "metadata": {},
   "outputs": [
    {
     "name": "stdout",
     "output_type": "stream",
     "text": [
      "Size:  4500000\n",
      "id\tname\tage\tcountry\n",
      "--------------------------------\n",
      "0\tAgus Wijaya\t20\tIndonesia\tMercury\tMilky Way\n",
      "1\tAgus Wijaya\t20\tIndonesia\tMercury\tAndromeda\n",
      "2\tAgus Wijaya\t20\tIndonesia\tMercury\tTriangulum\n",
      "3\tAgus Wijaya\t20\tIndonesia\tMercury\tMessier 81\n",
      "4\tAgus Wijaya\t20\tIndonesia\tMercury\tMessier 82\n",
      "5\tAgus Wijaya\t20\tIndonesia\tMercury\tCentaurus A\n",
      "6\tAgus Wijaya\t20\tIndonesia\tMercury\tMessier 87\n",
      "7\tAgus Wijaya\t20\tIndonesia\tMercury\tMessier 49\n",
      "8\tAgus Wijaya\t20\tIndonesia\tMercury\tMessier 51\n",
      "9\tAgus Wijaya\t20\tIndonesia\tMercury\tMessier 101\n",
      "10\tAgus Wijaya\t20\tIndonesia\tVenus\tMilky Way\n",
      "11\tAgus Wijaya\t20\tIndonesia\tVenus\tAndromeda\n",
      "12\tAgus Wijaya\t20\tIndonesia\tVenus\tTriangulum\n",
      "13\tAgus Wijaya\t20\tIndonesia\tVenus\tMessier 81\n",
      "14\tAgus Wijaya\t20\tIndonesia\tVenus\tMessier 82\n",
      "15\tAgus Wijaya\t20\tIndonesia\tVenus\tCentaurus A\n",
      "16\tAgus Wijaya\t20\tIndonesia\tVenus\tMessier 87\n",
      "17\tAgus Wijaya\t20\tIndonesia\tVenus\tMessier 49\n",
      "18\tAgus Wijaya\t20\tIndonesia\tVenus\tMessier 51\n",
      "19\tAgus Wijaya\t20\tIndonesia\tVenus\tMessier 101\n"
     ]
    }
   ],
   "source": [
    "from dataclasses import dataclass\n",
    "\n",
    "@dataclass\n",
    "class User:\n",
    "    id: int\n",
    "    name: str\n",
    "    age: int\n",
    "    country: str\n",
    "    planet: str\n",
    "    galaxy: str\n",
    "\n",
    "    def __str__(self):\n",
    "        return f'{self.id}\\t{self.name}\\t{self.age}\\t{self.country}\\t{self.planet}\\t{self.galaxy}'\n",
    "\n",
    "\n",
    "first_names = ['Agus', 'Budi', 'Charlie', 'Dina', 'Erika', 'Fandi', 'Gina', 'Hani', 'Ika', 'Joni']\n",
    "last_names = ['Wijaya', 'Mulyana', 'Setiawan', 'Susanto', 'Gusti', 'Saputra', 'Surya', 'Andini', 'Wijayanti', 'Saputri']\n",
    "ages = range(20, 70)\n",
    "countries = ['Indonesia', 'Malaysia', 'Singapore', 'Thailand', 'Vietnam', 'Laos', 'Myanmar', 'Brunei', 'Philippines', 'Timor Leste']\n",
    "planets = ['Mercury', 'Venus', 'Earth', 'Mars', 'Jupiter', 'Saturn', 'Uranus', 'Neptunus', 'Pluto']\n",
    "galaxies = ['Milky Way', 'Andromeda', 'Triangulum', 'Messier 81', 'Messier 82', 'Centaurus A', 'Messier 87', 'Messier 49', 'Messier 51', 'Messier 101']\n",
    "\n",
    "def generate_random_users():\n",
    "    import random\n",
    "    users = []\n",
    "    id = 0\n",
    "    for fn in first_names:\n",
    "        for ln in last_names:\n",
    "            for age in ages:\n",
    "                for country in countries:\n",
    "                    for planet in planets:\n",
    "                        for galaxy in galaxies:\n",
    "                            users.append(User(id, f'{fn} {ln}', age, country, planet, galaxy))\n",
    "                            id += 1\n",
    "\n",
    "    return users\n",
    "\n",
    "users = generate_random_users()\n",
    "print('Size: ', len(users))\n",
    "print('id\\tname\\tage\\tcountry')\n",
    "print('--------------------------------')\n",
    "for user in users[:20]:\n",
    "    print(str(user))"
   ]
  },
  {
   "cell_type": "markdown",
   "metadata": {},
   "source": [
    "Now, what's the detail of the user with `id` 5? To find this, the database will have to scan through all the rows in the table. \n",
    "\n",
    "This is called a full table scan. If the table has a million rows, it will have to scan through all the million rows to find the user with `id` 5. This is a very slow process."
   ]
  },
  {
   "cell_type": "code",
   "execution_count": 3,
   "metadata": {},
   "outputs": [
    {
     "name": "stdout",
     "output_type": "stream",
     "text": [
      "CPU times: user 12.2 ms, sys: 9.06 ms, total: 21.2 ms\n",
      "Wall time: 20 ms\n"
     ]
    },
    {
     "data": {
      "text/plain": [
       "User(id=500000, name='Budi Mulyana', age=25, country='Laos', planet='Saturn', galaxy='Milky Way')"
      ]
     },
     "execution_count": 3,
     "metadata": {},
     "output_type": "execute_result"
    }
   ],
   "source": [
    "def find_user_by_id(id):\n",
    "    for user in users:\n",
    "        if user.id == id:\n",
    "            return user\n",
    "\n",
    "%time find_user_by_id(500_000)"
   ]
  },
  {
   "cell_type": "markdown",
   "metadata": {},
   "source": [
    "It's equivalent to this SQL:\n",
    "\n",
    "```sql\n",
    "SELECT * FROM users WHERE id = 5;\n",
    "```\n",
    "\n",
    "But that's `O(n)` time complexity."
   ]
  },
  {
   "cell_type": "markdown",
   "metadata": {},
   "source": [
    "\n",
    "## HashMap Index\n",
    "\n",
    "We can of course make this faster by storing in a HashMap:"
   ]
  },
  {
   "cell_type": "code",
   "execution_count": 9,
   "metadata": {},
   "outputs": [
    {
     "name": "stdout",
     "output_type": "stream",
     "text": [
      "CPU times: user 157 ms, sys: 317 ms, total: 474 ms\n",
      "Wall time: 531 ms\n",
      "id\tname\tage\tcountry\n",
      "--------------------------------\n",
      "(0, User(id=0, name='Agus Wijaya', age=20, country='Indonesia', planet='Mercury', galaxy='Milky Way'))\n",
      "(1, User(id=1, name='Agus Wijaya', age=20, country='Indonesia', planet='Mercury', galaxy='Andromeda'))\n",
      "(2, User(id=2, name='Agus Wijaya', age=20, country='Indonesia', planet='Mercury', galaxy='Triangulum'))\n",
      "(3, User(id=3, name='Agus Wijaya', age=20, country='Indonesia', planet='Mercury', galaxy='Messier 81'))\n",
      "(4, User(id=4, name='Agus Wijaya', age=20, country='Indonesia', planet='Mercury', galaxy='Messier 82'))\n",
      "(5, User(id=5, name='Agus Wijaya', age=20, country='Indonesia', planet='Mercury', galaxy='Centaurus A'))\n"
     ]
    }
   ],
   "source": [
    "def build_id_index():\n",
    "    return {user.id: user for user in users}\n",
    "\n",
    "def find_user_by_id(id_index, id):\n",
    "    return id_index[id] # O(1)\n",
    "\n",
    "%time users_by_id = build_id_index()\n",
    "\n",
    "# take first 20 users_by_id\n",
    "print('id\\tname\\tage\\tcountry')\n",
    "print('--------------------------------')\n",
    "\n",
    "ctr = 0\n",
    "for user in users_by_id.items():\n",
    "    print(user)\n",
    "    if ctr == 5:\n",
    "        break\n",
    "    ctr += 1        "
   ]
  },
  {
   "cell_type": "markdown",
   "metadata": {},
   "source": [
    "It takes longer to build the HashMap, but once it's built, we can find the user with `id` 5 in constant time (`O(1)`).\n",
    "\n",
    "Building index is equivalent to this SQL:\n",
    "```sql\n",
    "CREATE INDEX id ON users (id);\n",
    "-- usually primary key is indexed by default\n",
    "```\n",
    "\n",
    "That's a magic script that will make your database queries run (much) faster*\n"
   ]
  },
  {
   "cell_type": "markdown",
   "metadata": {},
   "source": [
    "### Other Column Index\n",
    "\n",
    "How if now we want to find all the users with `age` 25? We can't do that with the current index. We can only find the user with `id` 5.\n",
    "\n",
    "Unless we build another HashMap with `age` as the key."
   ]
  },
  {
   "cell_type": "code",
   "execution_count": 49,
   "metadata": {},
   "outputs": [
    {
     "name": "stdout",
     "output_type": "stream",
     "text": [
      "CPU times: user 147 ms, sys: 30.5 ms, total: 177 ms\n",
      "Wall time: 180 ms\n",
      "CPU times: user 2 µs, sys: 0 ns, total: 2 µs\n",
      "Wall time: 2.62 µs\n"
     ]
    },
    {
     "data": {
      "text/plain": [
       "[User(id=27000, name='Agus Wijaya', age=50, country='Indonesia', planet='Mercury', galaxy='Milky Way'),\n",
       " User(id=27001, name='Agus Wijaya', age=50, country='Indonesia', planet='Mercury', galaxy='Andromeda'),\n",
       " User(id=27002, name='Agus Wijaya', age=50, country='Indonesia', planet='Mercury', galaxy='Triangulum'),\n",
       " User(id=27003, name='Agus Wijaya', age=50, country='Indonesia', planet='Mercury', galaxy='Messier 81'),\n",
       " User(id=27004, name='Agus Wijaya', age=50, country='Indonesia', planet='Mercury', galaxy='Messier 82'),\n",
       " User(id=27005, name='Agus Wijaya', age=50, country='Indonesia', planet='Mercury', galaxy='Centaurus A'),\n",
       " User(id=27006, name='Agus Wijaya', age=50, country='Indonesia', planet='Mercury', galaxy='Messier 87'),\n",
       " User(id=27007, name='Agus Wijaya', age=50, country='Indonesia', planet='Mercury', galaxy='Messier 49'),\n",
       " User(id=27008, name='Agus Wijaya', age=50, country='Indonesia', planet='Mercury', galaxy='Messier 51'),\n",
       " User(id=27009, name='Agus Wijaya', age=50, country='Indonesia', planet='Mercury', galaxy='Messier 101')]"
      ]
     },
     "execution_count": 49,
     "metadata": {},
     "output_type": "execute_result"
    }
   ],
   "source": [
    "from collections import defaultdict\n",
    "\n",
    "def build_age_index():\n",
    "    age_index = defaultdict(list)\n",
    "    for user in users:\n",
    "        age_index[user.age].append(user)\n",
    "    return age_index\n",
    "\n",
    "def find_users_by_age(age_index, age):\n",
    "    return age_index[age]\n",
    "\n",
    "\n",
    "%time age_index = build_age_index()\n",
    "%time find_users_by_age(age_index, 50)[:10]"
   ]
  },
  {
   "cell_type": "markdown",
   "metadata": {},
   "source": [
    "### The Problem of HashMap: Range Query\n",
    "\n",
    "What if, we need to find users with age > 25 but < 30?\n",
    "\n",
    "We can't do that with hash map. We can only find the user with `age` exactly = 25.\n",
    "\n",
    "HashMap can't do **range queries**"
   ]
  },
  {
   "cell_type": "markdown",
   "metadata": {},
   "source": [
    "## Tree Indexing\n",
    "\n",
    "We can use a tree to solve this problem. Let's say we have a tree like this:"
   ]
  },
  {
   "cell_type": "code",
   "execution_count": 12,
   "metadata": {},
   "outputs": [],
   "source": [
    "from dataclasses import dataclass\n",
    "from typing import Optional\n",
    "\n",
    "@dataclass\n",
    "class BST():\n",
    "    left: Optional['BST']\n",
    "    right: Optional['BST']\n",
    "    key: int\n",
    "    data: object\n",
    "\n",
    "    def insert(self, key, data):\n",
    "        node = self\n",
    "        while node is not None:\n",
    "            if key < node.key:\n",
    "                if node.left is None:\n",
    "                    node.left = BST(None, None, key, data)\n",
    "                    return\n",
    "                else:\n",
    "                    node = node.left\n",
    "            else:\n",
    "                if node.right is None:\n",
    "                    node.right = BST(None, None, key, data)\n",
    "                    return\n",
    "                else:\n",
    "                    node = node.right\n",
    "\n",
    "    def find(self, key):\n",
    "        node = self\n",
    "        while node is not None:\n",
    "            if key == node.key:\n",
    "                return node.data\n",
    "            elif key < node.key:\n",
    "                node = node.left\n",
    "            else:\n",
    "                node = node.right\n",
    "        return None\n",
    "\n",
    "    def find_greater_than_equal(self, key):\n",
    "        node = self\n",
    "        result = None\n",
    "        while node is not None:\n",
    "            if key == node.key:\n",
    "                return node.data\n",
    "            elif key < node.key:\n",
    "                result = node.data\n",
    "                node = node.left\n",
    "            else:\n",
    "                node = node.right\n",
    "        return result\n",
    "    \n",
    "    def find_less_than_equal(self, key):\n",
    "        node = self\n",
    "        result = None\n",
    "        while node is not None:\n",
    "            if key == node.key:\n",
    "                return node.data\n",
    "            elif key < node.key:\n",
    "                node = node.left\n",
    "            else:\n",
    "                result = node.data\n",
    "                node = node.right\n",
    "        return result\n",
    "    \n",
    "    def find_between(self, key1, key2):\n",
    "        node = self\n",
    "        result = []\n",
    "        while node is not None:\n",
    "            if key1 <= node.key <= key2:\n",
    "                result.append(node.data)\n",
    "                node = node.right\n",
    "            elif key1 > node.key:\n",
    "                node = node.right\n",
    "            else:\n",
    "                node = node.left\n",
    "        return result"
   ]
  },
  {
   "cell_type": "markdown",
   "metadata": {},
   "source": [
    "We then build an index using BST:\n",
    "\n",
    "Building the index takes longer, so - for demo purpose - let's just build the index for the first 1000 users:"
   ]
  },
  {
   "cell_type": "code",
   "execution_count": 13,
   "metadata": {},
   "outputs": [
    {
     "name": "stdout",
     "output_type": "stream",
     "text": [
      "CPU times: user 83 µs, sys: 0 ns, total: 83 µs\n",
      "Wall time: 85.1 µs\n",
      "43\tAgus Wijaya\t20\tIndonesia\tJupiter\tMessier 81\n",
      "CPU times: user 11 µs, sys: 0 ns, total: 11 µs\n",
      "Wall time: 14.1 µs\n",
      "CPU times: user 14 µs, sys: 0 ns, total: 14 µs\n",
      "Wall time: 15.3 µs\n",
      "43\tAgus Wijaya\t20\tIndonesia\tJupiter\tMessier 81\n",
      "1\tAgus Wijaya\t20\tIndonesia\tMercury\tAndromeda\n",
      "28\tAgus Wijaya\t20\tIndonesia\tEarth\tMessier 51\n",
      "14\tAgus Wijaya\t20\tIndonesia\tVenus\tMessier 82\n",
      "36\tAgus Wijaya\t20\tIndonesia\tMars\tMessier 87\n",
      "12\tAgus Wijaya\t20\tIndonesia\tVenus\tTriangulum\n",
      "0\tAgus Wijaya\t20\tIndonesia\tMercury\tMilky Way\n",
      "27\tAgus Wijaya\t20\tIndonesia\tEarth\tMessier 49\n",
      "47\tAgus Wijaya\t20\tIndonesia\tJupiter\tMessier 49\n",
      "7\tAgus Wijaya\t20\tIndonesia\tMercury\tMessier 49\n"
     ]
    }
   ],
   "source": [
    "from sys import setrecursionlimit\n",
    "\n",
    "def build_age_index_bst():\n",
    "    age_index = BST(None, None, users[0].age, users[0])\n",
    "    for user in users[1:10_000]:\n",
    "        age_index.insert(user.age, user)\n",
    "    return age_index\n",
    "\n",
    "def find_users_by_age_bst(age_index, age):\n",
    "    return age_index.find(age)\n",
    "\n",
    "def find_users_by_age_bst_between(age_index, age1, age2):\n",
    "    return age_index.find_between(age1, age2)\n",
    "\n",
    "%time age_index_bst = build_age_index_bst()\n",
    "%time print(find_users_by_age_bst(age_index_bst, 20))\n",
    "\n",
    "selected_users = %time find_users_by_age_bst_between(age_index_bst, 20, 30)\n",
    "for user in selected_users[:10]:\n",
    "    print(user)\n"
   ]
  },
  {
   "cell_type": "markdown",
   "metadata": {},
   "source": [
    "It takes longer to build the index, but when the index is built, we can do range queries.\n",
    "\n",
    "It's equivalent to this SQL:\n",
    "\n",
    "```sql\n",
    "SELECT * FROM users WHERE age > 25 AND age < 30;\n",
    "```"
   ]
  },
  {
   "cell_type": "markdown",
   "metadata": {},
   "source": [
    "### The Problem of BST\n",
    "\n",
    "The problem with BST is that it's not always balanced. If we insert the data in sorted order, the tree will be skewed:"
   ]
  },
  {
   "cell_type": "code",
   "execution_count": 14,
   "metadata": {},
   "outputs": [],
   "source": [
    "def draw(node, level=0):\n",
    "    if node is None:\n",
    "        return\n",
    "    print(\"   \" * level + \"├──\" + str(node.key) + ' -> ' + '(' + str(node.data) + ')')\n",
    "    draw(node.left, level + 1)\n",
    "    draw(node.right, level + 1)"
   ]
  },
  {
   "cell_type": "markdown",
   "metadata": {},
   "source": [
    "This is a normal BTS, it's quite balanced"
   ]
  },
  {
   "cell_type": "code",
   "execution_count": 15,
   "metadata": {},
   "outputs": [
    {
     "name": "stdout",
     "output_type": "stream",
     "text": [
      "├──43 -> (43\tAgus Wijaya\t20\tIndonesia\tJupiter\tMessier 81)\n",
      "   ├──1 -> (1\tAgus Wijaya\t20\tIndonesia\tMercury\tAndromeda)\n",
      "      ├──0 -> (0\tAgus Wijaya\t20\tIndonesia\tMercury\tMilky Way)\n",
      "      ├──28 -> (28\tAgus Wijaya\t20\tIndonesia\tEarth\tMessier 51)\n",
      "         ├──14 -> (14\tAgus Wijaya\t20\tIndonesia\tVenus\tMessier 82)\n",
      "            ├──12 -> (12\tAgus Wijaya\t20\tIndonesia\tVenus\tTriangulum)\n",
      "               ├──7 -> (7\tAgus Wijaya\t20\tIndonesia\tMercury\tMessier 49)\n",
      "                  ├──5 -> (5\tAgus Wijaya\t20\tIndonesia\tMercury\tCentaurus A)\n",
      "                     ├──3 -> (3\tAgus Wijaya\t20\tIndonesia\tMercury\tMessier 81)\n",
      "                        ├──2 -> (2\tAgus Wijaya\t20\tIndonesia\tMercury\tTriangulum)\n",
      "                        ├──4 -> (4\tAgus Wijaya\t20\tIndonesia\tMercury\tMessier 82)\n",
      "                     ├──6 -> (6\tAgus Wijaya\t20\tIndonesia\tMercury\tMessier 87)\n",
      "                  ├──11 -> (11\tAgus Wijaya\t20\tIndonesia\tVenus\tAndromeda)\n",
      "                     ├──10 -> (10\tAgus Wijaya\t20\tIndonesia\tVenus\tMilky Way)\n",
      "                        ├──9 -> (9\tAgus Wijaya\t20\tIndonesia\tMercury\tMessier 101)\n",
      "                           ├──8 -> (8\tAgus Wijaya\t20\tIndonesia\tMercury\tMessier 51)\n",
      "               ├──13 -> (13\tAgus Wijaya\t20\tIndonesia\tVenus\tMessier 81)\n",
      "            ├──27 -> (27\tAgus Wijaya\t20\tIndonesia\tEarth\tMessier 49)\n",
      "               ├──20 -> (20\tAgus Wijaya\t20\tIndonesia\tEarth\tMilky Way)\n",
      "                  ├──15 -> (15\tAgus Wijaya\t20\tIndonesia\tVenus\tCentaurus A)\n",
      "                     ├──17 -> (17\tAgus Wijaya\t20\tIndonesia\tVenus\tMessier 49)\n",
      "                        ├──16 -> (16\tAgus Wijaya\t20\tIndonesia\tVenus\tMessier 87)\n",
      "                        ├──18 -> (18\tAgus Wijaya\t20\tIndonesia\tVenus\tMessier 51)\n",
      "                           ├──19 -> (19\tAgus Wijaya\t20\tIndonesia\tVenus\tMessier 101)\n",
      "                  ├──23 -> (23\tAgus Wijaya\t20\tIndonesia\tEarth\tMessier 81)\n",
      "                     ├──21 -> (21\tAgus Wijaya\t20\tIndonesia\tEarth\tAndromeda)\n",
      "                        ├──22 -> (22\tAgus Wijaya\t20\tIndonesia\tEarth\tTriangulum)\n",
      "                     ├──25 -> (25\tAgus Wijaya\t20\tIndonesia\tEarth\tCentaurus A)\n",
      "                        ├──24 -> (24\tAgus Wijaya\t20\tIndonesia\tEarth\tMessier 82)\n",
      "                        ├──26 -> (26\tAgus Wijaya\t20\tIndonesia\tEarth\tMessier 87)\n",
      "         ├──36 -> (36\tAgus Wijaya\t20\tIndonesia\tMars\tMessier 87)\n",
      "            ├──33 -> (33\tAgus Wijaya\t20\tIndonesia\tMars\tMessier 81)\n",
      "               ├──29 -> (29\tAgus Wijaya\t20\tIndonesia\tEarth\tMessier 101)\n",
      "                  ├──30 -> (30\tAgus Wijaya\t20\tIndonesia\tMars\tMilky Way)\n",
      "                     ├──31 -> (31\tAgus Wijaya\t20\tIndonesia\tMars\tAndromeda)\n",
      "                        ├──32 -> (32\tAgus Wijaya\t20\tIndonesia\tMars\tTriangulum)\n",
      "               ├──34 -> (34\tAgus Wijaya\t20\tIndonesia\tMars\tMessier 82)\n",
      "                  ├──35 -> (35\tAgus Wijaya\t20\tIndonesia\tMars\tCentaurus A)\n",
      "            ├──38 -> (38\tAgus Wijaya\t20\tIndonesia\tMars\tMessier 51)\n",
      "               ├──37 -> (37\tAgus Wijaya\t20\tIndonesia\tMars\tMessier 49)\n",
      "               ├──40 -> (40\tAgus Wijaya\t20\tIndonesia\tJupiter\tMilky Way)\n",
      "                  ├──39 -> (39\tAgus Wijaya\t20\tIndonesia\tMars\tMessier 101)\n",
      "                  ├──41 -> (41\tAgus Wijaya\t20\tIndonesia\tJupiter\tAndromeda)\n",
      "                     ├──42 -> (42\tAgus Wijaya\t20\tIndonesia\tJupiter\tTriangulum)\n",
      "   ├──47 -> (47\tAgus Wijaya\t20\tIndonesia\tJupiter\tMessier 49)\n",
      "      ├──46 -> (46\tAgus Wijaya\t20\tIndonesia\tJupiter\tMessier 87)\n",
      "         ├──45 -> (45\tAgus Wijaya\t20\tIndonesia\tJupiter\tCentaurus A)\n",
      "            ├──44 -> (44\tAgus Wijaya\t20\tIndonesia\tJupiter\tMessier 82)\n",
      "      ├──49 -> (49\tAgus Wijaya\t20\tIndonesia\tJupiter\tMessier 101)\n",
      "         ├──48 -> (48\tAgus Wijaya\t20\tIndonesia\tJupiter\tMessier 51)\n"
     ]
    }
   ],
   "source": [
    "# random data\n",
    "import random\n",
    "random.seed(0)\n",
    "users = generate_random_users()[:50]\n",
    "random.shuffle(users)\n",
    "\n",
    "bst = BST(None, None, users[0].id, users[0])\n",
    "for d in users[1:]:\n",
    "    bst.insert(d.id, d)\n",
    "\n",
    "draw(bst, 0)"
   ]
  },
  {
   "cell_type": "markdown",
   "metadata": {},
   "source": [
    "But if we insert the data in sorted order, the tree will be skewed:"
   ]
  },
  {
   "cell_type": "code",
   "execution_count": 107,
   "metadata": {},
   "outputs": [
    {
     "name": "stdout",
     "output_type": "stream",
     "text": [
      "├──0 -> (0\tAgus Wijaya\t20\tIndonesia\tMercury\tMilky Way)\n",
      "   ├──1 -> (1\tAgus Wijaya\t20\tIndonesia\tMercury\tAndromeda)\n",
      "      ├──2 -> (2\tAgus Wijaya\t20\tIndonesia\tMercury\tTriangulum)\n",
      "         ├──3 -> (3\tAgus Wijaya\t20\tIndonesia\tMercury\tMessier 81)\n",
      "            ├──4 -> (4\tAgus Wijaya\t20\tIndonesia\tMercury\tMessier 82)\n",
      "               ├──5 -> (5\tAgus Wijaya\t20\tIndonesia\tMercury\tCentaurus A)\n",
      "                  ├──6 -> (6\tAgus Wijaya\t20\tIndonesia\tMercury\tMessier 87)\n",
      "                     ├──7 -> (7\tAgus Wijaya\t20\tIndonesia\tMercury\tMessier 49)\n",
      "                        ├──8 -> (8\tAgus Wijaya\t20\tIndonesia\tMercury\tMessier 51)\n",
      "                           ├──9 -> (9\tAgus Wijaya\t20\tIndonesia\tMercury\tMessier 101)\n",
      "                              ├──10 -> (10\tAgus Wijaya\t20\tIndonesia\tVenus\tMilky Way)\n",
      "                                 ├──11 -> (11\tAgus Wijaya\t20\tIndonesia\tVenus\tAndromeda)\n",
      "                                    ├──12 -> (12\tAgus Wijaya\t20\tIndonesia\tVenus\tTriangulum)\n",
      "                                       ├──13 -> (13\tAgus Wijaya\t20\tIndonesia\tVenus\tMessier 81)\n",
      "                                          ├──14 -> (14\tAgus Wijaya\t20\tIndonesia\tVenus\tMessier 82)\n",
      "                                             ├──15 -> (15\tAgus Wijaya\t20\tIndonesia\tVenus\tCentaurus A)\n",
      "                                                ├──16 -> (16\tAgus Wijaya\t20\tIndonesia\tVenus\tMessier 87)\n",
      "                                                   ├──17 -> (17\tAgus Wijaya\t20\tIndonesia\tVenus\tMessier 49)\n",
      "                                                      ├──18 -> (18\tAgus Wijaya\t20\tIndonesia\tVenus\tMessier 51)\n",
      "                                                         ├──19 -> (19\tAgus Wijaya\t20\tIndonesia\tVenus\tMessier 101)\n",
      "                                                            ├──20 -> (20\tAgus Wijaya\t20\tIndonesia\tEarth\tMilky Way)\n",
      "                                                               ├──21 -> (21\tAgus Wijaya\t20\tIndonesia\tEarth\tAndromeda)\n",
      "                                                                  ├──22 -> (22\tAgus Wijaya\t20\tIndonesia\tEarth\tTriangulum)\n",
      "                                                                     ├──23 -> (23\tAgus Wijaya\t20\tIndonesia\tEarth\tMessier 81)\n",
      "                                                                        ├──24 -> (24\tAgus Wijaya\t20\tIndonesia\tEarth\tMessier 82)\n",
      "                                                                           ├──25 -> (25\tAgus Wijaya\t20\tIndonesia\tEarth\tCentaurus A)\n",
      "                                                                              ├──26 -> (26\tAgus Wijaya\t20\tIndonesia\tEarth\tMessier 87)\n",
      "                                                                                 ├──27 -> (27\tAgus Wijaya\t20\tIndonesia\tEarth\tMessier 49)\n",
      "                                                                                    ├──28 -> (28\tAgus Wijaya\t20\tIndonesia\tEarth\tMessier 51)\n",
      "                                                                                       ├──29 -> (29\tAgus Wijaya\t20\tIndonesia\tEarth\tMessier 101)\n",
      "                                                                                          ├──30 -> (30\tAgus Wijaya\t20\tIndonesia\tMars\tMilky Way)\n",
      "                                                                                             ├──31 -> (31\tAgus Wijaya\t20\tIndonesia\tMars\tAndromeda)\n",
      "                                                                                                ├──32 -> (32\tAgus Wijaya\t20\tIndonesia\tMars\tTriangulum)\n",
      "                                                                                                   ├──33 -> (33\tAgus Wijaya\t20\tIndonesia\tMars\tMessier 81)\n",
      "                                                                                                      ├──34 -> (34\tAgus Wijaya\t20\tIndonesia\tMars\tMessier 82)\n",
      "                                                                                                         ├──35 -> (35\tAgus Wijaya\t20\tIndonesia\tMars\tCentaurus A)\n",
      "                                                                                                            ├──36 -> (36\tAgus Wijaya\t20\tIndonesia\tMars\tMessier 87)\n",
      "                                                                                                               ├──37 -> (37\tAgus Wijaya\t20\tIndonesia\tMars\tMessier 49)\n",
      "                                                                                                                  ├──38 -> (38\tAgus Wijaya\t20\tIndonesia\tMars\tMessier 51)\n",
      "                                                                                                                     ├──39 -> (39\tAgus Wijaya\t20\tIndonesia\tMars\tMessier 101)\n",
      "                                                                                                                        ├──40 -> (40\tAgus Wijaya\t20\tIndonesia\tJupiter\tMilky Way)\n",
      "                                                                                                                           ├──41 -> (41\tAgus Wijaya\t20\tIndonesia\tJupiter\tAndromeda)\n",
      "                                                                                                                              ├──42 -> (42\tAgus Wijaya\t20\tIndonesia\tJupiter\tTriangulum)\n",
      "                                                                                                                                 ├──43 -> (43\tAgus Wijaya\t20\tIndonesia\tJupiter\tMessier 81)\n",
      "                                                                                                                                    ├──44 -> (44\tAgus Wijaya\t20\tIndonesia\tJupiter\tMessier 82)\n",
      "                                                                                                                                       ├──45 -> (45\tAgus Wijaya\t20\tIndonesia\tJupiter\tCentaurus A)\n",
      "                                                                                                                                          ├──46 -> (46\tAgus Wijaya\t20\tIndonesia\tJupiter\tMessier 87)\n",
      "                                                                                                                                             ├──47 -> (47\tAgus Wijaya\t20\tIndonesia\tJupiter\tMessier 49)\n",
      "                                                                                                                                                ├──48 -> (48\tAgus Wijaya\t20\tIndonesia\tJupiter\tMessier 51)\n",
      "                                                                                                                                                   ├──49 -> (49\tAgus Wijaya\t20\tIndonesia\tJupiter\tMessier 101)\n"
     ]
    }
   ],
   "source": [
    "users = generate_random_users()[:50]\n",
    "\n",
    "bst = BST(None, None, users[0].id, users[0])\n",
    "for d in users[1:]:\n",
    "    bst.insert(d.id, d)\n",
    "\n",
    "draw(bst, 0)"
   ]
  },
  {
   "cell_type": "markdown",
   "metadata": {},
   "source": [
    "That's a very unbalanced tree. It's equivalent to a linked list."
   ]
  },
  {
   "cell_type": "markdown",
   "metadata": {},
   "source": [
    "## Balanced Tree\n",
    "\n",
    "There are many types of balanced tree, such as AVL tree, red-black tree, etc. \n",
    "\n",
    "We won't go into details of each type of balanced tree, but let's just see how they look like:\n",
    "\n",
    "- [AVL Tree](https://www.cs.usfca.edu/~galles/visualization/AVLtree.html)\n",
    "- [Red Black Tree](https://www.cs.usfca.edu/~galles/visualization/RedBlack.html)\n",
    "- [B-Tree](https://www.cs.usfca.edu/~galles/visualization/BTree.html)\n",
    "- [B+Tree](https://www.cs.usfca.edu/~galles/visualization/BPlusTree.html)"
   ]
  },
  {
   "cell_type": "markdown",
   "metadata": {},
   "source": [
    "### B-Tree\n",
    "\n",
    "Disclaimer: code below is GPT generated without being double checked"
   ]
  },
  {
   "cell_type": "code",
   "execution_count": 123,
   "metadata": {},
   "outputs": [],
   "source": [
    "class BTreeNode:\n",
    "    def __init__(self, leaf=False):\n",
    "        self.leaf = leaf\n",
    "        self.keys = []\n",
    "        self.child = []\n",
    "\n",
    "class BTree:\n",
    "    def __init__(self, t):\n",
    "        self.root = BTreeNode(True)\n",
    "        self.t = t\n",
    "\n",
    "    def insert(self, k):\n",
    "        root = self.root\n",
    "        if len(root.keys) == (2 * self.t) - 1:\n",
    "            temp = BTreeNode()\n",
    "            self.root = temp\n",
    "            temp.child.insert(0, root)\n",
    "            self.split_child(temp, 0)\n",
    "            self.insert_non_full(temp, k)\n",
    "        else:\n",
    "            self.insert_non_full(root, k)\n",
    "\n",
    "    def insert_non_full(self, x, k):\n",
    "        i = len(x.keys) - 1\n",
    "        if x.leaf:\n",
    "            x.keys.append((None, None))\n",
    "            while i >= 0 and k < x.keys[i][0]:\n",
    "                x.keys[i + 1] = x.keys[i]\n",
    "                i -= 1\n",
    "            x.keys[i + 1] = (k, None)\n",
    "        else:\n",
    "            while i >= 0 and k < x.keys[i][0]:\n",
    "                i -= 1\n",
    "            i += 1\n",
    "            if len(x.child[i].keys) == (2 * self.t) - 1:\n",
    "                self.split_child(x, i)\n",
    "                if k > x.keys[i][0]:\n",
    "                    i += 1\n",
    "            self.insert_non_full(x.child[i], k)\n",
    "\n",
    "    def split_child(self, x, i):\n",
    "        t = self.t\n",
    "        y = x.child[i]\n",
    "        z = BTreeNode(y.leaf)\n",
    "        x.child.insert(i + 1, z)\n",
    "        x.keys.insert(i, y.keys[t - 1])\n",
    "        z.keys = y.keys[t: (2 * t) - 1]\n",
    "        y.keys = y.keys[0: t - 1]\n",
    "        if not y.leaf:\n",
    "            z.child = y.child[t: 2 * t]\n",
    "            y.child = y.child[0: t]\n",
    "\n",
    "    def traverse(self):\n",
    "        self._traverse(self.root)\n",
    "\n",
    "    def _traverse(self, node):\n",
    "        i = 0\n",
    "        while i < len(node.keys):\n",
    "            if not node.leaf:\n",
    "                self._traverse(node.child[i])\n",
    "            print(node.keys[i][0], end=' ')\n",
    "            i += 1\n",
    "        if not node.leaf:\n",
    "            self._traverse(node.child[i])\n",
    "\n",
    "    def draw_tree(self):\n",
    "        \"\"\"\n",
    "        This method prints the keys at each level of the B-Tree, with a bounding box around each node.\n",
    "        \"\"\"\n",
    "        self._draw_tree(self.root, 0)\n",
    "\n",
    "    def _draw_tree(self, node, level):\n",
    "        if node:\n",
    "            indent = ' ' * (level * 4)  # Indentation for levels\n",
    "            keys_str = ' '.join(str(key[0]) for key in node.keys)\n",
    "            node_representation = f\"[{keys_str}]\"\n",
    "            print(indent + node_representation)\n",
    "\n",
    "            for child in node.child:\n",
    "                self._draw_tree(child, level + 1)"
   ]
  },
  {
   "cell_type": "code",
   "execution_count": 136,
   "metadata": {},
   "outputs": [
    {
     "name": "stdout",
     "output_type": "stream",
     "text": [
      "5 6 7 10 12 17 18 19 20 21 22 30 "
     ]
    }
   ],
   "source": [
    "b = BTree(2) # A B-Tree with min degree 3\n",
    "b.insert(10)\n",
    "b.insert(20)\n",
    "b.insert(5)\n",
    "b.insert(6)\n",
    "b.insert(12)\n",
    "b.insert(30)\n",
    "b.insert(7)\n",
    "b.insert(17)\n",
    "b.insert(18)\n",
    "b.insert(19)\n",
    "b.insert(21)\n",
    "b.insert(22)\n",
    "\n",
    "\n",
    "b.traverse()"
   ]
  },
  {
   "cell_type": "code",
   "execution_count": 137,
   "metadata": {},
   "outputs": [
    {
     "name": "stdout",
     "output_type": "stream",
     "text": [
      "[17]\n",
      "    [10]\n",
      "        [5 6 7]\n",
      "        [12]\n",
      "    [20]\n",
      "        [18 19]\n",
      "        [21 22 30]\n"
     ]
    }
   ],
   "source": [
    "b.draw_tree()"
   ]
  },
  {
   "cell_type": "code",
   "execution_count": 138,
   "metadata": {},
   "outputs": [
    {
     "name": "stdout",
     "output_type": "stream",
     "text": [
      "[17]\n",
      "    [6 10]\n",
      "        [5]\n",
      "        [7 8]\n",
      "        [12]\n",
      "    [20]\n",
      "        [18 19]\n",
      "        [21 22 30]\n"
     ]
    }
   ],
   "source": [
    "b.insert(8)\n",
    "b.draw_tree()"
   ]
  },
  {
   "cell_type": "code",
   "execution_count": 133,
   "metadata": {},
   "outputs": [
    {
     "name": "stdout",
     "output_type": "stream",
     "text": [
      "[17]\n",
      "    [6 10]\n",
      "        [5]\n",
      "        [7 8 9]\n",
      "        [12]\n",
      "    [20]\n",
      "        [18 19]\n",
      "        [21 22 30]\n"
     ]
    }
   ],
   "source": [
    "b.insert(9)\n",
    "b.draw_tree()"
   ]
  },
  {
   "cell_type": "code",
   "execution_count": 134,
   "metadata": {},
   "outputs": [
    {
     "name": "stdout",
     "output_type": "stream",
     "text": [
      "[17]\n",
      "    [6 10]\n",
      "        [5]\n",
      "        [7 8 9]\n",
      "        [10 12]\n",
      "    [20]\n",
      "        [18 19]\n",
      "        [21 22 30]\n"
     ]
    }
   ],
   "source": [
    "b.insert(10)\n",
    "b.draw_tree()"
   ]
  },
  {
   "cell_type": "code",
   "execution_count": 135,
   "metadata": {},
   "outputs": [
    {
     "name": "stdout",
     "output_type": "stream",
     "text": [
      "[17]\n",
      "    [6 8 10]\n",
      "        [5]\n",
      "        [6 7]\n",
      "        [9]\n",
      "        [10 12]\n",
      "    [20]\n",
      "        [18 19]\n",
      "        [21 22 30]\n"
     ]
    }
   ],
   "source": [
    "b.insert(6)\n",
    "b.draw_tree()"
   ]
  },
  {
   "cell_type": "markdown",
   "metadata": {},
   "source": [
    "## B+Tree\n"
   ]
  },
  {
   "cell_type": "markdown",
   "metadata": {},
   "source": [
    "Disclaimer: code below is GPT generated without being double checked\n"
   ]
  },
  {
   "cell_type": "code",
   "execution_count": 141,
   "metadata": {},
   "outputs": [],
   "source": [
    "class BPlusTreeNode:\n",
    "    def __init__(self, leaf=False):\n",
    "        self.leaf = leaf\n",
    "        self.keys = []\n",
    "        self.children = []\n",
    "        self.next = None  # Pointer to the next node, used in leaf nodes\n",
    "\n",
    "class BPlusTree:\n",
    "    def __init__(self, t):\n",
    "        self.root = BPlusTreeNode(leaf=True)\n",
    "        self.t = t\n",
    "\n",
    "    def insert(self, key):\n",
    "        root = self.root\n",
    "        if len(root.keys) == (2 * self.t) - 1:\n",
    "            temp = BPlusTreeNode()\n",
    "            self.root = temp\n",
    "            temp.children.append(root)\n",
    "            self.split_child(temp, 0)\n",
    "            self._insert_non_full(temp, key)\n",
    "        else:\n",
    "            self._insert_non_full(root, key)\n",
    "\n",
    "    def _insert_non_full(self, node, key):\n",
    "        i = len(node.keys) - 1\n",
    "        if node.leaf:\n",
    "            node.keys.append(None)\n",
    "            while i >= 0 and key < node.keys[i]:\n",
    "                node.keys[i + 1] = node.keys[i]\n",
    "                i -= 1\n",
    "            node.keys[i + 1] = key\n",
    "        else:\n",
    "            while i >= 0 and key < node.keys[i]:\n",
    "                i -= 1\n",
    "            i += 1\n",
    "            if len(node.children[i].keys) == (2 * self.t) - 1:\n",
    "                self.split_child(node, i)\n",
    "                if key > node.keys[i]:\n",
    "                    i += 1\n",
    "            self._insert_non_full(node.children[i], key)\n",
    "\n",
    "    def split_child(self, parent, i):\n",
    "        t = self.t\n",
    "        node = parent.children[i]\n",
    "        new_node = BPlusTreeNode(leaf=node.leaf)\n",
    "        parent.children.insert(i + 1, new_node)\n",
    "        new_node.keys = node.keys[t:]\n",
    "        node.keys = node.keys[:t]\n",
    "\n",
    "        if not node.leaf:\n",
    "            new_node.children = node.children[t:]\n",
    "            node.children = node.children[:t]\n",
    "\n",
    "        if node.leaf:\n",
    "            new_node.next = node.next\n",
    "            node.next = new_node\n",
    "\n",
    "        parent.keys.insert(i, new_node.keys[0])\n",
    "\n",
    "    def traverse(self):\n",
    "        node = self.root\n",
    "        while not node.leaf:\n",
    "            node = node.children[0]\n",
    "        while node:\n",
    "            for key in node.keys:\n",
    "                print(key, end=' ')\n",
    "            node = node.next\n",
    "    def draw_tree(self):\n",
    "        \"\"\"\n",
    "        This method prints the keys at each level of the B+Tree, with a bounding box around each node.\n",
    "        \"\"\"\n",
    "        self._draw_tree(self.root, 0)\n",
    "\n",
    "    def _draw_tree(self, node, level):\n",
    "        if node:\n",
    "            indent = ' ' * (level * 4)  # Indentation for levels\n",
    "            keys_str = ' '.join(str(key) for key in node.keys)\n",
    "            node_representation = f\"[{keys_str}]\"\n",
    "            print(indent + node_representation)\n",
    "\n",
    "            if node.leaf and node.next:\n",
    "                print(indent + ' ' * 4 + \"|--> Next at same level: [\" + ' '.join(str(key) for key in node.next.keys) + \"]\")\n",
    "\n",
    "            for child in node.children:\n",
    "                self._draw_tree(child, level + 1)"
   ]
  },
  {
   "cell_type": "code",
   "execution_count": 147,
   "metadata": {},
   "outputs": [
    {
     "name": "stdout",
     "output_type": "stream",
     "text": [
      "5 6 7 10 12 17 18 19 20 21 22 30 "
     ]
    }
   ],
   "source": [
    "bpt = BPlusTree(3) # A B-Tree with min degree 3\n",
    "bpt.insert(10)\n",
    "bpt.insert(20)\n",
    "bpt.insert(5)\n",
    "bpt.insert(6)\n",
    "bpt.insert(12)\n",
    "bpt.insert(30)\n",
    "bpt.insert(7)\n",
    "bpt.insert(17)\n",
    "bpt.insert(18)\n",
    "bpt.insert(19)\n",
    "bpt.insert(21)\n",
    "bpt.insert(22)\n",
    "\n",
    "\n",
    "bpt.traverse()\n"
   ]
  },
  {
   "cell_type": "code",
   "execution_count": 148,
   "metadata": {},
   "outputs": [
    {
     "name": "stdout",
     "output_type": "stream",
     "text": [
      "[12 20]\n",
      "    [5 6 7 10]\n",
      "        |--> Next at same level: [12 17 18 19]\n",
      "    [12 17 18 19]\n",
      "        |--> Next at same level: [20 21 22 30]\n",
      "    [20 21 22 30]\n"
     ]
    }
   ],
   "source": [
    "bpt.draw_tree()"
   ]
  }
 ],
 "metadata": {
  "kernelspec": {
   "display_name": "env",
   "language": "python",
   "name": "python3"
  },
  "language_info": {
   "codemirror_mode": {
    "name": "ipython",
    "version": 3
   },
   "file_extension": ".py",
   "mimetype": "text/x-python",
   "name": "python",
   "nbconvert_exporter": "python",
   "pygments_lexer": "ipython3",
   "version": "3.11.1"
  }
 },
 "nbformat": 4,
 "nbformat_minor": 2
}
