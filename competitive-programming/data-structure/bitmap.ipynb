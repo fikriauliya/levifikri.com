{
 "cells": [
  {
   "cell_type": "raw",
   "metadata": {},
   "source": [
    "---\n",
    "title: BitMap\n",
    "format:\n",
    "  html:\n",
    "    toc: true\n",
    "    html-math-method: katex\n",
    "order: 4\n",
    "--- "
   ]
  },
  {
   "cell_type": "markdown",
   "metadata": {},
   "source": [
    "\n",
    "Let's recall why we do need set.\n",
    "\n",
    "Assuming we have 30 cities (identified by number/id from 0 to 29). We want to keep track of the cities we have visited\n",
    "\n"
   ]
  },
  {
   "cell_type": "code",
   "execution_count": 2,
   "metadata": {},
   "outputs": [
    {
     "name": "stdout",
     "output_type": "stream",
     "text": [
      "True\n",
      "False\n"
     ]
    }
   ],
   "source": [
    "visited = [1, 5, 6, 8, 10]\n",
    "\n",
    "def is_visited(visited, city):\n",
    "    # O(n)\n",
    "    for visited_city in visited:\n",
    "        if visited_city == city:\n",
    "            return True\n",
    "    return False\n",
    "\n",
    "print(is_visited(visited, 6))\n",
    "print(is_visited(visited, 7))"
   ]
  },
  {
   "cell_type": "markdown",
   "metadata": {},
   "source": [
    "Ok, but that's `O(n)`\n",
    "\n",
    "We then optimized it using boolean array"
   ]
  },
  {
   "cell_type": "code",
   "execution_count": 3,
   "metadata": {},
   "outputs": [
    {
     "name": "stdout",
     "output_type": "stream",
     "text": [
      "True\n",
      "False\n"
     ]
    }
   ],
   "source": [
    "bool_visited = [False] * 30 # 30 cities\n",
    "\n",
    "bool_visited[1] = True\n",
    "bool_visited[5] = True\n",
    "bool_visited[6] = True\n",
    "bool_visited[8] = True\n",
    "bool_visited[10] = True\n",
    "\n",
    "def is_visited(visited, city):\n",
    "    # O(1)\n",
    "    return visited[city]\n",
    "\n",
    "print(is_visited(bool_visited, 6))\n",
    "print(is_visited(bool_visited, 7))"
   ]
  },
  {
   "cell_type": "markdown",
   "metadata": {},
   "source": [
    "## More memory efficient way\n",
    "\n",
    "Our code is `O(1)` but our storage complexity is `O(n)`\n",
    "\n",
    "It's not a big deal, but we can do better.\n",
    "\n",
    "Let's check how much memory we need to store a boolean array of size 30:"
   ]
  },
  {
   "cell_type": "code",
   "execution_count": 8,
   "metadata": {},
   "outputs": [
    {
     "name": "stdout",
     "output_type": "stream",
     "text": [
      "Integer: 28 bytes\n",
      "Boolean: 28 bytes\n",
      "Array of booleans: 1136 bytes\n"
     ]
    }
   ],
   "source": [
    "import sys\n",
    "\n",
    "# Integer\n",
    "int_value = 1\n",
    "print(f\"Integer: {sys.getsizeof(int_value)} bytes\")\n",
    "\n",
    "# Boolean\n",
    "bool_value = True\n",
    "print(f\"Boolean: {sys.getsizeof(bool_value)} bytes\")\n",
    "\n",
    "# Array of boolean\n",
    "bool_array = [True] * 30\n",
    "print(f\"Array of booleans: {sys.getsizeof(bool_array) + sum(map(sys.getsizeof, bool_array))} bytes\")"
   ]
  },
  {
   "cell_type": "markdown",
   "metadata": {},
   "source": [
    "1136 bytes\n",
    "\n",
    "Can we do better?\n",
    "\n",
    "Yes, it's possible to only use 28 bytes!"
   ]
  },
  {
   "cell_type": "markdown",
   "metadata": {},
   "source": [
    "## Bit Representation\n",
    "\n",
    "Let's step back for a while...\n",
    "\n",
    "Every integer is represented as a sequence of bits (binary digits), and every bit is either 0 or 1.\n",
    "\n",
    "For example, the decimal number five has a binary representation of 101:"
   ]
  },
  {
   "cell_type": "code",
   "execution_count": 2,
   "metadata": {},
   "outputs": [
    {
     "name": "stdout",
     "output_type": "stream",
     "text": [
      "1 in binary is 1\n",
      "5 in binary is 101\n",
      "10 in binary is 1010\n",
      "11 in binary is 1011\n"
     ]
    }
   ],
   "source": [
    "# print a number and its binary representation\n",
    "\n",
    "def print_binary(number):\n",
    "    print(f\"{number} in binary is {bin(number)[2:]}\")\n",
    "\n",
    "print_binary(1)\n",
    "print_binary(5)\n",
    "print_binary(10)\n",
    "print_binary(11)"
   ]
  },
  {
   "cell_type": "markdown",
   "metadata": {},
   "source": [
    "## Binary Operations\n",
    "\n",
    "The basic binary operations are shifting left, shifting right, bitwise AND, bitwise OR, bitwise NOT, and bitwise XOR."
   ]
  },
  {
   "cell_type": "markdown",
   "metadata": {},
   "source": [
    "### Shifting"
   ]
  },
  {
   "cell_type": "code",
   "execution_count": 6,
   "metadata": {},
   "outputs": [
    {
     "name": "stdout",
     "output_type": "stream",
     "text": [
      "Shifting left\n",
      "1 in binary is 1\n",
      "2 in binary is 10\n",
      "4 in binary is 100\n",
      "\n",
      "Shifting right\n",
      "11 in binary is 1011\n",
      "5 in binary is 101\n",
      "2 in binary is 10\n"
     ]
    }
   ],
   "source": [
    "# shifting left\n",
    "print(\"Shifting left\")\n",
    "print_binary(1)\n",
    "print_binary(1 << 1)\n",
    "print_binary(1 << 2)\n",
    "\n",
    "# shifting right\n",
    "print()\n",
    "print(\"Shifting right\")\n",
    "print_binary(11)\n",
    "print_binary(11 >> 1)\n",
    "print_binary(11 >> 2)\n"
   ]
  },
  {
   "cell_type": "markdown",
   "metadata": {},
   "source": [
    "Shifting also has the effect of multiplying or dividing the number by a power of two."
   ]
  },
  {
   "cell_type": "code",
   "execution_count": 11,
   "metadata": {},
   "outputs": [
    {
     "name": "stdout",
     "output_type": "stream",
     "text": [
      "10\n",
      "2\n"
     ]
    }
   ],
   "source": [
    "def multiply_by_two(number):\n",
    "    return number << 1 # number * 2 ^ 1\n",
    "\n",
    "def divide_by_two(number):\n",
    "    return number >> 1\n",
    "\n",
    "print(multiply_by_two(5)) # 5 * 2\n",
    "print(divide_by_two(5)) # 5/2"
   ]
  },
  {
   "cell_type": "markdown",
   "metadata": {},
   "source": [
    "Or more generally, shifting left by n bits is equivalent to multiplying by 2^n"
   ]
  },
  {
   "cell_type": "code",
   "execution_count": 1,
   "metadata": {},
   "outputs": [
    {
     "name": "stdout",
     "output_type": "stream",
     "text": [
      "12\n",
      "96\n",
      "1\n",
      "2\n",
      "4\n",
      "8\n",
      "16\n",
      "1024\n"
     ]
    }
   ],
   "source": [
    "print(3 << 2) # 3 * 2^2\n",
    "print(3 << 5) # 3 * 2^5 \n",
    "\n",
    "print(1 << 0) # 1\n",
    "print(1 << 1) # 2\n",
    "print(1 << 2) # 4\n",
    "print(1 << 3) # 8\n",
    "print(1 << 4) # 16\n",
    "print(1 << 10) # 1024\n"
   ]
  },
  {
   "cell_type": "markdown",
   "metadata": {},
   "source": [
    "## AND, OR, XOR, NOT\n",
    "\n"
   ]
  },
  {
   "cell_type": "code",
   "execution_count": 17,
   "metadata": {},
   "outputs": [
    {
     "name": "stdout",
     "output_type": "stream",
     "text": [
      "AND\n",
      "5 in binary is 101\n",
      "7 in binary is 111\n",
      "5 in binary is 101\n",
      "\n",
      "OR\n",
      "5 in binary is 101\n",
      "4 in binary is 100\n",
      "5 in binary is 101\n",
      "\n",
      "XOR\n",
      "5 in binary is 101\n",
      "4 in binary is 100\n",
      "1 in binary is 1\n"
     ]
    }
   ],
   "source": [
    "print(\"AND\")\n",
    "print_binary(5)\n",
    "print_binary(7)\n",
    "\n",
    "print_binary(5 & 7) # 0100\n",
    "print()\n",
    "\n",
    "print(\"OR\")\n",
    "print_binary(5)\n",
    "print_binary(4)\n",
    "\n",
    "print_binary(5 | 4) # 0101\n",
    "print()\n",
    "\n",
    "print(\"XOR\")\n",
    "print_binary(5)\n",
    "print_binary(4)\n",
    "\n",
    "print_binary(5 ^ 4) # 0101"
   ]
  },
  {
   "cell_type": "markdown",
   "metadata": {},
   "source": [
    "### Checking if a bit is set\n",
    "\n",
    "To check if the i-th (0 based) bit is set, we can just AND the number with `1 << i`"
   ]
  },
  {
   "cell_type": "code",
   "execution_count": 19,
   "metadata": {},
   "outputs": [
    {
     "name": "stdout",
     "output_type": "stream",
     "text": [
      "5 in binary is 101\n",
      "1\n",
      "0\n",
      "4\n"
     ]
    }
   ],
   "source": [
    "print_binary(5)\n",
    "\n",
    "print(5 & 1 << 0)\n",
    "print(5 & 1 << 1)\n",
    "print(5 & 1 << 2)\n"
   ]
  },
  {
   "cell_type": "markdown",
   "metadata": {},
   "source": [
    "The result will be 0 if the bit is not set, and non-zero otherwise."
   ]
  },
  {
   "cell_type": "code",
   "execution_count": 20,
   "metadata": {},
   "outputs": [
    {
     "name": "stdout",
     "output_type": "stream",
     "text": [
      "5 in binary is 101\n",
      "True\n",
      "False\n",
      "True\n"
     ]
    }
   ],
   "source": [
    "print_binary(5)\n",
    "\n",
    "print(5 & 1 << 0 != 0)\n",
    "print(5 & 1 << 1 != 0)\n",
    "print(5 & 1 << 2 != 0)"
   ]
  },
  {
   "cell_type": "markdown",
   "metadata": {},
   "source": [
    "### Turning on a bit\n",
    "\n",
    "To turn on the i-th bit, we can OR the number with `1 << i`"
   ]
  },
  {
   "cell_type": "code",
   "execution_count": 31,
   "metadata": {},
   "outputs": [
    {
     "name": "stdout",
     "output_type": "stream",
     "text": [
      "5 in binary is 101\n",
      "\n",
      "7 in binary is 111\n",
      "37 in binary is 100101\n",
      "\n",
      "53 in binary is 110101\n"
     ]
    }
   ],
   "source": [
    "print_binary(5)\n",
    "print()\n",
    "\n",
    "print_binary(5 | 1 << 1) # turning on 1st bit\n",
    "print_binary(5 | 1 << 5) # turning on 5th bit\n",
    "\n",
    "print()\n",
    "print_binary(37 | 1 << 4) # turning on 4th bit"
   ]
  },
  {
   "cell_type": "markdown",
   "metadata": {},
   "source": [
    "### Turning off a bit\n",
    "\n",
    "To turn off the i-th bit, we can AND the number with `~(1 << i)`\n",
    "\n",
    "`~` is the bitwise NOT operator\n",
    "\n",
    "Hint:\n",
    "\n",
    "| dec | bin |\n",
    "|-----|-----|\n",
    "| `1 << 4` | `0010000` |\n",
    "| `~(1 << 4)` | `1101111` |\n"
   ]
  },
  {
   "cell_type": "code",
   "execution_count": 29,
   "metadata": {},
   "outputs": [
    {
     "name": "stdout",
     "output_type": "stream",
     "text": [
      "53 in binary is 110101\n",
      "\n",
      "49 in binary is 110001\n",
      "52 in binary is 110100\n"
     ]
    }
   ],
   "source": [
    "print_binary(53)\n",
    "\n",
    "print()\n",
    "print_binary(53 & ~(1 << 2)) # turning off 2nd bit\n",
    "print_binary(53 & ~(1 << 0)) # turning off 0th bit"
   ]
  },
  {
   "cell_type": "markdown",
   "metadata": {},
   "source": [
    "### Flipping a bit\n",
    "\n",
    "To flip the i-th bit, we can XOR the number with `1 << i`"
   ]
  },
  {
   "cell_type": "code",
   "execution_count": 33,
   "metadata": {},
   "outputs": [
    {
     "name": "stdout",
     "output_type": "stream",
     "text": [
      "53 in binary is 110101\n",
      "\n",
      "52 in binary is 110100\n",
      "55 in binary is 110111\n"
     ]
    }
   ],
   "source": [
    "print_binary(53)\n",
    "\n",
    "print()\n",
    "print_binary(53 ^ 1 << 0) # flipping 0th bit\n",
    "print_binary(53 ^ 1 << 1) # flipping 1st bit"
   ]
  },
  {
   "cell_type": "markdown",
   "metadata": {},
   "source": [
    "## Using Bitmap\n",
    "\n",
    "Let's see how we can use bitmaps to store the visited cities\n",
    "\n"
   ]
  },
  {
   "cell_type": "code",
   "execution_count": 10,
   "metadata": {},
   "outputs": [
    {
     "name": "stdout",
     "output_type": "stream",
     "text": [
      "True\n",
      "False\n"
     ]
    }
   ],
   "source": [
    "bit_visited = 0\n",
    "\n",
    "bit_visited |= 1 << 1\n",
    "bit_visited |= 1 << 5\n",
    "bit_visited |= 1 << 6\n",
    "bit_visited |= 1 << 8\n",
    "\n",
    "def is_visited(visited, city):\n",
    "    # O(1)\n",
    "    mask = 1 << city\n",
    "    return visited & mask != 0\n",
    "\n",
    "print(is_visited(bit_visited, 6))\n",
    "print(is_visited(bit_visited, 7))"
   ]
  },
  {
   "cell_type": "code",
   "execution_count": 12,
   "metadata": {},
   "outputs": [
    {
     "name": "stdout",
     "output_type": "stream",
     "text": [
      "bit_visited: 28 bytes\n"
     ]
    }
   ],
   "source": [
    "import sys\n",
    "\n",
    "print(f\"bit_visited: {sys.getsizeof(bit_visited)} bytes\")"
   ]
  },
  {
   "cell_type": "markdown",
   "metadata": {},
   "source": [
    "It only uses 28 bytes! While the boolean array uses 1136 bytes."
   ]
  },
  {
   "cell_type": "markdown",
   "metadata": {},
   "source": [
    "## Use Cases"
   ]
  },
  {
   "cell_type": "markdown",
   "metadata": {},
   "source": [
    "### Feature Toggle\n",
    "\n",
    "Let's say we have a feature toggle of 100 features, and we want to enable/disable them."
   ]
  },
  {
   "cell_type": "code",
   "execution_count": 35,
   "metadata": {},
   "outputs": [
    {
     "name": "stdout",
     "output_type": "stream",
     "text": [
      "Enable feature 1\n",
      "feature_flags: 0b10\n",
      "True\n",
      "\n",
      "Disable feature 1\n",
      "feature_flags: 0b0\n",
      "False\n",
      "\n",
      "Enable feature 10 and 20\n",
      "feature_flags: 0b100000000010000000000\n",
      "True\n",
      "True\n",
      "False\n"
     ]
    }
   ],
   "source": [
    "class FeatureFlags:\n",
    "    def __init__(self):\n",
    "        self.flags = 0\n",
    "\n",
    "    def enable_feature(self, feature_id):\n",
    "        self.flags |= (1 << feature_id)\n",
    "\n",
    "    def disable_feature(self, feature_id):\n",
    "        self.flags &= ~(1 << feature_id)\n",
    "    \n",
    "    def is_feature_enabled(self, feature_id):\n",
    "        mask = 1 << feature_id\n",
    "        return self.flags & mask != 0\n",
    "\n",
    "    def __str__(self):\n",
    "        return bin(self.flags)\n",
    "\n",
    "ff = FeatureFlags()\n",
    "print(\"Enable feature 1\")\n",
    "ff.enable_feature(1)\n",
    "print(f\"feature_flags: {ff}\")\n",
    "print(ff.is_feature_enabled(1))\n",
    "\n",
    "print()\n",
    "\n",
    "print(\"Disable feature 1\")\n",
    "ff.disable_feature(1)\n",
    "print(f\"feature_flags: {ff}\")\n",
    "print(ff.is_feature_enabled(1))\n",
    "\n",
    "print()\n",
    "\n",
    "print(\"Enable feature 10 and 20\")\n",
    "ff.enable_feature(10)\n",
    "ff.enable_feature(20)\n",
    "print(f\"feature_flags: {ff}\")\n",
    "print(ff.is_feature_enabled(10))\n",
    "print(ff.is_feature_enabled(20))\n",
    "print(ff.is_feature_enabled(30))\n",
    "\n"
   ]
  },
  {
   "cell_type": "markdown",
   "metadata": {},
   "source": [
    "## File Permission\n",
    "\n",
    "Are you familiar with `chmod`?\n",
    "\n",
    "`chmod 755 file.txt`\n",
    "\n",
    "What's the meaning of that 755? It's a bitmap representation of file permission!\n",
    "\n",
    "Let's try [here](https://ss64.com/bash/chmod.html)\n"
   ]
  },
  {
   "cell_type": "markdown",
   "metadata": {},
   "source": [
    "### All Subsets\n",
    "\n",
    "The unique sequence of bits can be used to represent a subset of a set.\n",
    "\n",
    "Let's do a simple counting:\n",
    "```bash\n",
    "000\n",
    "001\n",
    "010\n",
    "011\n",
    "100\n",
    "101\n",
    "110\n",
    "111\n",
    "```\n",
    "\n",
    "If we label each bit:\n",
    "\n",
    "```bash\n",
    "ABC\n",
    "000 # none of them\n",
    "001 # C\n",
    "010 # B\n",
    "011 # BC\n",
    "100 # A\n",
    "101 # AC\n",
    "110 # AB\n",
    "111 # ABC\n",
    "```\n",
    "\n",
    "So, given a set, to return all subsets, we can just iterate from 0 to 2^n - 1 and check which bit is set.   "
   ]
  },
  {
   "cell_type": "code",
   "execution_count": 37,
   "metadata": {},
   "outputs": [
    {
     "name": "stdout",
     "output_type": "stream",
     "text": [
      "[]\n",
      "['A']\n",
      "['B']\n",
      "['A', 'B']\n",
      "['C']\n",
      "['A', 'C']\n",
      "['B', 'C']\n",
      "['A', 'B', 'C']\n"
     ]
    }
   ],
   "source": [
    "def subsets(groups):\n",
    "    for i in range(1 << len(groups)):\n",
    "        subset = []\n",
    "        for j in range(len(groups)):\n",
    "            if i & (1 << j):\n",
    "                subset.append(groups[j])\n",
    "        yield subset\n",
    "\n",
    "for subset in subsets([\"A\", \"B\", \"C\"]):\n",
    "    print(subset)\n"
   ]
  },
  {
   "cell_type": "markdown",
   "metadata": {},
   "source": [
    "### 8-Rooks\n",
    "\n",
    "In a chess board, we want to place 8 rooks such that no rook can attack another rook.\n",
    "\n",
    "How to check if a rook is occupying a column? The following is the slow way:"
   ]
  },
  {
   "cell_type": "code",
   "execution_count": null,
   "metadata": {},
   "outputs": [],
   "source": [
    "from typing import List\n",
    "\n",
    "boards: List[List[bool]] = []\n",
    "\n",
    "def is_valid(board: List[List[bool]], row: int, col: int) -> bool:\n",
    "    # check whether there is a rook in the same row\n",
    "    for c in range(col):\n",
    "        if board[row][c]:\n",
    "            return False\n",
    "    # check whether there is a rook in the same column\n",
    "    for r in range(row):\n",
    "        if board[r][col]:\n",
    "            return False\n",
    "    return True"
   ]
  },
  {
   "cell_type": "markdown",
   "metadata": {},
   "source": [
    "That's `O(n)`\n",
    "\n",
    "Using bitmap, we can do it in `O(1)`"
   ]
  },
  {
   "cell_type": "code",
   "execution_count": null,
   "metadata": {},
   "outputs": [],
   "source": [
    "row_visited: int = 0\n",
    "col_visited: int = 0\n",
    "\n",
    "def is_valid(row_visited: int, col_visited: int, row: int, col: int) -> bool:\n",
    "    # check whether there is a rook in the same row\n",
    "    if row_visited & (1 << row) != 0:\n",
    "        return False\n",
    "    # check whether there is a rook in the same column\n",
    "    if col_visited & (1 << col) != 0:\n",
    "        return False\n",
    "    return True"
   ]
  },
  {
   "cell_type": "markdown",
   "metadata": {},
   "source": [
    "When we have visited the col/row, we just mark it as visited."
   ]
  },
  {
   "cell_type": "code",
   "execution_count": null,
   "metadata": {},
   "outputs": [],
   "source": [
    "row_visited |= 1 << row\n",
    "col_visited |= 1 << col"
   ]
  },
  {
   "cell_type": "markdown",
   "metadata": {},
   "source": [
    "Complete solution:"
   ]
  },
  {
   "cell_type": "code",
   "execution_count": 18,
   "metadata": {},
   "outputs": [
    {
     "name": "stdout",
     "output_type": "stream",
     "text": [
      "40320\n"
     ]
    }
   ],
   "source": [
    "def solve_eight_rooks(n=8):\n",
    "    def solve(row, columns):\n",
    "        if row == n:\n",
    "            return 1\n",
    "        count = 0\n",
    "        for col in range(n):\n",
    "            if not (columns & (1 << col)):\n",
    "                count += solve(row + 1, columns | (1 << col))\n",
    "        return count\n",
    "\n",
    "    return solve(0, 0)\n",
    "\n",
    "print(solve_eight_rooks())"
   ]
  },
  {
   "cell_type": "markdown",
   "metadata": {},
   "source": [
    "## 8-Queens\n",
    "\n",
    "8-Queens is similar to 8-Rooks, but we need to check the diagonal as well:\n",
    "\n",
    "```python\n",
    "diag1_visited: int = 0\n",
    "diag2_visited: int = 0\n",
    "```"
   ]
  }
 ],
 "metadata": {
  "kernelspec": {
   "display_name": "env",
   "language": "python",
   "name": "python3"
  },
  "language_info": {
   "codemirror_mode": {
    "name": "ipython",
    "version": 3
   },
   "file_extension": ".py",
   "mimetype": "text/x-python",
   "name": "python",
   "nbconvert_exporter": "python",
   "pygments_lexer": "ipython3",
   "version": "3.11.1"
  }
 },
 "nbformat": 4,
 "nbformat_minor": 2
}
