{
 "cells": [
  {
   "cell_type": "raw",
   "metadata": {},
   "source": [
    "---\n",
    "title: Fenwick Tree\n",
    "format:\n",
    "  html:\n",
    "    toc: true\n",
    "    html-math-method: katex\n",
    "order: 10\n",
    "--- "
   ]
  },
  {
   "cell_type": "markdown",
   "metadata": {},
   "source": [
    "## Range Sum Query\n",
    "\n",
    "Given an frequency table, we want to be able to compute the sum of the frequencies in a given range.\n",
    "\n",
    "| Score | Frequency |\n",
    "|-------|-----------|\n",
    "| 0     | 3         |\n",
    "| 1     | 2         |\n",
    "| 2     | 1         |\n",
    "| 3     | 4         |\n",
    "| 4     | 5         |\n",
    "| 5     | 6         |\n",
    "| 6     | 7         |\n",
    "| 7     | 3         |\n",
    "\n",
    "\n",
    "How many have score between 2 and 5?\n",
    "\n",
    "`rsq(2, 5) = 1 + 4 + 5 + 6 = 16`\n",
    "\n"
   ]
  },
  {
   "cell_type": "markdown",
   "metadata": {},
   "source": [
    "## Naive Approach\n",
    "\n",
    "The naive approach is to iterate over the array and sum the elements from index `i` to index `j`."
   ]
  },
  {
   "cell_type": "code",
   "execution_count": 3,
   "metadata": {},
   "outputs": [
    {
     "name": "stdout",
     "output_type": "stream",
     "text": [
      "16\n",
      "10\n"
     ]
    }
   ],
   "source": [
    "data = [3, 2, 1, 4, 5, 6, 7, 3]\n",
    "\n",
    "def rsq(st, en):\n",
    "    return sum([data[i] for i in range(st, en+1)])\n",
    "\n",
    "print(rsq(2, 5)) # O(n)\n",
    "print(rsq(0, 3)) # O(n)\n"
   ]
  },
  {
   "cell_type": "markdown",
   "metadata": {},
   "source": [
    "But that's $O(n)$ time complexity.\n",
    "\n",
    "If we frequently need to perform range sum queries, then we need a better approach."
   ]
  },
  {
   "cell_type": "markdown",
   "metadata": {},
   "source": [
    "### Cummulative Frequency Table\n",
    "\n",
    "\n",
    "| Score | Frequency | Accumulated Frequency |\n",
    "|-------|-----------| --------------------- |\n",
    "| 0     | 3         | 3                     |\n",
    "| 1     | 2         | 5                     |\n",
    "| 2     | 1         | 6                     |\n",
    "| 3     | 4         | 10                    |\n",
    "| 4     | 5         | 15                    |\n",
    "| 5     | 6         | 21                    |\n",
    "| 6     | 7         | 28                    |\n",
    "| 7     | 3         | 31                    | \n",
    "\n",
    "\n",
    "We can precompute the cummulative frequency table, and then perform range sum queries in $O(1)$ time."
   ]
  },
  {
   "cell_type": "code",
   "execution_count": 4,
   "metadata": {},
   "outputs": [
    {
     "name": "stdout",
     "output_type": "stream",
     "text": [
      "16\n",
      "10\n"
     ]
    }
   ],
   "source": [
    "data = [3, 2, 1, 4, 5, 6, 7, 3]\n",
    "\n",
    "def precompute_accumulated_freq(data):\n",
    "    accum = [0] * len(data)\n",
    "    accum[0] = data[0]\n",
    "    for i in range(1, len(data)):\n",
    "        accum[i] = accum[i-1] + data[i]\n",
    "    return accum\n",
    "\n",
    "def rsq(accum, st, en):\n",
    "    return accum[en] - accum[st-1] if st > 0 else accum[en]\n",
    "\n",
    "accum = precompute_accumulated_freq(data) # O(n)\n",
    "print(rsq(accum, 2, 5)) # O(1)\n",
    "print(rsq(accum, 0, 3)) # O(1)"
   ]
  },
  {
   "cell_type": "markdown",
   "metadata": {},
   "source": [
    "## Dynamic Cumulative Frequency Table\n",
    "\n",
    "But what if the frequency table is dynamic? i.e. the frequency of a score can change.\n",
    "\n",
    "We can't precompute the cummulative frequency table anymore."
   ]
  },
  {
   "cell_type": "markdown",
   "metadata": {},
   "source": [
    "## Fenwick Tree"
   ]
  },
  {
   "cell_type": "code",
   "execution_count": 12,
   "metadata": {},
   "outputs": [],
   "source": [
    "class FenwickTree:\n",
    "    def __init__(self, data):\n",
    "        self.data = data\n",
    "        self.tree = [0] * (len(data) + 1)\n",
    "        for i in range(len(data)):\n",
    "            self.update(i, data[i])\n",
    "\n",
    "    def update(self, i, delta):\n",
    "        i += 1\n",
    "        while i < len(self.tree):\n",
    "            self.tree[i] += delta\n",
    "            i += i & -i\n",
    "\n",
    "    def rsq(self, st, en):\n",
    "        return self._sum(en) - self._sum(st-1) if st > 0 else self._sum(en)\n",
    "\n",
    "    def _sum(self, i):\n",
    "        i += 1\n",
    "        res = 0\n",
    "        while i > 0:\n",
    "            res += self.tree[i]\n",
    "            i -= i & -i\n",
    "        return res"
   ]
  },
  {
   "cell_type": "code",
   "execution_count": 16,
   "metadata": {},
   "outputs": [
    {
     "name": "stdout",
     "output_type": "stream",
     "text": [
      "16\n",
      "10\n",
      "16\n"
     ]
    }
   ],
   "source": [
    "data = [3, 2, 1, 4, 5, 6, 7, 3]\n",
    "tree = FenwickTree(data)\n",
    "print(tree.rsq(2, 5)) # O(log n)\n",
    "print(tree.rsq(0, 3)) # O(log n)\n",
    "\n",
    "tree.update(3, 6)\n",
    "print(tree.rsq(0, 3)) # O(log n)"
   ]
  }
 ],
 "metadata": {
  "kernelspec": {
   "display_name": "env",
   "language": "python",
   "name": "python3"
  },
  "language_info": {
   "codemirror_mode": {
    "name": "ipython",
    "version": 3
   },
   "file_extension": ".py",
   "mimetype": "text/x-python",
   "name": "python",
   "nbconvert_exporter": "python",
   "pygments_lexer": "ipython3",
   "version": "3.11.1"
  }
 },
 "nbformat": 4,
 "nbformat_minor": 2
}
