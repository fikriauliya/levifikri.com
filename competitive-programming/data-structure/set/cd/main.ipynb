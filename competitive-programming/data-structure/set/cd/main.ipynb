{
 "cells": [
  {
   "cell_type": "markdown",
   "metadata": {},
   "source": [
    "# CD"
   ]
  },
  {
   "cell_type": "markdown",
   "metadata": {},
   "source": [
    "## TLE"
   ]
  },
  {
   "cell_type": "code",
   "execution_count": null,
   "metadata": {},
   "outputs": [],
   "source": [
    "# https://open.kattis.com/contests/k6guuj/problems/cd\n",
    "\n",
    "while True:\n",
    "    n, m = map(int, input().split())\n",
    "    if n == 0 and m == 0:\n",
    "        break\n",
    "\n",
    "    a = set()\n",
    "    b = set()\n",
    "    for i in range(n):\n",
    "        a.add(int(input()))\n",
    "    for i in range(m):\n",
    "        b.add(int(input()))\n",
    "\n",
    "    print(len(a & b))\n"
   ]
  },
  {
   "cell_type": "markdown",
   "metadata": {},
   "source": [
    "## Use stdin\n",
    "\n",
    "It's faster than input()"
   ]
  },
  {
   "cell_type": "code",
   "execution_count": null,
   "metadata": {},
   "outputs": [],
   "source": [
    "# https://open.kattis.com/contests/k6guuj/problems/cd\n",
    "import sys\n",
    "\n",
    "while True:\n",
    "    n, m = map(int, sys.stdin.readline().split())\n",
    "    if n == 0 and m == 0:\n",
    "        break\n",
    "\n",
    "    a = set()\n",
    "    b = set()\n",
    "    for i in range(n):\n",
    "        a.add(int(sys.stdin.readline()))\n",
    "    for i in range(m):\n",
    "        b.add(int(sys.stdin.readline()))\n",
    "\n",
    "    print(len(a & b))"
   ]
  }
 ],
 "metadata": {
  "kernelspec": {
   "display_name": "Python 3",
   "language": "python",
   "name": "python3"
  },
  "language_info": {
   "codemirror_mode": {
    "name": "ipython",
    "version": 3
   },
   "file_extension": ".py",
   "mimetype": "text/x-python",
   "name": "python",
   "nbconvert_exporter": "python",
   "pygments_lexer": "ipython3",
   "version": "3.11.1"
  }
 },
 "nbformat": 4,
 "nbformat_minor": 2
}
