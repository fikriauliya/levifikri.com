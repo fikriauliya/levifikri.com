{
 "cells": [
  {
   "cell_type": "raw",
   "metadata": {},
   "source": [
    "---\n",
    "title: Heap\n",
    "format:\n",
    "  html:\n",
    "    toc: true\n",
    "    html-math-method: katex\n",
    "order: 9\n",
    "--- "
   ]
  },
  {
   "cell_type": "markdown",
   "metadata": {},
   "source": [
    "Heap is a special tree structure in which each parent node is less than or equal to its child node. Then it is called a Min Heap. \n",
    "\n",
    "If each parent node is greater than or equal to its child node then it is called a max heap. It is very useful is implementing priority queues where the queue item with higher weightage is given more priority in processing.\n",
    "\n",
    "<!-- heap picture from wikipedia -->\n",
    "![heap](https://upload.wikimedia.org/wikipedia/commons/thumb/3/38/Max-Heap.svg/220px-Max-Heap.svg.png)"
   ]
  },
  {
   "cell_type": "markdown",
   "metadata": {},
   "source": [
    "## Heap Representation\n",
    "\n",
    "Heap is a complete binary tree. A complete binary tree is a binary tree in which every level, except possibly the last, is completely filled, and all nodes are as far left as possible.\n",
    "\n",
    "Since a Heap is a complete binary tree, it can be easily represented as array and array based representation is space efficient.\n",
    "\n",
    "If the parent node is stored at index I, the left child can be calculated by $2 * I$ and right child by $2 * I + 1$ (assuming the indexing starts at 1).\n",
    "\n",
    "Let's visualize: [Heap Visualization](https://www.cs.usfca.edu/~galles/visualization/Heap.html)"
   ]
  },
  {
   "cell_type": "code",
   "execution_count": 6,
   "metadata": {},
   "outputs": [],
   "source": [
    "class MinHeap:\n",
    "    def __init__(self, size):\n",
    "        self.heap = [0] * (size + 1)\n",
    "        self.heap_size = 0\n",
    "\n",
    "    def left(self, i):\n",
    "        return 2 * i\n",
    "\n",
    "    def right(self, i):\n",
    "        return 2 * i + 1\n",
    "\n",
    "    def parent(self, i):\n",
    "        return i // 2\n",
    "\n",
    "    def insert(self, key):\n",
    "        if self.heap_size >= len(self.heap) - 1:\n",
    "            return \"Heap is full\"\n",
    "        \n",
    "        self.heap_size += 1\n",
    "        i = self.heap_size\n",
    "        self.heap[i] = key\n",
    "\n",
    "        while i > 1 and self.heap[self.parent(i)] > self.heap[i]:\n",
    "            self.heap[i], self.heap[self.parent(i)] = self.heap[self.parent(i)], self.heap[i]\n",
    "            i = self.parent(i)\n",
    "\n",
    "    def min_heapify(self, i):\n",
    "        left = self.left(i)\n",
    "        right = self.right(i)\n",
    "        smallest = i\n",
    "\n",
    "        if left <= self.heap_size and self.heap[left] < self.heap[i]:\n",
    "            smallest = left\n",
    "\n",
    "        if right <= self.heap_size and self.heap[right] < self.heap[smallest]:\n",
    "            smallest = right\n",
    "\n",
    "        if smallest != i:\n",
    "            self.heap[i], self.heap[smallest] = self.heap[smallest], self.heap[i]\n",
    "            self.min_heapify(smallest)\n",
    "\n",
    "    def extract_min(self):\n",
    "        if self.heap_size == 0:\n",
    "            return \"Heap is empty\"\n",
    "\n",
    "        root = self.heap[1]\n",
    "        self.heap[1] = self.heap[self.heap_size]\n",
    "        self.heap_size -= 1\n",
    "        self.min_heapify(1)\n",
    "\n",
    "        return root\n",
    "\n",
    "    def decrease_key(self, i, new_val):\n",
    "        self.heap[i] = new_val\n",
    "        while i > 1 and self.heap[self.parent(i)] > self.heap[i]:\n",
    "            self.heap[i], self.heap[self.parent(i)] = self.heap[self.parent(i)], self.heap[i]\n",
    "            i = self.parent(i)\n",
    "\n",
    "    def delete_key(self, i):\n",
    "        self.decrease_key(i, float('-inf'))\n",
    "        self.extract_min()\n",
    "    \n",
    "    def draw(self):\n",
    "        level = 0\n",
    "        next_level = 2 ** level\n",
    "        output = \"\"\n",
    "        \n",
    "        for i in range(1, self.heap_size + 1):\n",
    "            if i == next_level:\n",
    "                output += \"\\n\"\n",
    "                level += 1\n",
    "                next_level = 2 ** level\n",
    "\n",
    "            output += str(self.heap[i]) + \" \"\n",
    "\n",
    "        return output.strip()\n"
   ]
  },
  {
   "cell_type": "code",
   "execution_count": 15,
   "metadata": {},
   "outputs": [
    {
     "name": "stdout",
     "output_type": "stream",
     "text": [
      "Draw\n",
      "3 \n",
      "5 17 \n",
      "10 84\n",
      "\n",
      "Extract Min\n",
      "3\n",
      "\n",
      "Draw\n",
      "5 \n",
      "10 17 \n",
      "84\n",
      "\n",
      "Extract Min\n",
      "5\n",
      "\n",
      "Draw\n",
      "10 \n",
      "84 17\n",
      "\n"
     ]
    }
   ],
   "source": [
    "heap = MinHeap(15)\n",
    "heap.insert(5)\n",
    "heap.insert(3)\n",
    "heap.insert(17)\n",
    "heap.insert(10)\n",
    "heap.insert(84)\n",
    "\n",
    "# print(heap.extract_min())\n",
    "# print(heap.extract_min())\n",
    "# print(heap.extract_min())\n",
    "\n",
    "print(\"Draw\")\n",
    "print(heap.draw())\n",
    "print()\n",
    "\n",
    "print(\"Extract Min\")\n",
    "print(heap.extract_min())\n",
    "print()\n",
    "\n",
    "print(\"Draw\")\n",
    "print(heap.draw())\n",
    "print()\n",
    "\n",
    "print(\"Extract Min\")\n",
    "print(heap.extract_min())\n",
    "print()\n",
    "\n",
    "print(\"Draw\")\n",
    "print(heap.draw())\n",
    "print()"
   ]
  },
  {
   "cell_type": "markdown",
   "metadata": {},
   "source": [
    "## Complexity\n",
    "\n",
    "| Operation | Complexity |\n",
    "| --- | --- |\n",
    "| Insert | $O(log(n))$ |\n",
    "| Delete | $O(log(n))$ |\n",
    "| Peek | $O(1)$ |\n",
    "| Extract | $O(log(n))$ |\n",
    "| Find | $O(n)$ |\n",
    "\n",
    "The extract can be done in $O(log(n))$!\n"
   ]
  },
  {
   "cell_type": "markdown",
   "metadata": {},
   "source": [
    "## High Level Library\n",
    "\n",
    "In python, we can use `heapq` library to implement heap. It is a min heap implementation. We can use `heapq` to implement max heap by negating the values."
   ]
  },
  {
   "cell_type": "code",
   "execution_count": 19,
   "metadata": {},
   "outputs": [
    {
     "name": "stdout",
     "output_type": "stream",
     "text": [
      "3\n",
      "5\n",
      "10\n"
     ]
    }
   ],
   "source": [
    "# using heapq\n",
    "\n",
    "import heapq\n",
    "\n",
    "heap = []\n",
    "data = [5, 3, 17, 10, 84]\n",
    "for item in data:\n",
    "    heapq.heappush(heap, item)\n",
    "\n",
    "print(heapq.heappop(heap))\n",
    "print(heapq.heappop(heap))\n",
    "print(heapq.heappop(heap))"
   ]
  },
  {
   "cell_type": "code",
   "execution_count": 20,
   "metadata": {},
   "outputs": [
    {
     "name": "stdout",
     "output_type": "stream",
     "text": [
      "84\n",
      "17\n",
      "10\n"
     ]
    }
   ],
   "source": [
    "# max heap\n",
    "\n",
    "import heapq\n",
    "\n",
    "heap = []\n",
    "data = [5, 3, 17, 10, 84]\n",
    "for item in data:\n",
    "    heapq.heappush(heap, -item)\n",
    "\n",
    "print(-heapq.heappop(heap))\n",
    "print(-heapq.heappop(heap))\n",
    "print(-heapq.heappop(heap))"
   ]
  },
  {
   "cell_type": "markdown",
   "metadata": {},
   "source": [
    "## Real World Usage\n",
    "\n",
    "### Priority Queue\n",
    "\n",
    "Heap can be used to implement Priority Queue, i.e. a queue but not FIFO. The item with higher priority is processed first.\n",
    "\n",
    "Let's say we want to model a queue where the older person is served first irrespective of the age of person who came after, then we can use heap to implement this."
   ]
  },
  {
   "cell_type": "code",
   "execution_count": 25,
   "metadata": {},
   "outputs": [
    {
     "name": "stdout",
     "output_type": "stream",
     "text": [
      "Person(name='Dave', age=30)\n",
      "Person(name='John', age=25)\n",
      "Person(name='Alex', age=25)\n",
      "Person(name='Jane', age=20)\n"
     ]
    }
   ],
   "source": [
    "from dataclasses import dataclass\n",
    "\n",
    "@dataclass\n",
    "class Person:\n",
    "    name: str\n",
    "    age: int\n",
    "\n",
    "    def __lt__(self, other):\n",
    "        return self.age > other.age\n",
    "    \n",
    "heap = []\n",
    "persons = [Person(\"John\", 25), Person(\"Jane\", 20), Person(\"Dave\", 30), Person(\"Mike\", 15), Person(\"Alex\", 25)]\n",
    "\n",
    "for person in persons:\n",
    "    heapq.heappush(heap, person)\n",
    "\n",
    "print(heapq.heappop(heap))\n",
    "print(heapq.heappop(heap))\n",
    "print(heapq.heappop(heap))\n",
    "print(heapq.heappop(heap))\n",
    "\n"
   ]
  },
  {
   "cell_type": "markdown",
   "metadata": {},
   "source": [
    "### Cron Job\n",
    "\n",
    "Cron job is a job that is scheduled to run at a particular time or after a particular interval. Cron jobs are used in many places like backup, log rotation, etc.\n",
    "\n",
    "Cron jobs can be implemented using heap. We can store the cron jobs in a min heap and the top of the heap will be the next job to be executed."
   ]
  },
  {
   "cell_type": "code",
   "execution_count": 27,
   "metadata": {},
   "outputs": [
    {
     "name": "stdout",
     "output_type": "stream",
     "text": [
      "Job(start=1, name='B')\n",
      "Job(start=2, name='C')\n"
     ]
    }
   ],
   "source": [
    "from dataclasses import dataclass\n",
    "\n",
    "@dataclass\n",
    "class Job:\n",
    "    start: int\n",
    "    name: str\n",
    "\n",
    "    def __lt__(self, other):\n",
    "        return self.start < other.start\n",
    "    \n",
    "heap = []\n",
    "jobs = [Job(3, \"A\"), Job(1, \"B\"), Job(2, \"C\")]\n",
    "\n",
    "for job in jobs:\n",
    "    heapq.heappush(heap, job)\n",
    "\n",
    "print(heapq.heappop(heap))\n",
    "print(heapq.heappop(heap))"
   ]
  },
  {
   "cell_type": "markdown",
   "metadata": {},
   "source": [
    "### Heap Sort\n",
    "\n",
    "Sorting using heap is pretty simple. We can insert all the elements in the heap and then extract the elements one by one. The extracted elements will be sorted.\n",
    "\n",
    "This is $O(nlog(n))$ algorithm."
   ]
  },
  {
   "cell_type": "code",
   "execution_count": 4,
   "metadata": {},
   "outputs": [
    {
     "name": "stdout",
     "output_type": "stream",
     "text": [
      "[87, 12, 14, 9, 62, 25, 63, 26, 41, 40, 78, 24, 6, 42, 1, 50, 2, 80, 43, 1]\n",
      "[1, 1, 6, 2, 12, 24, 14, 9, 41, 40, 78, 87, 25, 42, 63, 50, 26, 80, 43, 62]\n",
      "[24, 52, 39, 7, 32, 71, 8, 58, 50, 74, 35, 47, 53, 83, 38, 68, 74, 26, 54, 57]\n",
      "[7, 8, 24, 26, 32, 35, 38, 39, 47, 50, 52, 53, 54, 57, 58, 68, 71, 74, 74, 83]\n"
     ]
    }
   ],
   "source": [
    "import random\n",
    "import heapq\n",
    "unsorted_data = [random.randint(0, 100) for i in range(20)]\n",
    "print(unsorted_data)\n",
    "\n",
    "heapq.heapify(unsorted_data)\n",
    "print(unsorted_data)\n",
    "\n",
    "unsorted_data = [random.randint(0, 100) for i in range(20)]\n",
    "print(unsorted_data)\n",
    "\n",
    "heap = []\n",
    "for data in unsorted_data:\n",
    "    heapq.heappush(heap, data)\n",
    "\n",
    "sorted_data = []\n",
    "for i in range(len(heap)):\n",
    "    sorted_data.append(heapq.heappop(heap))\n",
    "\n",
    "print(sorted_data)\n"
   ]
  }
 ],
 "metadata": {
  "kernelspec": {
   "display_name": "env",
   "language": "python",
   "name": "python3"
  },
  "language_info": {
   "codemirror_mode": {
    "name": "ipython",
    "version": 3
   },
   "file_extension": ".py",
   "mimetype": "text/x-python",
   "name": "python",
   "nbconvert_exporter": "python",
   "pygments_lexer": "ipython3",
   "version": "3.11.1"
  }
 },
 "nbformat": 4,
 "nbformat_minor": 2
}
