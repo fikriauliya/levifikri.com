{
 "cells": [
  {
   "cell_type": "raw",
   "metadata": {},
   "source": [
    "---\n",
    "title: Bloom Filter\n",
    "format:\n",
    "  html:\n",
    "    toc: true\n",
    "    html-math-method: katex\n",
    "order: 2\n",
    "--- "
   ]
  },
  {
   "cell_type": "markdown",
   "metadata": {},
   "source": [
    "Recall our goal in the previous session: given a data `d` and a collection `S`, we want an efficient way to know:\n",
    "\n",
    "- If `d` is in `S` (membership query)\n",
    "- Add `d` to `S` (insertion) while maintaining not duplicate in `S`\n",
    "\n",
    "### Bit Array\n",
    "\n",
    "We started from a bit array, e.g. `set([0, 1, 4])` can be represented as:\n",
    "\n",
    "```\n",
    "0 | 1 | 2 | 3 | 4 | 5 | 6 | 7\n",
    "-----------------------------\n",
    "1 | 1 | 0 | 0 | 1 | 0 | 0 | 0\n",
    "```\n",
    "\n",
    "When a new data `d` comes, we hash it to a bit position and set the bit to 1\n",
    "\n",
    "However, the problem is that we need the size of the bit array to be as large as the number of data we want to store. This is not efficient (sparse array)\n",
    "\n",
    "### Hash Function\n",
    "\n",
    "We then introduced a hash function that maps a data `d` to a bit position in the array, effectively compressing the array size \n",
    "\n",
    "(e.g. $h(x) = x \\mod 8$)\n",
    "\n",
    "`set([0, 1, 4, 15])` can be represented as:\n",
    "\n",
    "```\n",
    "0 | 1 | 2 | 3 | 4 | 5 | 6 | 7\n",
    "-----------------------------\n",
    "1 | 1 | 0 | 0 | 1 | 0 | 0 | 1\n",
    "```\n",
    "\n",
    "### Collision Handling \n",
    "\n",
    "But we have a problem: **collisions**. \n",
    "\n",
    "When two data `d1` and `d2` are mapped to the same bit position, we cannot distinguish them anymore. \n",
    "\n",
    "e.g. $h(8) = h(0) = 0$\n",
    "\n",
    "So that we now need to store the data in the array as well\n",
    "\n",
    "`set([0, 1, 4, 15, 8])` can be represented as:\n",
    "\n",
    "```\n",
    "0 | 1 | 2 | 3 | 4 | 5 | 6 | 7\n",
    "-----------------------------\n",
    "0 | 1 | _ | _ | 4 | _ | _ | 15\n",
    "8 |   |   |   |   |   |   |\n",
    "```\n",
    "\n",
    "But the smaller the array size, the more collisions we would have. If the array size is too small, the mapping table would effectively becomes a linked list:\n",
    "\n",
    "`set([0, 1, 4, 15, 8])` can be represented as:\n",
    "```\n",
    "0 | 1\n",
    "-----\n",
    "0 | 1\n",
    "4 | 15\n",
    "8 |\n",
    "```\n",
    "\n",
    "which now has `O(n)` lookup time (instead of `O(1)`)\n",
    "\n",
    "There is a trade-off between the array size and the number of collisions (and thus the lookup time) -> classic memory vs. time trade-off"
   ]
  },
  {
   "cell_type": "markdown",
   "metadata": {},
   "source": [
    "## Bloom Filter\n",
    "\n",
    "Bloom filter is a probabilistic data structure that solves the problem of memory vs. accuracy trade-off.\n",
    "\n",
    "The idea is - instead of only using one hash function - we use multiple hash functions to map a data `d` to multiple bit positions in the array.\n",
    "\n"
   ]
  },
  {
   "cell_type": "code",
   "execution_count": 1,
   "metadata": {},
   "outputs": [],
   "source": [
    "# This is just a simple hash function that takes a string and returns an integer.\n",
    "# Don't worry about the implementation details\n",
    "def h(x, i, filter_size):\n",
    "    h2 = lambda x: int.from_bytes(x.encode('utf-8'), 'little') % 7919\n",
    "    h3 = lambda x: int.from_bytes(x.encode('utf-8'), 'little') % 4933\n",
    "    return (hash(x) + i * h2(x) + i * i * h3(x)) % filter_size"
   ]
  },
  {
   "cell_type": "code",
   "execution_count": 8,
   "metadata": {},
   "outputs": [
    {
     "name": "stdout",
     "output_type": "stream",
     "text": [
      "9 4 1\n"
     ]
    }
   ],
   "source": [
    "h1 = h(\"Hello\", 0, 10)\n",
    "h2 = h(\"Hello\", 1, 10)\n",
    "h3 = h(\"Hello\", 2, 10)\n",
    "print(h1, h2, h3)"
   ]
  },
  {
   "cell_type": "markdown",
   "metadata": {},
   "source": [
    "So, \"hello\" is mapped to 3 hash values: `h1`, `h2`, `h3` and we set the corresponding bits to 1 (similar to the bit array approach)\n",
    "\n",
    "```\n",
    "0 | 1 | 2 | 3 | 4 | 5 | 6 | 7 | 8 | 9\n",
    "-------------------------------------\n",
    "0 | 1 | 0 | 0 | 1 | 0 | 0 | 0 | 0 | 1\n",
    "```"
   ]
  },
  {
   "cell_type": "markdown",
   "metadata": {},
   "source": [
    "To check whether \"hello\" is in the set, we check whether all the corresponding bits are 1. If not, we know that \"hello\" is not in the set. If yes, we know that \"hello\" is **probably** in the set (but not 100% sure)"
   ]
  },
  {
   "cell_type": "markdown",
   "metadata": {},
   "source": [
    "Let's store more data: \"world\"\n"
   ]
  },
  {
   "cell_type": "code",
   "execution_count": 10,
   "metadata": {},
   "outputs": [
    {
     "name": "stdout",
     "output_type": "stream",
     "text": [
      "8 1 2\n"
     ]
    }
   ],
   "source": [
    "h1 = h(\"alice\", 0, 10)\n",
    "h2 = h(\"alice\", 1, 10)\n",
    "h3 = h(\"alice\", 2, 10)\n",
    "print(h1, h2, h3)"
   ]
  },
  {
   "cell_type": "markdown",
   "metadata": {},
   "source": [
    "```\n",
    "0 | 1 | 2 | 3 | 4 | 5 | 6 | 7 | 8 | 9\n",
    "-------------------------------------\n",
    "0 | 1 | 1 | 0 | 1 | 0 | 0 | 0 | 1 | 1\n",
    "```\n"
   ]
  },
  {
   "cell_type": "markdown",
   "metadata": {},
   "source": [
    "Now, let's check whether \"bob\" is exist:"
   ]
  },
  {
   "cell_type": "code",
   "execution_count": 12,
   "metadata": {},
   "outputs": [
    {
     "name": "stdout",
     "output_type": "stream",
     "text": [
      "9 6 5\n"
     ]
    }
   ],
   "source": [
    "h1 = h(\"bob\", 0, 10)\n",
    "h2 = h(\"bob\", 1, 10)\n",
    "h3 = h(\"bob\", 2, 10)\n",
    "print(h1, h2, h3)"
   ]
  },
  {
   "cell_type": "markdown",
   "metadata": {},
   "source": [
    "Since bit 6 and 5 are 0, we are **sure** that \"bob\" is not in the set\n"
   ]
  },
  {
   "cell_type": "code",
   "execution_count": 14,
   "metadata": {},
   "outputs": [
    {
     "name": "stdout",
     "output_type": "stream",
     "text": [
      "4 5 2\n"
     ]
    }
   ],
   "source": [
    "h1 = h(\"catur\", 0, 10)\n",
    "h2 = h(\"catur\", 1, 10)\n",
    "h3 = h(\"catur\", 2, 10)\n",
    "print(h1, h2, h3)"
   ]
  },
  {
   "cell_type": "markdown",
   "metadata": {},
   "source": [
    "\"catur\" is also definitely not in the set (bit 5 is 0)"
   ]
  },
  {
   "cell_type": "code",
   "execution_count": 17,
   "metadata": {},
   "outputs": [
    {
     "name": "stdout",
     "output_type": "stream",
     "text": [
      "4 4 4\n"
     ]
    }
   ],
   "source": [
    "h1 = h(\"levi\", 0, 10)\n",
    "h2 = h(\"levi\", 1, 10)\n",
    "h3 = h(\"levi\", 2, 10)\n",
    "print(h1, h2, h3)"
   ]
  },
  {
   "cell_type": "markdown",
   "metadata": {},
   "source": [
    "Is \"levi\" in the set?\n",
    "\n",
    "Bit 4 are 1, so we can conclude that \"levi\" is **probably** in the set (it can be a false positive)"
   ]
  },
  {
   "cell_type": "markdown",
   "metadata": {},
   "source": [
    "## Type I and Type II Error\n",
    "\n",
    "| x              | Actual Positive | Actual Negative |\n",
    "|----------------|-----------------|-----------------|\n",
    "| Predicted True | True Positive   | False Positive  |\n",
    "| Predicted False| False Negative  | True Negative   |\n",
    "\n",
    "False Positive means: we predict it is positive, but it is actually negative\n",
    "\n",
    "Bloom Filter has no False Negative, but it has False Positive\n",
    "i.e. when Bloom Filter say:\n",
    "- it's not in the set -> it's definitely not in the set\n",
    "- it's in the set -> it's probably in the set"
   ]
  },
  {
   "cell_type": "markdown",
   "metadata": {},
   "source": [
    "## Full Implementation\n",
    "\n",
    "Note: this is just a conceptual implementation, not a production-ready implementation"
   ]
  },
  {
   "cell_type": "code",
   "execution_count": 19,
   "metadata": {},
   "outputs": [
    {
     "name": "stdout",
     "output_type": "stream",
     "text": [
      "True\n",
      "True\n",
      "False\n",
      "False\n"
     ]
    }
   ],
   "source": [
    "# This is just a simple hash function that takes a string and returns an integer.\n",
    "# Don't worry about the implementation details\n",
    "def h(x, i, filter_size):\n",
    "    h2 = lambda x: int.from_bytes(x.encode('utf-8'), 'little') % 7919\n",
    "    h3 = lambda x: int.from_bytes(x.encode('utf-8'), 'little') % 4933\n",
    "    return (hash(x) + i * h2(x) + i * i * h3(x)) % filter_size\n",
    "\n",
    "class BloomFilter:\n",
    "    def __init__(self, size):\n",
    "        self.size = size\n",
    "        self.filter = [0] * size\n",
    "\n",
    "    def add(self, item):\n",
    "        for i in range(3):  # we are using three hashes\n",
    "            index = h(item, i, self.size)\n",
    "            self.filter[index] = 1\n",
    "\n",
    "    def check(self, item):\n",
    "        for i in range(3):  # we are using three hashes\n",
    "            index = h(item, i, self.size)\n",
    "            if self.filter[index] == 0:\n",
    "                return False  # definitely not present\n",
    "        return True  # possibly present\n",
    "\n",
    "# Usage\n",
    "bloom_size = 1000\n",
    "bloom_filter = BloomFilter(bloom_size)\n",
    "\n",
    "# Add some elements\n",
    "bloom_filter.add(\"apple\")\n",
    "bloom_filter.add(\"banana\")\n",
    "\n",
    "# Check for elements\n",
    "print(bloom_filter.check(\"apple\"))  \n",
    "print(bloom_filter.check(\"banana\")) \n",
    "print(bloom_filter.check(\"cherry\")) \n",
    "print(bloom_filter.check(\"durian\"))"
   ]
  },
  {
   "cell_type": "markdown",
   "metadata": {},
   "source": [
    "Note that, in a normal Bloom Filter implementation, we can't remove an element from the set"
   ]
  },
  {
   "cell_type": "markdown",
   "metadata": {},
   "source": [
    "## Complexity\n",
    "\n",
    "- Space: `O(m)` where `m` is the size of the bit array, `m` can be << `n` (the number of data)\n",
    "- Lookup: `O(k)` where `k` is the number of hash functions"
   ]
  },
  {
   "cell_type": "markdown",
   "metadata": {},
   "source": [
    "## Optimal Parameters\n",
    "\n",
    "The ideal values for `m` and `k` in a Bloom filter, where:\n",
    "\n",
    "- `m` is the size of the bit array.\n",
    "- `k` is the number of hash functions.\n",
    "\n",
    "are dependent on two factors:\n",
    "\n",
    "1. The number of elements to be inserted into the Bloom filter, denoted as `n`.\n",
    "2. The acceptable false positive probability, denoted as `p`.\n",
    "\n",
    "For the optimal number of hash functions `k`, the formula is:\n",
    "\n",
    "$$k = \\frac{m}{n} \\ln 2$$\n",
    "\n",
    "This is derived from the fact that the false positive rate is minimized when each of the `k` hash functions maps an inserted element to a bit that is set to 1 with the probability `1/2`.\n",
    "\n",
    "For the size of the bit array `m`, given the desired false positive probability `p`, the formula is:\n",
    "\n",
    "$$m = -\\frac{n \\ln p}{(\\ln 2)^2}$$\n",
    "\n",
    "These equations are derived from the analysis that aims to minimize the probability of false positives.\n"
   ]
  },
  {
   "cell_type": "markdown",
   "metadata": {},
   "source": [
    "## Use Cases\n",
    "\n",
    "![](https://upload.wikimedia.org/wikipedia/commons/thumb/c/c4/Bloom_filter_speed.svg/720px-Bloom_filter_speed.svg.png)\n",
    "\n",
    "Source: Wikipedia\n",
    "\n",
    "### Weak Password Detection\n",
    "\n",
    "Weak passwords can be stored in a Bloom Filter. When a user tries to register a new password, we can check whether it is in the Bloom Filter.\n",
    "- If yes, we can reject the password (or double check)\n",
    "- If no, it is not a weak password \n",
    "\n",
    "### Used Username Detection\n",
    "\n",
    "We store all the used usernames in a Bloom Filter. When a user tries to register a new username, we can check whether it is in the Bloom Filter.\n",
    "- If yes, we can double check to database whether it is really used \n",
    "- If no, it is not a used username, we can safely register it\n",
    "\n",
    "### Malicious URL Detection\n",
    "\n",
    "Chrome used to use Bloom Filter to detect malicious URLs. When a user tries to visit a URL, Chrome can check whether it is in the Bloom Filter.\n",
    "- If yes, it probably a malicious URL, Chrome can warn the user (or double check)\n",
    "- If no, it is not a malicious URL, Chrome can safely visit it"
   ]
  },
  {
   "cell_type": "markdown",
   "metadata": {},
   "source": [
    "### Database\n",
    "\n",
    "In databases, Bloom filters are used to reduce the disk lookups for non-existing rows or columns. They can quickly tell if a given data is not present in the database, thereby saving costly disk access."
   ]
  },
  {
   "cell_type": "markdown",
   "metadata": {},
   "source": [
    "## Spell Checker\n",
    "\n",
    "Bloom filters can be used to reduce the size of the dictionary, allowing for quick lookups to see if a word is in the dictionary or definitely not.\n",
    "- If yes, it's probably a word\n",
    "- If no, we can warn the user that the word is not in the dictionary"
   ]
  }
 ],
 "metadata": {
  "kernelspec": {
   "display_name": "Python 3",
   "language": "python",
   "name": "python3"
  },
  "language_info": {
   "codemirror_mode": {
    "name": "ipython",
    "version": 3
   },
   "file_extension": ".py",
   "mimetype": "text/x-python",
   "name": "python",
   "nbconvert_exporter": "python",
   "pygments_lexer": "ipython3",
   "version": "3.11.1"
  }
 },
 "nbformat": 4,
 "nbformat_minor": 2
}
