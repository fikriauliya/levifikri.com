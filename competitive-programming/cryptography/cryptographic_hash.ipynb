{
 "cells": [
  {
   "cell_type": "raw",
   "metadata": {},
   "source": [
    "---\n",
    "format:\n",
    "  html:\n",
    "    toc: true\n",
    "    html-math-method: katex\n",
    "order: 1\n",
    "--- "
   ]
  },
  {
   "cell_type": "markdown",
   "metadata": {},
   "source": [
    "# Cryptographic Hash"
   ]
  },
  {
   "cell_type": "markdown",
   "metadata": {},
   "source": [
    "## What is a hash function?\n",
    "\n",
    "A hash function is a function that takes an input of any length and returns a fixed size output. \n",
    "\n",
    "$$h: \\{0,1\\}^* \\rightarrow \\{0,1\\}^n$$\n",
    "\n",
    "e.g.\n",
    "\n",
    "Example of a hash parameter and output, with $n=8$.\n",
    "\n",
    "| Input | Output |\n",
    "| --- | --- |\n",
    "| 01010101110110101 | 10101010 |\n",
    "| 01 | 00101010 |\n",
    "| 1011101101010101010101010101010101010101010101 | 10101010 |\n",
    "\n",
    "So, the input can be of any length, but the output is always the same length."
   ]
  },
  {
   "cell_type": "markdown",
   "metadata": {},
   "source": [
    "## Non cryptographic hash\n",
    "\n",
    "Let's create a simple hash function\n"
   ]
  },
  {
   "cell_type": "code",
   "execution_count": 4,
   "metadata": {},
   "outputs": [],
   "source": [
    "def hash(num: int) -> int:\n",
    "    return num % 1000"
   ]
  },
  {
   "cell_type": "code",
   "execution_count": 8,
   "metadata": {},
   "outputs": [
    {
     "name": "stdout",
     "output_type": "stream",
     "text": [
      "983\n",
      "123\n",
      "122\n"
     ]
    }
   ],
   "source": [
    "print(hash(123983))\n",
    "print(hash(123))\n",
    "print(hash(293939393939393122))"
   ]
  },
  {
   "cell_type": "markdown",
   "metadata": {},
   "source": [
    "Regardless how long the input is, the output is always a number $[0, 1000)$, which fulfills the definition of a hash function\n",
    "\n",
    "$$h: \\{0,1\\}^* \\rightarrow \\{0,1\\}^n$$\n"
   ]
  },
  {
   "cell_type": "markdown",
   "metadata": {},
   "source": [
    "## Collision\n",
    "\n",
    "A collision happen when two different inputs produce the same output."
   ]
  },
  {
   "cell_type": "code",
   "execution_count": 9,
   "metadata": {},
   "outputs": [
    {
     "name": "stdout",
     "output_type": "stream",
     "text": [
      "983\n",
      "983\n"
     ]
    }
   ],
   "source": [
    "print(hash(123983))\n",
    "print(hash(983))"
   ]
  },
  {
   "cell_type": "markdown",
   "metadata": {},
   "source": [
    "Good hash function should have a low probability of collision. But - by definition - it is impossible to have a hash function that never collide (unless the output is the same size as the input)"
   ]
  },
  {
   "cell_type": "markdown",
   "metadata": {},
   "source": [
    "## One Way\n",
    "\n",
    "A hash function is one way if it is easy to compute the output from the input, but it is hard to compute the input from the output.\n",
    "\n",
    "The following is not a one way hash function:\n",
    "\n",
    "```python\n",
    "def hash_function(input):\n",
    "    return upper(input)\n",
    "```\n",
    "\n",
    "Well, it's pretty obvious that the input is `lower(output)`, so it's not one way.\n",
    "\n",
    "Another non one way hash function is: encryption algorithm. If you know the key, you can easily decrypt the output."
   ]
  },
  {
   "cell_type": "markdown",
   "metadata": {},
   "source": [
    "## Hash Applications\n"
   ]
  },
  {
   "cell_type": "markdown",
   "metadata": {},
   "source": [
    "### Password Storage\n",
    "\n",
    "|username | password |\n",
    "| --- | --- |\n",
    "| alice | 123456 |\n",
    "| bob | rahasia |\n",
    "| charlie | Password!|\n",
    "\n",
    "Oh, no! Don't store password in plain text, do you? Why not?\n",
    "\n",
    "- The database can be stolen, the whole world will know the passwords\n",
    "- We don't want the system administrator to know the password, do we?\n",
    "\n",
    "So, how to store it securely while still being able to authenticate the user?\n",
    "\n",
    "Use hash!\n",
    "\n",
    "|username | hash(password) |\n",
    "| --- | --- |\n",
    "| alice | 8237492392332892302183243 |\n",
    "| bob | 2837498234792109348923582 |\n",
    "| charlie | 490447284045892492384232 |\n",
    "\n",
    "Upon login, the system will hash the password and compare it with the stored hash.\n",
    "\n",
    "```python\n",
    "def check_password(username, password) -> bool:\n",
    "    stored_hash = get_stored_hash_from_db(username)\n",
    "    return stored_hash == hash(password)\n",
    "```\n",
    "\n",
    "It's not secure yet, we will discuss later why.\n",
    "\n",
    "\n",
    "> Q: Why not just encrypt the password?\n",
    "\n",
    "> A: Well, we can, but then we need to decrypt it to compare it with the input. So, the system administrator can still know the password."
   ]
  },
  {
   "cell_type": "markdown",
   "metadata": {},
   "source": [
    "### Checksum\n",
    "\n",
    "We can also use hash to check the integrity of a file, i.e. to check whether the file is corrupted/altered or not.\n",
    "\n",
    "Let's say the file contains the following text:\n",
    "\n",
    "```\n",
    "Hello! My name is Alice. I am a student studying computer science. I love cryptography!\n",
    "```\n",
    "\n",
    "We can calculate the hash of the file and store it in a separate file, e.g. `checksum.txt`\n",
    "\n",
    "```\n",
    "23885728283\n",
    "```\n",
    "\n",
    "If someone alter the file, e.g. by adding a period at the end of the file, the hash will be different.\n",
    "\n",
    "When we want to check the integrity of the file, we can calculate the hash of the file and compare it with the stored hash.\n",
    "\n",
    "```python\n",
    "def check_integrity(filename) -> bool:\n",
    "    stored_hash = get_stored_hash_from_file(filename)\n",
    "    return stored_hash == hash(filename)\n",
    "```\n",
    "\n",
    "Many websites provide the hash of the file so that you can check the integrity of the file you download, e.g. [OpenOffice](https://openoffice.apache.org/downloads.html)\n"
   ]
  },
  {
   "cell_type": "markdown",
   "metadata": {},
   "source": [
    "But is it secure? What if someone alter the file and also alter the stored hash? Hash is not secure if the attacker can alter both the file and the stored hash.\n",
    "\n",
    "We could use a digital signature to tackle this problem, but it's a topic for another day (or another course)."
   ]
  },
  {
   "cell_type": "markdown",
   "metadata": {},
   "source": [
    "## Attacks on Hash Functions\n"
   ]
  },
  {
   "cell_type": "markdown",
   "metadata": {},
   "source": [
    "### Preimage Attack\n",
    "\n",
    "Given a hash $h$ and a hash function $H$, it should be difficult to find a message $m$ such that $H(m) = h$.\n"
   ]
  },
  {
   "cell_type": "markdown",
   "metadata": {},
   "source": [
    "Let's say we have the following simple hash function"
   ]
  },
  {
   "cell_type": "code",
   "execution_count": 17,
   "metadata": {},
   "outputs": [],
   "source": [
    "def hash(s: str) -> int:\n",
    "    return sum([ord(c) for c in s]) % 1000\n",
    "\n",
    "secret = \"Password\"\n",
    "hashed = hash(secret)"
   ]
  },
  {
   "cell_type": "code",
   "execution_count": 18,
   "metadata": {},
   "outputs": [
    {
     "name": "stdout",
     "output_type": "stream",
     "text": [
      "851\n"
     ]
    }
   ],
   "source": [
    "print(hashed)"
   ]
  },
  {
   "cell_type": "markdown",
   "metadata": {},
   "source": [
    "Given that we know that $851$, can we find $m$?\n",
    "\n",
    "Yes*, we can try all possible values of $m$ until we find the one that produces $983$."
   ]
  },
  {
   "cell_type": "code",
   "execution_count": 20,
   "metadata": {},
   "outputs": [
    {
     "name": "stdout",
     "output_type": "stream",
     "text": [
      "Password cracked! It was: Password\n"
     ]
    }
   ],
   "source": [
    "common_passwords = [\"secret\", \"1234\", \"password\", \"Password\"]\n",
    "\n",
    "for guess in common_passwords:\n",
    "    if hash(guess) == hashed:\n",
    "        print(\"Password cracked! It was:\", guess)\n",
    "        break"
   ]
  },
  {
   "cell_type": "markdown",
   "metadata": {},
   "source": [
    "But, what if we don't the password is not in the common password list?\n",
    "\n",
    "We can find another message $m'$ that produces the same hash $h$ (i.e. find collision).\n",
    "\n",
    "Look at the previous hash function\n",
    "\n",
    "```python\n",
    "def hash(s: str) -> int:\n",
    "    return sum([ord(c) for c in s]) % 1000\n",
    "```\n",
    "\n",
    "Can we find a string `s` that produces the same hash as `851`?"
   ]
  },
  {
   "cell_type": "code",
   "execution_count": 31,
   "metadata": {},
   "outputs": [
    {
     "name": "stdout",
     "output_type": "stream",
     "text": [
      "a -> 97 | b -> 98 | c -> 99 | d -> 100 | e -> 101 | f -> 102 | g -> 103 | h -> 104 | i -> 105 | j -> 106 | k -> 107 | l -> 108 | m -> 109 | n -> 110 | o -> 111 | p -> 112 | q -> 113 | r -> 114 | s -> 115 | t -> 116 | u -> 117 | v -> 118 | w -> 119 | x -> 120 | y -> 121 | z -> 122 | "
     ]
    }
   ],
   "source": [
    "# draw ascii table of 'a' to 'z'\n",
    "for i in range(26):\n",
    "    print(chr(ord('a') + i) + \" -> \" + str(ord('a') + i), end=\" | \")\n"
   ]
  },
  {
   "cell_type": "markdown",
   "metadata": {},
   "source": [
    "Let's analyze, what characters should be chosen so that the sum of their ASCII values is equal to `851`?"
   ]
  },
  {
   "cell_type": "code",
   "execution_count": 30,
   "metadata": {},
   "outputs": [
    {
     "data": {
      "text/plain": [
       "851"
      ]
     },
     "execution_count": 30,
     "metadata": {},
     "output_type": "execute_result"
    }
   ],
   "source": [
    "hash(\"zzzzzzw\")"
   ]
  },
  {
   "cell_type": "markdown",
   "metadata": {},
   "source": [
    "Bingo! We found a collision!\n",
    "\n",
    "Since collision will happens, to prevent pre-image attack, we need to make sure that it's **computationally infeasible** to mount a pre-image attack.\n",
    "\n",
    "For a `n` bit hash, the complexity of pre-image attack is $O(2^n)$ (brute force). Modern hash function has a hash size of 256 bits, which means that the complexity of pre-image attack is $O(2^{256})$."
   ]
  },
  {
   "cell_type": "markdown",
   "metadata": {},
   "source": [
    "## Rainbow Table\n",
    "\n",
    "$O(2^n)$ seems to be a big number, but it's not impossible to mount a pre-image attack.\n",
    "\n",
    "Let's use the following hash function"
   ]
  },
  {
   "cell_type": "code",
   "execution_count": 4,
   "metadata": {},
   "outputs": [],
   "source": [
    "import hashlib\n",
    "\n",
    "def h(s: str) -> int:\n",
    "    # Encode the string into bytes\n",
    "    text_bytes = s.encode('utf-8')\n",
    "    hash_object = hashlib.md5(text_bytes)\n",
    "\n",
    "    # Get the hexadecimal representation of the MD5 hash\n",
    "    md5_hash = hash_object.hexdigest()\n",
    "\n",
    "    return md5_hash"
   ]
  },
  {
   "cell_type": "markdown",
   "metadata": {},
   "source": [
    "And we have the following users table:"
   ]
  },
  {
   "cell_type": "code",
   "execution_count": 23,
   "metadata": {},
   "outputs": [
    {
     "data": {
      "text/plain": [
       "[('Alice', '482c811da5d5b4bc6d497ffa98491e38'),\n",
       " ('Bob', 'e10adc3949ba59abbe56e057f20f883e'),\n",
       " ('Charlie', 'd8578edf8458ce06fbc5bb76a58c5ca4'),\n",
       " ('Diana', '5ebe2294ecd0e0f08eab7690d2a6ee69'),\n",
       " ('Eve', 'ccda1683d8c97f8f2dff2ea7d649b42c'),\n",
       " ('Frank', 'f25a2fc72690b780b2a14e140ef6a9e0')]"
      ]
     },
     "execution_count": 23,
     "metadata": {},
     "output_type": "execute_result"
    }
   ],
   "source": [
    "users = []\n",
    "\n",
    "users.append((\"Alice\", h(\"password123\")))\n",
    "users.append((\"Bob\", h(\"123456\")))\n",
    "users.append((\"Charlie\", h(\"qwerty\")))\n",
    "users.append((\"Diana\", h(\"secret\")))\n",
    "users.append((\"Eve\", h(\"aman\")))\n",
    "users.append((\"Frank\", h(\"iloveyou\")))\n",
    "\n",
    "users\n"
   ]
  },
  {
   "cell_type": "markdown",
   "metadata": {},
   "source": [
    "Can we crack the password of `Eve`?\n",
    "\n",
    "Using mere brute force, we need to try all possible passwords. Let's try"
   ]
  },
  {
   "cell_type": "code",
   "execution_count": 11,
   "metadata": {},
   "outputs": [
    {
     "data": {
      "text/plain": [
       "'aman'"
      ]
     },
     "execution_count": 11,
     "metadata": {},
     "output_type": "execute_result"
    }
   ],
   "source": [
    "def crack(hashed_password) -> str:\n",
    "    # it surely can be made recursive, but for simplicity we will use 4 nested loops\n",
    "    for c1 in range(26):\n",
    "        for c2 in range(26):\n",
    "            for c3 in range(26):\n",
    "                for c4 in range(26):\n",
    "                    guess = chr(ord('a') + c1) + chr(ord('a') + c2) + chr(ord('a') + c3) + chr(ord('a') + c4)\n",
    "                    hashed_guess = h(guess)\n",
    "                    # print(guess, hashed_guess)\n",
    "\n",
    "                    if hashed_password == hashed_guess:\n",
    "                        return guess\n",
    "    return None\n",
    "\n",
    "hashed_password = users[4][1]\n",
    "crack(hashed_password)\n"
   ]
  },
  {
   "cell_type": "markdown",
   "metadata": {},
   "source": [
    "Wow! We found the password of `Eve`!\n",
    "\n",
    "The complexity is `$O(26^4)`, which is not that big. That's why we are encouraged to use a long password and use alphanumeric characters."
   ]
  },
  {
   "cell_type": "code",
   "execution_count": 12,
   "metadata": {},
   "outputs": [
    {
     "name": "stdout",
     "output_type": "stream",
     "text": [
      "Number of characters: 4\n",
      "Character set size: 26\n",
      "Number of possible passwords: 456976\n",
      "\n",
      "Number of characters: 8\n",
      "Character set size: 52\n",
      "Number of possible passwords: 53459728531456\n",
      "\n",
      "Number of characters: 10\n",
      "Character set size: 62\n",
      "Number of possible passwords: 839299365868340224\n",
      "\n"
     ]
    }
   ],
   "source": [
    "number_of_characters = [4, 8, 10]\n",
    "character_sets_size = [26, 52, 62]\n",
    "\n",
    "for i in range(len(number_of_characters)):\n",
    "    print(\"Number of characters:\", number_of_characters[i])\n",
    "    print(\"Character set size:\", character_sets_size[i])\n",
    "    print(\"Number of possible passwords:\", character_sets_size[i] ** number_of_characters[i])\n",
    "    print(\"\")"
   ]
  },
  {
   "cell_type": "markdown",
   "metadata": {},
   "source": [
    "Ok, bruteforce attack seems infeasible, but what if we just try common/leaked passwords? People reuse password afterall."
   ]
  },
  {
   "cell_type": "code",
   "execution_count": 13,
   "metadata": {},
   "outputs": [],
   "source": [
    "known_password = [\n",
    "    \"password\", \"secure\", \"secret\", \"qwerty\", \"123456\", \"12345678\", \"12345\", \"iloveyou\", \"princess\", \"1234567\",\n",
    "]"
   ]
  },
  {
   "cell_type": "markdown",
   "metadata": {},
   "source": [
    "We can pre-calculate the hash of common passwords and store it in a table, this is called rainbow table."
   ]
  },
  {
   "cell_type": "code",
   "execution_count": 14,
   "metadata": {},
   "outputs": [
    {
     "name": "stdout",
     "output_type": "stream",
     "text": [
      "password 5f4dcc3b5aa765d61d8327deb882cf99\n",
      "secure 1c0b76fce779f78f51be339c49445c49\n",
      "secret 5ebe2294ecd0e0f08eab7690d2a6ee69\n",
      "qwerty d8578edf8458ce06fbc5bb76a58c5ca4\n",
      "123456 e10adc3949ba59abbe56e057f20f883e\n",
      "12345678 25d55ad283aa400af464c76d713c07ad\n",
      "12345 827ccb0eea8a706c4c34a16891f84e7b\n",
      "iloveyou f25a2fc72690b780b2a14e140ef6a9e0\n",
      "princess 8afa847f50a716e64932d995c8e7435a\n",
      "1234567 fcea920f7412b5da7be0cf42b8c93759\n"
     ]
    }
   ],
   "source": [
    "for password in known_password:\n",
    "    print(password, h(password))"
   ]
  },
  {
   "cell_type": "markdown",
   "metadata": {},
   "source": [
    "Given the following users table, can you crack the password of `Diana`?"
   ]
  },
  {
   "cell_type": "code",
   "execution_count": 15,
   "metadata": {},
   "outputs": [
    {
     "data": {
      "text/plain": [
       "[('Alice', '482c811da5d5b4bc6d497ffa98491e38'),\n",
       " ('Bob', 'e10adc3949ba59abbe56e057f20f883e'),\n",
       " ('Charlie', 'd8578edf8458ce06fbc5bb76a58c5ca4'),\n",
       " ('Diana', '5ebe2294ecd0e0f08eab7690d2a6ee69'),\n",
       " ('Eve', 'ccda1683d8c97f8f2dff2ea7d649b42c'),\n",
       " ('Frank', 'f25a2fc72690b780b2a14e140ef6a9e0')]"
      ]
     },
     "execution_count": 15,
     "metadata": {},
     "output_type": "execute_result"
    }
   ],
   "source": [
    "users"
   ]
  },
  {
   "cell_type": "markdown",
   "metadata": {},
   "source": [
    "Yes, just look up the rainbow table!\n",
    "\n",
    "Another problem with simply hashing password is that, if two users have the same password, they will have the same hash"
   ]
  },
  {
   "cell_type": "code",
   "execution_count": 24,
   "metadata": {},
   "outputs": [
    {
     "data": {
      "text/plain": [
       "[('Alice', '482c811da5d5b4bc6d497ffa98491e38'),\n",
       " ('Bob', 'e10adc3949ba59abbe56e057f20f883e'),\n",
       " ('Charlie', 'd8578edf8458ce06fbc5bb76a58c5ca4'),\n",
       " ('Diana', '5ebe2294ecd0e0f08eab7690d2a6ee69'),\n",
       " ('Eve', 'ccda1683d8c97f8f2dff2ea7d649b42c'),\n",
       " ('Frank', 'f25a2fc72690b780b2a14e140ef6a9e0'),\n",
       " ('Grace', 'd8578edf8458ce06fbc5bb76a58c5ca4')]"
      ]
     },
     "execution_count": 24,
     "metadata": {},
     "output_type": "execute_result"
    }
   ],
   "source": [
    "users.append((\"Grace\", h(\"qwerty\")))\n",
    "users"
   ]
  },
  {
   "cell_type": "markdown",
   "metadata": {},
   "source": [
    "Ooho, \"Charlie\" and \"Grace\" have the same password!"
   ]
  },
  {
   "cell_type": "markdown",
   "metadata": {},
   "source": [
    "## Salt\n",
    "\n",
    "The solution is to add a random string to the password before hashing it. This random string is called salt.\n",
    "\n",
    "So, rather than just `hash(password)`, we do `hash(salt + password)`"
   ]
  },
  {
   "cell_type": "code",
   "execution_count": 26,
   "metadata": {},
   "outputs": [
    {
     "data": {
      "text/plain": [
       "[('Alice', 'bef36a6b8abe65a1ca0017fb29ce389a'),\n",
       " ('Bob', '792a39b2d91e301c841b0b4e6dc11d06'),\n",
       " ('Charlie', 'db899b76a6609a8aac3dbd60a1962236'),\n",
       " ('Diana', '41ade3cb6140859235528f6b1c507850'),\n",
       " ('Eve', 'b42d96585e5c0a13eac7438a813d32bf'),\n",
       " ('Frank', '760f87a08cbe8f2316d283b41f9caf99'),\n",
       " ('Grace', 'db899b76a6609a8aac3dbd60a1962236')]"
      ]
     },
     "execution_count": 26,
     "metadata": {},
     "output_type": "execute_result"
    }
   ],
   "source": [
    "salt = \"supersecretsalt\"\n",
    "users_with_salt = []\n",
    "\n",
    "users_with_salt.append((\"Alice\", h(\"password123\" + salt)))\n",
    "users_with_salt.append((\"Bob\", h(\"123456\" + salt)))\n",
    "users_with_salt.append((\"Charlie\", h(\"qwerty\" + salt)))\n",
    "users_with_salt.append((\"Diana\", h(\"secret\" + salt)))\n",
    "users_with_salt.append((\"Eve\", h(\"aman\" + salt)))\n",
    "users_with_salt.append((\"Frank\", h(\"iloveyou\" + salt)))\n",
    "users_with_salt.append((\"Grace\", h(\"qwerty\" + salt)))\n",
    "users_with_salt"
   ]
  },
  {
   "cell_type": "markdown",
   "metadata": {},
   "source": [
    "Now, we can't mount a rainbow table attack anymore, since we don't know the salt.\n",
    "\n",
    "But what if we know the salt? Can we still mount a rainbow table attack? \n",
    "\n",
    "Yes!\n",
    "\n",
    "Just pre-calculate the hash of common passwords with the salt."
   ]
  },
  {
   "cell_type": "markdown",
   "metadata": {},
   "source": [
    "### Different salt for each user\n",
    "\n",
    "We missed one thing, the salt is the same for all users. So, if two users have the same password, they will have the same hash. And it is also susceptible to rainbow table attack.\n",
    "\n",
    "The solution is to use different salt for each user."
   ]
  },
  {
   "cell_type": "code",
   "execution_count": 28,
   "metadata": {},
   "outputs": [
    {
     "data": {
      "text/plain": [
       "[('Alice', 'bef36a6b8abe65a1ca0017fb29ce389a', 'supersecretsalt'),\n",
       " ('Bob', '155727303933b14ead7a48751f073166', '2839sdfsjkdfkl'),\n",
       " ('Charlie', '753d4d9815f30a4ed36b89ed1876565c', 'sdfjksdfjksdf'),\n",
       " ('Diana', '1dff7cfa2c56261f3e52e1120b2b564b', 'iou23u4iousod'),\n",
       " ('Eve', '6107eef0d46f7b3db6ae22e3ca45f4db', '23894798sdjkfskl'),\n",
       " ('Frank', '38a2d0871c9e925e7f6f03408fe665df', '89273klscdnkljkls'),\n",
       " ('Grace', 'f751c0d1057e2bbb30174091d69cd9f7', 'i2349iusdjfksf')]"
      ]
     },
     "execution_count": 28,
     "metadata": {},
     "output_type": "execute_result"
    }
   ],
   "source": [
    "users_with_salt = []\n",
    "\n",
    "salt = \"supersecretsalt\"\n",
    "users_with_salt.append((\"Alice\", h(\"password123\" + salt), salt))\n",
    "\n",
    "salt = \"2839sdfsjkdfkl\"\n",
    "users_with_salt.append((\"Bob\", h(\"123456\" + salt), salt))\n",
    "\n",
    "salt = \"sdfjksdfjksdf\"\n",
    "users_with_salt.append((\"Charlie\", h(\"qwerty\" + salt), salt))\n",
    "\n",
    "salt = \"iou23u4iousod\"\n",
    "users_with_salt.append((\"Diana\", h(\"secret\" + salt), salt))\n",
    "\n",
    "salt = \"23894798sdjkfskl\"\n",
    "users_with_salt.append((\"Eve\", h(\"aman\" + salt), salt))\n",
    "\n",
    "salt = \"89273klscdnkljkls\"\n",
    "users_with_salt.append((\"Frank\", h(\"iloveyou\" + salt), salt))\n",
    "\n",
    "salt = \"i2349iusdjfksf\"\n",
    "users_with_salt.append((\"Grace\", h(\"qwerty\" + salt), salt))\n",
    "\n",
    "users_with_salt"
   ]
  },
  {
   "cell_type": "markdown",
   "metadata": {},
   "source": [
    "Rainbow table becomes not effective anymore, since we need to pre-calculate the hash of common passwords with **each** salt.\n",
    "\n",
    "Bonus: Grace and Bob now have different hash!"
   ]
  },
  {
   "cell_type": "markdown",
   "metadata": {},
   "source": [
    "## BCrypt\n",
    "\n",
    "BCrypt is a password hashing function that is designed to be slow and expensive to compute. It is designed to be slow to prevent brute force attack.\n",
    "\n",
    "It's used by Devise, a popular authentication library for Ruby on Rails."
   ]
  },
  {
   "cell_type": "code",
   "execution_count": null,
   "metadata": {},
   "outputs": [],
   "source": [
    "!pip install bcrypt"
   ]
  },
  {
   "cell_type": "markdown",
   "metadata": {},
   "source": [
    "## Use Cases"
   ]
  },
  {
   "cell_type": "markdown",
   "metadata": {},
   "source": [
    "\n",
    "### Hashing Password "
   ]
  },
  {
   "cell_type": "code",
   "execution_count": 2,
   "metadata": {},
   "outputs": [
    {
     "name": "stdout",
     "output_type": "stream",
     "text": [
      "b'$2b$12$9wUZrRjuimKbqdz.uAR0UuDl5pCDLvbvqyZNXxEPoeqnGiM837HNG'\n"
     ]
    }
   ],
   "source": [
    "import bcrypt\n",
    "\n",
    "# Generate a salt\n",
    "salt = bcrypt.gensalt()\n",
    "\n",
    "# Hash a password for the first time\n",
    "password = b\"super secret password\"\n",
    "hashed = bcrypt.hashpw(password, salt)\n",
    "\n",
    "# Print the hashed password\n",
    "print(hashed)\n"
   ]
  },
  {
   "cell_type": "markdown",
   "metadata": {},
   "source": [
    "The `hashed` contains the salt and the hash of the password. This `hashed` value is stored in the database.\n",
    "\n",
    "| username | hashed |\n",
    "| --- | --- |\n",
    "| alice | $2b$12$9wUZrRjuimKbqdz.uAR0UuDl5pCDLvbvqyZNXxEPoeqnGiM837HNG |"
   ]
  },
  {
   "cell_type": "markdown",
   "metadata": {},
   "source": [
    "### Verifying Password"
   ]
  },
  {
   "cell_type": "code",
   "execution_count": 3,
   "metadata": {},
   "outputs": [
    {
     "name": "stdout",
     "output_type": "stream",
     "text": [
      "Login successful.\n"
     ]
    }
   ],
   "source": [
    "# retrieved from user input (in login form)\n",
    "password = b\"super secret password\"\n",
    "\n",
    "# retrieved from database\n",
    "hashed = b'$2b$12$9wUZrRjuimKbqdz.uAR0UuDl5pCDLvbvqyZNXxEPoeqnGiM837HNG'\n",
    "\n",
    "if bcrypt.checkpw(password, hashed):\n",
    "    print(\"Login successful.\")\n",
    "else:\n",
    "    print(\"Incorrect password.\")"
   ]
  }
 ],
 "metadata": {
  "kernelspec": {
   "display_name": "Python 3",
   "language": "python",
   "name": "python3"
  },
  "language_info": {
   "codemirror_mode": {
    "name": "ipython",
    "version": 3
   },
   "file_extension": ".py",
   "mimetype": "text/x-python",
   "name": "python",
   "nbconvert_exporter": "python",
   "pygments_lexer": "ipython3",
   "version": "3.11.1"
  }
 },
 "nbformat": 4,
 "nbformat_minor": 2
}
