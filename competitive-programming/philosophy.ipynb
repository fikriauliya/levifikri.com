{
 "cells": [
  {
   "cell_type": "raw",
   "metadata": {},
   "source": [
    "---\n",
    "title: Philosophy\n",
    "format:\n",
    "  html:\n",
    "    toc: true\n",
    "    html-math-method: katex\n",
    "order: 1\n",
    "---"
   ]
  },
  {
   "cell_type": "markdown",
   "metadata": {},
   "source": [
    "## Fun\n",
    "\n",
    "Coding is puzzle solving. Puzzle solving is fun\n",
    "\n",
    "## User Experience Mindset\n",
    "\n",
    "If user don't know how to use the software, it's not the user's fault, it's the software's fault.\n",
    "\n",
    "...It's software's creator's fault.\n",
    "\n",
    "\n",
    "If (most) students don't understand the material, it's not the students' fault, it's the teacher's fault.\n",
    "\n",
    "...It's my fault.\n",
    "\n",
    "## Accelerated Learning\n",
    "\n",
    "I strongly believe that many lecture materials can be condensed into a much shorter time.\n",
    "\n",
    "Here, I will try to condense the material as much as possible, so that you can learn the material in a much shorter time.\n",
    "\n",
    "The material will be in **intermediate** to **advanced** level. If you are a beginner, you can still learn the material, but you have to work harder.\n",
    "\n",
    "## Be Curious\n",
    "\n",
    "Be curious about everything, ask why, ask how, ask what if.\n",
    "\n",
    "## CP is a foundation knowledge\n",
    "\n",
    "Most CP concepts are not used in real life. But, they are the foundations of many other concepts.\n",
    "\n",
    "By knowing the foundation, you can learn other concepts much easier.\n",
    "\n",
    "This foundation will always be useful, regardless whether you are a Frontend, Backend, Fullstack, Infrastructure, Manager, etc\n",
    "\n",
    "## Learning by Doing\n",
    "\n",
    "You can't learn how to ride a bike by reading a book. You have to ride a bike.\n",
    "\n",
    "...You can't learn how to code by just listening to lectures. You have to code. "
   ]
  }
 ],
 "metadata": {
  "kernelspec": {
   "display_name": "env",
   "language": "python",
   "name": "python3"
  },
  "language_info": {
   "codemirror_mode": {
    "name": "ipython",
    "version": 3
   },
   "file_extension": ".py",
   "mimetype": "text/x-python",
   "name": "python",
   "nbconvert_exporter": "python",
   "pygments_lexer": "ipython3",
   "version": "3.11.1"
  }
 },
 "nbformat": 4,
 "nbformat_minor": 2
}
